{
  "nbformat": 4,
  "nbformat_minor": 0,
  "metadata": {
    "colab": {
      "name": "Task.ipynb",
      "provenance": [],
      "collapsed_sections": [],
      "authorship_tag": "ABX9TyMziSUAwmPcIbRJXlvYn6Jc",
      "include_colab_link": true
    },
    "kernelspec": {
      "name": "python3",
      "display_name": "Python 3"
    },
    "language_info": {
      "name": "python"
    }
  },
  "cells": [
    {
      "cell_type": "markdown",
      "metadata": {
        "id": "view-in-github",
        "colab_type": "text"
      },
      "source": [
        "<a href=\"https://colab.research.google.com/github/imran201khan/Data-Analytics-Task/blob/main/Task.ipynb\" target=\"_parent\"><img src=\"https://colab.research.google.com/assets/colab-badge.svg\" alt=\"Open In Colab\"/></a>"
      ]
    },
    {
      "cell_type": "code",
      "execution_count": 2,
      "metadata": {
        "id": "mSJPPcGgg_DP"
      },
      "outputs": [],
      "source": [
        "import numpy as np\n",
        "import pandas as pd"
      ]
    },
    {
      "cell_type": "code",
      "source": [
        "insurance=pd.read_csv(\"/content/insurance_data.csv\")\n",
        "employee=pd.read_csv(\"/content/employee_data.csv\")\n",
        "vonder=pd.read_csv(\"/content/vendor_data.csv\")"
      ],
      "metadata": {
        "id": "gt_lgRJrhQQl"
      },
      "execution_count": 3,
      "outputs": []
    },
    {
      "cell_type": "code",
      "source": [
        "insurance.head()"
      ],
      "metadata": {
        "colab": {
          "base_uri": "https://localhost:8080/",
          "height": 386
        },
        "id": "JAuH8h_ohlC3",
        "outputId": "ec1ae6ef-986e-4d8b-faf3-9453c82d683a"
      },
      "execution_count": 4,
      "outputs": [
        {
          "output_type": "execute_result",
          "data": {
            "text/plain": [
              "         TXN_DATE_TIME TRANSACTION_ID CUSTOMER_ID POLICY_NUMBER POLICY_EFF_DT  \\\n",
              "0  2020-06-01 00:00:00    TXN00000001   A00003822   PLC00008468    2015-06-23   \n",
              "1  2020-06-01 00:00:00    TXN00000002   A00008149   PLC00009594    2018-04-21   \n",
              "2  2020-06-01 00:00:00    TXN00000003   A00003172   PLC00007969    2019-10-03   \n",
              "3  2020-06-01 00:00:00    TXN00000004   A00007572   PLC00009292    2016-11-29   \n",
              "4  2020-06-01 00:00:00    TXN00000005   A00008173   PLC00000204    2011-12-26   \n",
              "\n",
              "      LOSS_DT   REPORT_DT INSURANCE_TYPE  PREMIUM_AMOUNT  CLAIM_AMOUNT  ...  \\\n",
              "0  2020-05-16  2020-05-21         Health          157.13          9000  ...   \n",
              "1  2020-05-13  2020-05-18       Property          141.71         26000  ...   \n",
              "2  2020-05-21  2020-05-26       Property          157.24         13000  ...   \n",
              "3  2020-05-14  2020-05-19         Health          172.87         16000  ...   \n",
              "4  2020-05-17  2020-05-22         Travel           88.53          3000  ...   \n",
              "\n",
              "  CLAIM_STATUS INCIDENT_SEVERITY AUTHORITY_CONTACTED ANY_INJURY  \\\n",
              "0            A        Major Loss              Police          0   \n",
              "1            A        Total Loss           Ambulance          1   \n",
              "2            A        Total Loss              Police          0   \n",
              "3            A        Minor Loss           Ambulance          0   \n",
              "4            A        Major Loss              Police          0   \n",
              "\n",
              "  POLICE_REPORT_AVAILABLE  INCIDENT_STATE   INCIDENT_CITY  \\\n",
              "0                       1              GA        Savannah   \n",
              "1                       0              AL      Montgomery   \n",
              "2                       1              CO  Grand Junction   \n",
              "3                       0              GA        Savannah   \n",
              "4                       1              TN       Nashville   \n",
              "\n",
              "  INCIDENT_HOUR_OF_THE_DAY    AGENT_ID  VENDOR_ID  \n",
              "0                        4  AGENT00413  VNDR00556  \n",
              "1                        0  AGENT00769  VNDR00592  \n",
              "2                       19  AGENT00883  VNDR00031  \n",
              "3                       12  AGENT00278  VNDR00075  \n",
              "4                       18  AGENT00636  VNDR00472  \n",
              "\n",
              "[5 rows x 38 columns]"
            ],
            "text/html": [
              "\n",
              "  <div id=\"df-78e66f23-54f5-4f32-ba92-ce3114444cbb\">\n",
              "    <div class=\"colab-df-container\">\n",
              "      <div>\n",
              "<style scoped>\n",
              "    .dataframe tbody tr th:only-of-type {\n",
              "        vertical-align: middle;\n",
              "    }\n",
              "\n",
              "    .dataframe tbody tr th {\n",
              "        vertical-align: top;\n",
              "    }\n",
              "\n",
              "    .dataframe thead th {\n",
              "        text-align: right;\n",
              "    }\n",
              "</style>\n",
              "<table border=\"1\" class=\"dataframe\">\n",
              "  <thead>\n",
              "    <tr style=\"text-align: right;\">\n",
              "      <th></th>\n",
              "      <th>TXN_DATE_TIME</th>\n",
              "      <th>TRANSACTION_ID</th>\n",
              "      <th>CUSTOMER_ID</th>\n",
              "      <th>POLICY_NUMBER</th>\n",
              "      <th>POLICY_EFF_DT</th>\n",
              "      <th>LOSS_DT</th>\n",
              "      <th>REPORT_DT</th>\n",
              "      <th>INSURANCE_TYPE</th>\n",
              "      <th>PREMIUM_AMOUNT</th>\n",
              "      <th>CLAIM_AMOUNT</th>\n",
              "      <th>...</th>\n",
              "      <th>CLAIM_STATUS</th>\n",
              "      <th>INCIDENT_SEVERITY</th>\n",
              "      <th>AUTHORITY_CONTACTED</th>\n",
              "      <th>ANY_INJURY</th>\n",
              "      <th>POLICE_REPORT_AVAILABLE</th>\n",
              "      <th>INCIDENT_STATE</th>\n",
              "      <th>INCIDENT_CITY</th>\n",
              "      <th>INCIDENT_HOUR_OF_THE_DAY</th>\n",
              "      <th>AGENT_ID</th>\n",
              "      <th>VENDOR_ID</th>\n",
              "    </tr>\n",
              "  </thead>\n",
              "  <tbody>\n",
              "    <tr>\n",
              "      <th>0</th>\n",
              "      <td>2020-06-01 00:00:00</td>\n",
              "      <td>TXN00000001</td>\n",
              "      <td>A00003822</td>\n",
              "      <td>PLC00008468</td>\n",
              "      <td>2015-06-23</td>\n",
              "      <td>2020-05-16</td>\n",
              "      <td>2020-05-21</td>\n",
              "      <td>Health</td>\n",
              "      <td>157.13</td>\n",
              "      <td>9000</td>\n",
              "      <td>...</td>\n",
              "      <td>A</td>\n",
              "      <td>Major Loss</td>\n",
              "      <td>Police</td>\n",
              "      <td>0</td>\n",
              "      <td>1</td>\n",
              "      <td>GA</td>\n",
              "      <td>Savannah</td>\n",
              "      <td>4</td>\n",
              "      <td>AGENT00413</td>\n",
              "      <td>VNDR00556</td>\n",
              "    </tr>\n",
              "    <tr>\n",
              "      <th>1</th>\n",
              "      <td>2020-06-01 00:00:00</td>\n",
              "      <td>TXN00000002</td>\n",
              "      <td>A00008149</td>\n",
              "      <td>PLC00009594</td>\n",
              "      <td>2018-04-21</td>\n",
              "      <td>2020-05-13</td>\n",
              "      <td>2020-05-18</td>\n",
              "      <td>Property</td>\n",
              "      <td>141.71</td>\n",
              "      <td>26000</td>\n",
              "      <td>...</td>\n",
              "      <td>A</td>\n",
              "      <td>Total Loss</td>\n",
              "      <td>Ambulance</td>\n",
              "      <td>1</td>\n",
              "      <td>0</td>\n",
              "      <td>AL</td>\n",
              "      <td>Montgomery</td>\n",
              "      <td>0</td>\n",
              "      <td>AGENT00769</td>\n",
              "      <td>VNDR00592</td>\n",
              "    </tr>\n",
              "    <tr>\n",
              "      <th>2</th>\n",
              "      <td>2020-06-01 00:00:00</td>\n",
              "      <td>TXN00000003</td>\n",
              "      <td>A00003172</td>\n",
              "      <td>PLC00007969</td>\n",
              "      <td>2019-10-03</td>\n",
              "      <td>2020-05-21</td>\n",
              "      <td>2020-05-26</td>\n",
              "      <td>Property</td>\n",
              "      <td>157.24</td>\n",
              "      <td>13000</td>\n",
              "      <td>...</td>\n",
              "      <td>A</td>\n",
              "      <td>Total Loss</td>\n",
              "      <td>Police</td>\n",
              "      <td>0</td>\n",
              "      <td>1</td>\n",
              "      <td>CO</td>\n",
              "      <td>Grand Junction</td>\n",
              "      <td>19</td>\n",
              "      <td>AGENT00883</td>\n",
              "      <td>VNDR00031</td>\n",
              "    </tr>\n",
              "    <tr>\n",
              "      <th>3</th>\n",
              "      <td>2020-06-01 00:00:00</td>\n",
              "      <td>TXN00000004</td>\n",
              "      <td>A00007572</td>\n",
              "      <td>PLC00009292</td>\n",
              "      <td>2016-11-29</td>\n",
              "      <td>2020-05-14</td>\n",
              "      <td>2020-05-19</td>\n",
              "      <td>Health</td>\n",
              "      <td>172.87</td>\n",
              "      <td>16000</td>\n",
              "      <td>...</td>\n",
              "      <td>A</td>\n",
              "      <td>Minor Loss</td>\n",
              "      <td>Ambulance</td>\n",
              "      <td>0</td>\n",
              "      <td>0</td>\n",
              "      <td>GA</td>\n",
              "      <td>Savannah</td>\n",
              "      <td>12</td>\n",
              "      <td>AGENT00278</td>\n",
              "      <td>VNDR00075</td>\n",
              "    </tr>\n",
              "    <tr>\n",
              "      <th>4</th>\n",
              "      <td>2020-06-01 00:00:00</td>\n",
              "      <td>TXN00000005</td>\n",
              "      <td>A00008173</td>\n",
              "      <td>PLC00000204</td>\n",
              "      <td>2011-12-26</td>\n",
              "      <td>2020-05-17</td>\n",
              "      <td>2020-05-22</td>\n",
              "      <td>Travel</td>\n",
              "      <td>88.53</td>\n",
              "      <td>3000</td>\n",
              "      <td>...</td>\n",
              "      <td>A</td>\n",
              "      <td>Major Loss</td>\n",
              "      <td>Police</td>\n",
              "      <td>0</td>\n",
              "      <td>1</td>\n",
              "      <td>TN</td>\n",
              "      <td>Nashville</td>\n",
              "      <td>18</td>\n",
              "      <td>AGENT00636</td>\n",
              "      <td>VNDR00472</td>\n",
              "    </tr>\n",
              "  </tbody>\n",
              "</table>\n",
              "<p>5 rows × 38 columns</p>\n",
              "</div>\n",
              "      <button class=\"colab-df-convert\" onclick=\"convertToInteractive('df-78e66f23-54f5-4f32-ba92-ce3114444cbb')\"\n",
              "              title=\"Convert this dataframe to an interactive table.\"\n",
              "              style=\"display:none;\">\n",
              "        \n",
              "  <svg xmlns=\"http://www.w3.org/2000/svg\" height=\"24px\"viewBox=\"0 0 24 24\"\n",
              "       width=\"24px\">\n",
              "    <path d=\"M0 0h24v24H0V0z\" fill=\"none\"/>\n",
              "    <path d=\"M18.56 5.44l.94 2.06.94-2.06 2.06-.94-2.06-.94-.94-2.06-.94 2.06-2.06.94zm-11 1L8.5 8.5l.94-2.06 2.06-.94-2.06-.94L8.5 2.5l-.94 2.06-2.06.94zm10 10l.94 2.06.94-2.06 2.06-.94-2.06-.94-.94-2.06-.94 2.06-2.06.94z\"/><path d=\"M17.41 7.96l-1.37-1.37c-.4-.4-.92-.59-1.43-.59-.52 0-1.04.2-1.43.59L10.3 9.45l-7.72 7.72c-.78.78-.78 2.05 0 2.83L4 21.41c.39.39.9.59 1.41.59.51 0 1.02-.2 1.41-.59l7.78-7.78 2.81-2.81c.8-.78.8-2.07 0-2.86zM5.41 20L4 18.59l7.72-7.72 1.47 1.35L5.41 20z\"/>\n",
              "  </svg>\n",
              "      </button>\n",
              "      \n",
              "  <style>\n",
              "    .colab-df-container {\n",
              "      display:flex;\n",
              "      flex-wrap:wrap;\n",
              "      gap: 12px;\n",
              "    }\n",
              "\n",
              "    .colab-df-convert {\n",
              "      background-color: #E8F0FE;\n",
              "      border: none;\n",
              "      border-radius: 50%;\n",
              "      cursor: pointer;\n",
              "      display: none;\n",
              "      fill: #1967D2;\n",
              "      height: 32px;\n",
              "      padding: 0 0 0 0;\n",
              "      width: 32px;\n",
              "    }\n",
              "\n",
              "    .colab-df-convert:hover {\n",
              "      background-color: #E2EBFA;\n",
              "      box-shadow: 0px 1px 2px rgba(60, 64, 67, 0.3), 0px 1px 3px 1px rgba(60, 64, 67, 0.15);\n",
              "      fill: #174EA6;\n",
              "    }\n",
              "\n",
              "    [theme=dark] .colab-df-convert {\n",
              "      background-color: #3B4455;\n",
              "      fill: #D2E3FC;\n",
              "    }\n",
              "\n",
              "    [theme=dark] .colab-df-convert:hover {\n",
              "      background-color: #434B5C;\n",
              "      box-shadow: 0px 1px 3px 1px rgba(0, 0, 0, 0.15);\n",
              "      filter: drop-shadow(0px 1px 2px rgba(0, 0, 0, 0.3));\n",
              "      fill: #FFFFFF;\n",
              "    }\n",
              "  </style>\n",
              "\n",
              "      <script>\n",
              "        const buttonEl =\n",
              "          document.querySelector('#df-78e66f23-54f5-4f32-ba92-ce3114444cbb button.colab-df-convert');\n",
              "        buttonEl.style.display =\n",
              "          google.colab.kernel.accessAllowed ? 'block' : 'none';\n",
              "\n",
              "        async function convertToInteractive(key) {\n",
              "          const element = document.querySelector('#df-78e66f23-54f5-4f32-ba92-ce3114444cbb');\n",
              "          const dataTable =\n",
              "            await google.colab.kernel.invokeFunction('convertToInteractive',\n",
              "                                                     [key], {});\n",
              "          if (!dataTable) return;\n",
              "\n",
              "          const docLinkHtml = 'Like what you see? Visit the ' +\n",
              "            '<a target=\"_blank\" href=https://colab.research.google.com/notebooks/data_table.ipynb>data table notebook</a>'\n",
              "            + ' to learn more about interactive tables.';\n",
              "          element.innerHTML = '';\n",
              "          dataTable['output_type'] = 'display_data';\n",
              "          await google.colab.output.renderOutput(dataTable, element);\n",
              "          const docLink = document.createElement('div');\n",
              "          docLink.innerHTML = docLinkHtml;\n",
              "          element.appendChild(docLink);\n",
              "        }\n",
              "      </script>\n",
              "    </div>\n",
              "  </div>\n",
              "  "
            ]
          },
          "metadata": {},
          "execution_count": 4
        }
      ]
    },
    {
      "cell_type": "code",
      "source": [
        "employee.shape,insurance.shape,vonder.shape"
      ],
      "metadata": {
        "colab": {
          "base_uri": "https://localhost:8080/"
        },
        "id": "GOWUSNSkh-fE",
        "outputId": "6ebf8a1a-51a0-4f1b-ca65-cc519c6ae1b9"
      },
      "execution_count": 5,
      "outputs": [
        {
          "output_type": "execute_result",
          "data": {
            "text/plain": [
              "((1200, 10), (10000, 38), (600, 7))"
            ]
          },
          "metadata": {},
          "execution_count": 5
        }
      ]
    },
    {
      "cell_type": "code",
      "source": [
        "employee.head()"
      ],
      "metadata": {
        "colab": {
          "base_uri": "https://localhost:8080/",
          "height": 337
        },
        "id": "d-_GHKKHkdZ6",
        "outputId": "a94e0079-189d-4acf-c41f-d56463b97df1"
      },
      "execution_count": 6,
      "outputs": [
        {
          "output_type": "execute_result",
          "data": {
            "text/plain": [
              "     AGENT_ID      AGENT_NAME DATE_OF_JOINING          ADDRESS_LINE1  \\\n",
              "0  AGENT00001       Ray Johns      1993-06-05       1402 Maggies Way   \n",
              "1  AGENT00002   Angelo Borjon      2005-12-27         414 Tanya Pass   \n",
              "2  AGENT00003  Candy Spellman      2003-09-02    606 National Street   \n",
              "3  AGENT00004      Mary Smith      2004-09-23  235 Hugh Thomas Drive   \n",
              "4  AGENT00005    Mildred Diaz      2011-06-21  3426 Broadview Street   \n",
              "\n",
              "  ADDRESS_LINE2              CITY STATE  POSTAL_CODE  EMP_ROUTING_NUMBER  \\\n",
              "0           NaN  Waterbury Center    VT         5677            34584958   \n",
              "1           NaN       Panama City    FL        32404           107363763   \n",
              "2          #306      Fayetteville    AR        72701            81744097   \n",
              "3           NaN       Panama City    FL        32404            67563771   \n",
              "4           NaN        Montgomery    AL        36110           114951317   \n",
              "\n",
              "      EMP_ACCT_NUMBER  \n",
              "0  HKUN51252328472585  \n",
              "1  OPIS19290040088204  \n",
              "2  YSCJ67489688482590  \n",
              "3  ZANG21285355574581  \n",
              "4  DZFS82244494451134  "
            ],
            "text/html": [
              "\n",
              "  <div id=\"df-42fbbecb-aa82-4b17-80d0-c7b828fa7a7c\">\n",
              "    <div class=\"colab-df-container\">\n",
              "      <div>\n",
              "<style scoped>\n",
              "    .dataframe tbody tr th:only-of-type {\n",
              "        vertical-align: middle;\n",
              "    }\n",
              "\n",
              "    .dataframe tbody tr th {\n",
              "        vertical-align: top;\n",
              "    }\n",
              "\n",
              "    .dataframe thead th {\n",
              "        text-align: right;\n",
              "    }\n",
              "</style>\n",
              "<table border=\"1\" class=\"dataframe\">\n",
              "  <thead>\n",
              "    <tr style=\"text-align: right;\">\n",
              "      <th></th>\n",
              "      <th>AGENT_ID</th>\n",
              "      <th>AGENT_NAME</th>\n",
              "      <th>DATE_OF_JOINING</th>\n",
              "      <th>ADDRESS_LINE1</th>\n",
              "      <th>ADDRESS_LINE2</th>\n",
              "      <th>CITY</th>\n",
              "      <th>STATE</th>\n",
              "      <th>POSTAL_CODE</th>\n",
              "      <th>EMP_ROUTING_NUMBER</th>\n",
              "      <th>EMP_ACCT_NUMBER</th>\n",
              "    </tr>\n",
              "  </thead>\n",
              "  <tbody>\n",
              "    <tr>\n",
              "      <th>0</th>\n",
              "      <td>AGENT00001</td>\n",
              "      <td>Ray Johns</td>\n",
              "      <td>1993-06-05</td>\n",
              "      <td>1402 Maggies Way</td>\n",
              "      <td>NaN</td>\n",
              "      <td>Waterbury Center</td>\n",
              "      <td>VT</td>\n",
              "      <td>5677</td>\n",
              "      <td>34584958</td>\n",
              "      <td>HKUN51252328472585</td>\n",
              "    </tr>\n",
              "    <tr>\n",
              "      <th>1</th>\n",
              "      <td>AGENT00002</td>\n",
              "      <td>Angelo Borjon</td>\n",
              "      <td>2005-12-27</td>\n",
              "      <td>414 Tanya Pass</td>\n",
              "      <td>NaN</td>\n",
              "      <td>Panama City</td>\n",
              "      <td>FL</td>\n",
              "      <td>32404</td>\n",
              "      <td>107363763</td>\n",
              "      <td>OPIS19290040088204</td>\n",
              "    </tr>\n",
              "    <tr>\n",
              "      <th>2</th>\n",
              "      <td>AGENT00003</td>\n",
              "      <td>Candy Spellman</td>\n",
              "      <td>2003-09-02</td>\n",
              "      <td>606 National Street</td>\n",
              "      <td>#306</td>\n",
              "      <td>Fayetteville</td>\n",
              "      <td>AR</td>\n",
              "      <td>72701</td>\n",
              "      <td>81744097</td>\n",
              "      <td>YSCJ67489688482590</td>\n",
              "    </tr>\n",
              "    <tr>\n",
              "      <th>3</th>\n",
              "      <td>AGENT00004</td>\n",
              "      <td>Mary Smith</td>\n",
              "      <td>2004-09-23</td>\n",
              "      <td>235 Hugh Thomas Drive</td>\n",
              "      <td>NaN</td>\n",
              "      <td>Panama City</td>\n",
              "      <td>FL</td>\n",
              "      <td>32404</td>\n",
              "      <td>67563771</td>\n",
              "      <td>ZANG21285355574581</td>\n",
              "    </tr>\n",
              "    <tr>\n",
              "      <th>4</th>\n",
              "      <td>AGENT00005</td>\n",
              "      <td>Mildred Diaz</td>\n",
              "      <td>2011-06-21</td>\n",
              "      <td>3426 Broadview Street</td>\n",
              "      <td>NaN</td>\n",
              "      <td>Montgomery</td>\n",
              "      <td>AL</td>\n",
              "      <td>36110</td>\n",
              "      <td>114951317</td>\n",
              "      <td>DZFS82244494451134</td>\n",
              "    </tr>\n",
              "  </tbody>\n",
              "</table>\n",
              "</div>\n",
              "      <button class=\"colab-df-convert\" onclick=\"convertToInteractive('df-42fbbecb-aa82-4b17-80d0-c7b828fa7a7c')\"\n",
              "              title=\"Convert this dataframe to an interactive table.\"\n",
              "              style=\"display:none;\">\n",
              "        \n",
              "  <svg xmlns=\"http://www.w3.org/2000/svg\" height=\"24px\"viewBox=\"0 0 24 24\"\n",
              "       width=\"24px\">\n",
              "    <path d=\"M0 0h24v24H0V0z\" fill=\"none\"/>\n",
              "    <path d=\"M18.56 5.44l.94 2.06.94-2.06 2.06-.94-2.06-.94-.94-2.06-.94 2.06-2.06.94zm-11 1L8.5 8.5l.94-2.06 2.06-.94-2.06-.94L8.5 2.5l-.94 2.06-2.06.94zm10 10l.94 2.06.94-2.06 2.06-.94-2.06-.94-.94-2.06-.94 2.06-2.06.94z\"/><path d=\"M17.41 7.96l-1.37-1.37c-.4-.4-.92-.59-1.43-.59-.52 0-1.04.2-1.43.59L10.3 9.45l-7.72 7.72c-.78.78-.78 2.05 0 2.83L4 21.41c.39.39.9.59 1.41.59.51 0 1.02-.2 1.41-.59l7.78-7.78 2.81-2.81c.8-.78.8-2.07 0-2.86zM5.41 20L4 18.59l7.72-7.72 1.47 1.35L5.41 20z\"/>\n",
              "  </svg>\n",
              "      </button>\n",
              "      \n",
              "  <style>\n",
              "    .colab-df-container {\n",
              "      display:flex;\n",
              "      flex-wrap:wrap;\n",
              "      gap: 12px;\n",
              "    }\n",
              "\n",
              "    .colab-df-convert {\n",
              "      background-color: #E8F0FE;\n",
              "      border: none;\n",
              "      border-radius: 50%;\n",
              "      cursor: pointer;\n",
              "      display: none;\n",
              "      fill: #1967D2;\n",
              "      height: 32px;\n",
              "      padding: 0 0 0 0;\n",
              "      width: 32px;\n",
              "    }\n",
              "\n",
              "    .colab-df-convert:hover {\n",
              "      background-color: #E2EBFA;\n",
              "      box-shadow: 0px 1px 2px rgba(60, 64, 67, 0.3), 0px 1px 3px 1px rgba(60, 64, 67, 0.15);\n",
              "      fill: #174EA6;\n",
              "    }\n",
              "\n",
              "    [theme=dark] .colab-df-convert {\n",
              "      background-color: #3B4455;\n",
              "      fill: #D2E3FC;\n",
              "    }\n",
              "\n",
              "    [theme=dark] .colab-df-convert:hover {\n",
              "      background-color: #434B5C;\n",
              "      box-shadow: 0px 1px 3px 1px rgba(0, 0, 0, 0.15);\n",
              "      filter: drop-shadow(0px 1px 2px rgba(0, 0, 0, 0.3));\n",
              "      fill: #FFFFFF;\n",
              "    }\n",
              "  </style>\n",
              "\n",
              "      <script>\n",
              "        const buttonEl =\n",
              "          document.querySelector('#df-42fbbecb-aa82-4b17-80d0-c7b828fa7a7c button.colab-df-convert');\n",
              "        buttonEl.style.display =\n",
              "          google.colab.kernel.accessAllowed ? 'block' : 'none';\n",
              "\n",
              "        async function convertToInteractive(key) {\n",
              "          const element = document.querySelector('#df-42fbbecb-aa82-4b17-80d0-c7b828fa7a7c');\n",
              "          const dataTable =\n",
              "            await google.colab.kernel.invokeFunction('convertToInteractive',\n",
              "                                                     [key], {});\n",
              "          if (!dataTable) return;\n",
              "\n",
              "          const docLinkHtml = 'Like what you see? Visit the ' +\n",
              "            '<a target=\"_blank\" href=https://colab.research.google.com/notebooks/data_table.ipynb>data table notebook</a>'\n",
              "            + ' to learn more about interactive tables.';\n",
              "          element.innerHTML = '';\n",
              "          dataTable['output_type'] = 'display_data';\n",
              "          await google.colab.output.renderOutput(dataTable, element);\n",
              "          const docLink = document.createElement('div');\n",
              "          docLink.innerHTML = docLinkHtml;\n",
              "          element.appendChild(docLink);\n",
              "        }\n",
              "      </script>\n",
              "    </div>\n",
              "  </div>\n",
              "  "
            ]
          },
          "metadata": {},
          "execution_count": 6
        }
      ]
    },
    {
      "cell_type": "code",
      "source": [
        "vonder.head()"
      ],
      "metadata": {
        "colab": {
          "base_uri": "https://localhost:8080/",
          "height": 206
        },
        "id": "i2CR446Rkg9t",
        "outputId": "0a314673-4fed-42a7-aed4-a611cca23b03"
      },
      "execution_count": 7,
      "outputs": [
        {
          "output_type": "execute_result",
          "data": {
            "text/plain": [
              "   VENDOR_ID              VENDOR_NAME                   ADDRESS_LINE1  \\\n",
              "0  VNDR00001  King, Proctor and Jones        2027 North Shannon Drive   \n",
              "1  VNDR00002               Garcia Ltd          5701 East Shirley Lane   \n",
              "2  VNDR00003               Cherry LLC            1217 Cottondale Road   \n",
              "3  VNDR00004              Mays-Benson  227 West Montgomery Cross Road   \n",
              "4  VNDR00005               Wilson PLC            23 North Hill Street   \n",
              "\n",
              "  ADDRESS_LINE2          CITY STATE  POSTAL_CODE  \n",
              "0            #5  Fayetteville    AR        72703  \n",
              "1           NaN    Montgomery    AL        36117  \n",
              "2           NaN    Montgomery    AL        36109  \n",
              "3          #736      Savannah    GA        31406  \n",
              "4           NaN     Nashville    TN        37210  "
            ],
            "text/html": [
              "\n",
              "  <div id=\"df-c8171f85-6633-4aae-9fe3-36909f384d90\">\n",
              "    <div class=\"colab-df-container\">\n",
              "      <div>\n",
              "<style scoped>\n",
              "    .dataframe tbody tr th:only-of-type {\n",
              "        vertical-align: middle;\n",
              "    }\n",
              "\n",
              "    .dataframe tbody tr th {\n",
              "        vertical-align: top;\n",
              "    }\n",
              "\n",
              "    .dataframe thead th {\n",
              "        text-align: right;\n",
              "    }\n",
              "</style>\n",
              "<table border=\"1\" class=\"dataframe\">\n",
              "  <thead>\n",
              "    <tr style=\"text-align: right;\">\n",
              "      <th></th>\n",
              "      <th>VENDOR_ID</th>\n",
              "      <th>VENDOR_NAME</th>\n",
              "      <th>ADDRESS_LINE1</th>\n",
              "      <th>ADDRESS_LINE2</th>\n",
              "      <th>CITY</th>\n",
              "      <th>STATE</th>\n",
              "      <th>POSTAL_CODE</th>\n",
              "    </tr>\n",
              "  </thead>\n",
              "  <tbody>\n",
              "    <tr>\n",
              "      <th>0</th>\n",
              "      <td>VNDR00001</td>\n",
              "      <td>King, Proctor and Jones</td>\n",
              "      <td>2027 North Shannon Drive</td>\n",
              "      <td>#5</td>\n",
              "      <td>Fayetteville</td>\n",
              "      <td>AR</td>\n",
              "      <td>72703</td>\n",
              "    </tr>\n",
              "    <tr>\n",
              "      <th>1</th>\n",
              "      <td>VNDR00002</td>\n",
              "      <td>Garcia Ltd</td>\n",
              "      <td>5701 East Shirley Lane</td>\n",
              "      <td>NaN</td>\n",
              "      <td>Montgomery</td>\n",
              "      <td>AL</td>\n",
              "      <td>36117</td>\n",
              "    </tr>\n",
              "    <tr>\n",
              "      <th>2</th>\n",
              "      <td>VNDR00003</td>\n",
              "      <td>Cherry LLC</td>\n",
              "      <td>1217 Cottondale Road</td>\n",
              "      <td>NaN</td>\n",
              "      <td>Montgomery</td>\n",
              "      <td>AL</td>\n",
              "      <td>36109</td>\n",
              "    </tr>\n",
              "    <tr>\n",
              "      <th>3</th>\n",
              "      <td>VNDR00004</td>\n",
              "      <td>Mays-Benson</td>\n",
              "      <td>227 West Montgomery Cross Road</td>\n",
              "      <td>#736</td>\n",
              "      <td>Savannah</td>\n",
              "      <td>GA</td>\n",
              "      <td>31406</td>\n",
              "    </tr>\n",
              "    <tr>\n",
              "      <th>4</th>\n",
              "      <td>VNDR00005</td>\n",
              "      <td>Wilson PLC</td>\n",
              "      <td>23 North Hill Street</td>\n",
              "      <td>NaN</td>\n",
              "      <td>Nashville</td>\n",
              "      <td>TN</td>\n",
              "      <td>37210</td>\n",
              "    </tr>\n",
              "  </tbody>\n",
              "</table>\n",
              "</div>\n",
              "      <button class=\"colab-df-convert\" onclick=\"convertToInteractive('df-c8171f85-6633-4aae-9fe3-36909f384d90')\"\n",
              "              title=\"Convert this dataframe to an interactive table.\"\n",
              "              style=\"display:none;\">\n",
              "        \n",
              "  <svg xmlns=\"http://www.w3.org/2000/svg\" height=\"24px\"viewBox=\"0 0 24 24\"\n",
              "       width=\"24px\">\n",
              "    <path d=\"M0 0h24v24H0V0z\" fill=\"none\"/>\n",
              "    <path d=\"M18.56 5.44l.94 2.06.94-2.06 2.06-.94-2.06-.94-.94-2.06-.94 2.06-2.06.94zm-11 1L8.5 8.5l.94-2.06 2.06-.94-2.06-.94L8.5 2.5l-.94 2.06-2.06.94zm10 10l.94 2.06.94-2.06 2.06-.94-2.06-.94-.94-2.06-.94 2.06-2.06.94z\"/><path d=\"M17.41 7.96l-1.37-1.37c-.4-.4-.92-.59-1.43-.59-.52 0-1.04.2-1.43.59L10.3 9.45l-7.72 7.72c-.78.78-.78 2.05 0 2.83L4 21.41c.39.39.9.59 1.41.59.51 0 1.02-.2 1.41-.59l7.78-7.78 2.81-2.81c.8-.78.8-2.07 0-2.86zM5.41 20L4 18.59l7.72-7.72 1.47 1.35L5.41 20z\"/>\n",
              "  </svg>\n",
              "      </button>\n",
              "      \n",
              "  <style>\n",
              "    .colab-df-container {\n",
              "      display:flex;\n",
              "      flex-wrap:wrap;\n",
              "      gap: 12px;\n",
              "    }\n",
              "\n",
              "    .colab-df-convert {\n",
              "      background-color: #E8F0FE;\n",
              "      border: none;\n",
              "      border-radius: 50%;\n",
              "      cursor: pointer;\n",
              "      display: none;\n",
              "      fill: #1967D2;\n",
              "      height: 32px;\n",
              "      padding: 0 0 0 0;\n",
              "      width: 32px;\n",
              "    }\n",
              "\n",
              "    .colab-df-convert:hover {\n",
              "      background-color: #E2EBFA;\n",
              "      box-shadow: 0px 1px 2px rgba(60, 64, 67, 0.3), 0px 1px 3px 1px rgba(60, 64, 67, 0.15);\n",
              "      fill: #174EA6;\n",
              "    }\n",
              "\n",
              "    [theme=dark] .colab-df-convert {\n",
              "      background-color: #3B4455;\n",
              "      fill: #D2E3FC;\n",
              "    }\n",
              "\n",
              "    [theme=dark] .colab-df-convert:hover {\n",
              "      background-color: #434B5C;\n",
              "      box-shadow: 0px 1px 3px 1px rgba(0, 0, 0, 0.15);\n",
              "      filter: drop-shadow(0px 1px 2px rgba(0, 0, 0, 0.3));\n",
              "      fill: #FFFFFF;\n",
              "    }\n",
              "  </style>\n",
              "\n",
              "      <script>\n",
              "        const buttonEl =\n",
              "          document.querySelector('#df-c8171f85-6633-4aae-9fe3-36909f384d90 button.colab-df-convert');\n",
              "        buttonEl.style.display =\n",
              "          google.colab.kernel.accessAllowed ? 'block' : 'none';\n",
              "\n",
              "        async function convertToInteractive(key) {\n",
              "          const element = document.querySelector('#df-c8171f85-6633-4aae-9fe3-36909f384d90');\n",
              "          const dataTable =\n",
              "            await google.colab.kernel.invokeFunction('convertToInteractive',\n",
              "                                                     [key], {});\n",
              "          if (!dataTable) return;\n",
              "\n",
              "          const docLinkHtml = 'Like what you see? Visit the ' +\n",
              "            '<a target=\"_blank\" href=https://colab.research.google.com/notebooks/data_table.ipynb>data table notebook</a>'\n",
              "            + ' to learn more about interactive tables.';\n",
              "          element.innerHTML = '';\n",
              "          dataTable['output_type'] = 'display_data';\n",
              "          await google.colab.output.renderOutput(dataTable, element);\n",
              "          const docLink = document.createElement('div');\n",
              "          docLink.innerHTML = docLinkHtml;\n",
              "          element.appendChild(docLink);\n",
              "        }\n",
              "      </script>\n",
              "    </div>\n",
              "  </div>\n",
              "  "
            ]
          },
          "metadata": {},
          "execution_count": 7
        }
      ]
    },
    {
      "cell_type": "markdown",
      "source": [
        "# **Task #1**\n",
        "\n",
        "**Merge the 3 dataset and create 1 view of data.\n",
        "You can merge insurance_data.csv and employee_data.csv on\n",
        "AGENT_ID You can merge insurance_data.csv and vendor_data.csv on\n",
        "VENDOR_ID Note: Use left Outer join as not all claims require Vendor**"
      ],
      "metadata": {
        "id": "IFN4UvXqn3jn"
      }
    },
    {
      "cell_type": "code",
      "source": [
        "df1=insurance.merge(employee,how='inner',on='AGENT_ID')"
      ],
      "metadata": {
        "id": "04C_oXg9iDml"
      },
      "execution_count": 8,
      "outputs": []
    },
    {
      "cell_type": "code",
      "source": [
        "df=df1.merge(vonder,how='left',on='VENDOR_ID')"
      ],
      "metadata": {
        "id": "kzAcPlI2lQhz"
      },
      "execution_count": 9,
      "outputs": []
    },
    {
      "cell_type": "code",
      "source": [
        "df.head()"
      ],
      "metadata": {
        "colab": {
          "base_uri": "https://localhost:8080/",
          "height": 386
        },
        "id": "YpFl8-eqnPal",
        "outputId": "0affaf3b-01a0-4428-bbed-d6c963d9330f"
      },
      "execution_count": 10,
      "outputs": [
        {
          "output_type": "execute_result",
          "data": {
            "text/plain": [
              "         TXN_DATE_TIME TRANSACTION_ID CUSTOMER_ID POLICY_NUMBER POLICY_EFF_DT  \\\n",
              "0  2020-06-01 00:00:00    TXN00000001   A00003822   PLC00008468    2015-06-23   \n",
              "1  2020-06-10 00:00:00    TXN00000258   A00003072   PLC00008557    2014-02-15   \n",
              "2  2020-09-07 00:00:00    TXN00002428   A00001447   PLC00004391    2015-01-30   \n",
              "3  2020-09-22 00:00:00    TXN00002811   A00001822   PLC00009369    2012-08-22   \n",
              "4  2020-09-24 00:00:00    TXN00002861   A00006019   PLC00006747    2017-02-05   \n",
              "\n",
              "      LOSS_DT   REPORT_DT INSURANCE_TYPE  PREMIUM_AMOUNT  CLAIM_AMOUNT  ...  \\\n",
              "0  2020-05-16  2020-05-21         Health          157.13          9000  ...   \n",
              "1  2020-05-27  2020-06-01           Life           57.15         54000  ...   \n",
              "2  2020-08-23  2020-08-28           Life           65.06         13000  ...   \n",
              "3  2020-09-06  2020-09-11           Life           87.16         42000  ...   \n",
              "4  2020-09-14  2020-09-17         Mobile           11.85           500  ...   \n",
              "\n",
              "  STATE_y POSTAL_CODE_y EMP_ROUTING_NUMBER     EMP_ACCT_NUMBER VENDOR_NAME  \\\n",
              "0      TN         37217           35441155  LRZO53254369804934  Ramsey Inc   \n",
              "1      TN         37217           35441155  LRZO53254369804934         NaN   \n",
              "2      TN         37217           35441155  LRZO53254369804934         NaN   \n",
              "3      TN         37217           35441155  LRZO53254369804934         NaN   \n",
              "4      TN         37217           35441155  LRZO53254369804934   Lewis Ltd   \n",
              "\n",
              "           ADDRESS_LINE1 ADDRESS_LINE2         CITY  STATE  POSTAL_CODE  \n",
              "0   3114 West 20th Court           NaN  Panama City     FL      32405.0  \n",
              "1                    NaN           NaN          NaN    NaN          NaN  \n",
              "2                    NaN           NaN          NaN    NaN          NaN  \n",
              "3                    NaN           NaN          NaN    NaN          NaN  \n",
              "4  204 North Holt Street           NaN   Montgomery     AL      36104.0  \n",
              "\n",
              "[5 rows x 53 columns]"
            ],
            "text/html": [
              "\n",
              "  <div id=\"df-6599392d-d5c7-4bc6-b66f-2776269c91fb\">\n",
              "    <div class=\"colab-df-container\">\n",
              "      <div>\n",
              "<style scoped>\n",
              "    .dataframe tbody tr th:only-of-type {\n",
              "        vertical-align: middle;\n",
              "    }\n",
              "\n",
              "    .dataframe tbody tr th {\n",
              "        vertical-align: top;\n",
              "    }\n",
              "\n",
              "    .dataframe thead th {\n",
              "        text-align: right;\n",
              "    }\n",
              "</style>\n",
              "<table border=\"1\" class=\"dataframe\">\n",
              "  <thead>\n",
              "    <tr style=\"text-align: right;\">\n",
              "      <th></th>\n",
              "      <th>TXN_DATE_TIME</th>\n",
              "      <th>TRANSACTION_ID</th>\n",
              "      <th>CUSTOMER_ID</th>\n",
              "      <th>POLICY_NUMBER</th>\n",
              "      <th>POLICY_EFF_DT</th>\n",
              "      <th>LOSS_DT</th>\n",
              "      <th>REPORT_DT</th>\n",
              "      <th>INSURANCE_TYPE</th>\n",
              "      <th>PREMIUM_AMOUNT</th>\n",
              "      <th>CLAIM_AMOUNT</th>\n",
              "      <th>...</th>\n",
              "      <th>STATE_y</th>\n",
              "      <th>POSTAL_CODE_y</th>\n",
              "      <th>EMP_ROUTING_NUMBER</th>\n",
              "      <th>EMP_ACCT_NUMBER</th>\n",
              "      <th>VENDOR_NAME</th>\n",
              "      <th>ADDRESS_LINE1</th>\n",
              "      <th>ADDRESS_LINE2</th>\n",
              "      <th>CITY</th>\n",
              "      <th>STATE</th>\n",
              "      <th>POSTAL_CODE</th>\n",
              "    </tr>\n",
              "  </thead>\n",
              "  <tbody>\n",
              "    <tr>\n",
              "      <th>0</th>\n",
              "      <td>2020-06-01 00:00:00</td>\n",
              "      <td>TXN00000001</td>\n",
              "      <td>A00003822</td>\n",
              "      <td>PLC00008468</td>\n",
              "      <td>2015-06-23</td>\n",
              "      <td>2020-05-16</td>\n",
              "      <td>2020-05-21</td>\n",
              "      <td>Health</td>\n",
              "      <td>157.13</td>\n",
              "      <td>9000</td>\n",
              "      <td>...</td>\n",
              "      <td>TN</td>\n",
              "      <td>37217</td>\n",
              "      <td>35441155</td>\n",
              "      <td>LRZO53254369804934</td>\n",
              "      <td>Ramsey Inc</td>\n",
              "      <td>3114 West 20th Court</td>\n",
              "      <td>NaN</td>\n",
              "      <td>Panama City</td>\n",
              "      <td>FL</td>\n",
              "      <td>32405.0</td>\n",
              "    </tr>\n",
              "    <tr>\n",
              "      <th>1</th>\n",
              "      <td>2020-06-10 00:00:00</td>\n",
              "      <td>TXN00000258</td>\n",
              "      <td>A00003072</td>\n",
              "      <td>PLC00008557</td>\n",
              "      <td>2014-02-15</td>\n",
              "      <td>2020-05-27</td>\n",
              "      <td>2020-06-01</td>\n",
              "      <td>Life</td>\n",
              "      <td>57.15</td>\n",
              "      <td>54000</td>\n",
              "      <td>...</td>\n",
              "      <td>TN</td>\n",
              "      <td>37217</td>\n",
              "      <td>35441155</td>\n",
              "      <td>LRZO53254369804934</td>\n",
              "      <td>NaN</td>\n",
              "      <td>NaN</td>\n",
              "      <td>NaN</td>\n",
              "      <td>NaN</td>\n",
              "      <td>NaN</td>\n",
              "      <td>NaN</td>\n",
              "    </tr>\n",
              "    <tr>\n",
              "      <th>2</th>\n",
              "      <td>2020-09-07 00:00:00</td>\n",
              "      <td>TXN00002428</td>\n",
              "      <td>A00001447</td>\n",
              "      <td>PLC00004391</td>\n",
              "      <td>2015-01-30</td>\n",
              "      <td>2020-08-23</td>\n",
              "      <td>2020-08-28</td>\n",
              "      <td>Life</td>\n",
              "      <td>65.06</td>\n",
              "      <td>13000</td>\n",
              "      <td>...</td>\n",
              "      <td>TN</td>\n",
              "      <td>37217</td>\n",
              "      <td>35441155</td>\n",
              "      <td>LRZO53254369804934</td>\n",
              "      <td>NaN</td>\n",
              "      <td>NaN</td>\n",
              "      <td>NaN</td>\n",
              "      <td>NaN</td>\n",
              "      <td>NaN</td>\n",
              "      <td>NaN</td>\n",
              "    </tr>\n",
              "    <tr>\n",
              "      <th>3</th>\n",
              "      <td>2020-09-22 00:00:00</td>\n",
              "      <td>TXN00002811</td>\n",
              "      <td>A00001822</td>\n",
              "      <td>PLC00009369</td>\n",
              "      <td>2012-08-22</td>\n",
              "      <td>2020-09-06</td>\n",
              "      <td>2020-09-11</td>\n",
              "      <td>Life</td>\n",
              "      <td>87.16</td>\n",
              "      <td>42000</td>\n",
              "      <td>...</td>\n",
              "      <td>TN</td>\n",
              "      <td>37217</td>\n",
              "      <td>35441155</td>\n",
              "      <td>LRZO53254369804934</td>\n",
              "      <td>NaN</td>\n",
              "      <td>NaN</td>\n",
              "      <td>NaN</td>\n",
              "      <td>NaN</td>\n",
              "      <td>NaN</td>\n",
              "      <td>NaN</td>\n",
              "    </tr>\n",
              "    <tr>\n",
              "      <th>4</th>\n",
              "      <td>2020-09-24 00:00:00</td>\n",
              "      <td>TXN00002861</td>\n",
              "      <td>A00006019</td>\n",
              "      <td>PLC00006747</td>\n",
              "      <td>2017-02-05</td>\n",
              "      <td>2020-09-14</td>\n",
              "      <td>2020-09-17</td>\n",
              "      <td>Mobile</td>\n",
              "      <td>11.85</td>\n",
              "      <td>500</td>\n",
              "      <td>...</td>\n",
              "      <td>TN</td>\n",
              "      <td>37217</td>\n",
              "      <td>35441155</td>\n",
              "      <td>LRZO53254369804934</td>\n",
              "      <td>Lewis Ltd</td>\n",
              "      <td>204 North Holt Street</td>\n",
              "      <td>NaN</td>\n",
              "      <td>Montgomery</td>\n",
              "      <td>AL</td>\n",
              "      <td>36104.0</td>\n",
              "    </tr>\n",
              "  </tbody>\n",
              "</table>\n",
              "<p>5 rows × 53 columns</p>\n",
              "</div>\n",
              "      <button class=\"colab-df-convert\" onclick=\"convertToInteractive('df-6599392d-d5c7-4bc6-b66f-2776269c91fb')\"\n",
              "              title=\"Convert this dataframe to an interactive table.\"\n",
              "              style=\"display:none;\">\n",
              "        \n",
              "  <svg xmlns=\"http://www.w3.org/2000/svg\" height=\"24px\"viewBox=\"0 0 24 24\"\n",
              "       width=\"24px\">\n",
              "    <path d=\"M0 0h24v24H0V0z\" fill=\"none\"/>\n",
              "    <path d=\"M18.56 5.44l.94 2.06.94-2.06 2.06-.94-2.06-.94-.94-2.06-.94 2.06-2.06.94zm-11 1L8.5 8.5l.94-2.06 2.06-.94-2.06-.94L8.5 2.5l-.94 2.06-2.06.94zm10 10l.94 2.06.94-2.06 2.06-.94-2.06-.94-.94-2.06-.94 2.06-2.06.94z\"/><path d=\"M17.41 7.96l-1.37-1.37c-.4-.4-.92-.59-1.43-.59-.52 0-1.04.2-1.43.59L10.3 9.45l-7.72 7.72c-.78.78-.78 2.05 0 2.83L4 21.41c.39.39.9.59 1.41.59.51 0 1.02-.2 1.41-.59l7.78-7.78 2.81-2.81c.8-.78.8-2.07 0-2.86zM5.41 20L4 18.59l7.72-7.72 1.47 1.35L5.41 20z\"/>\n",
              "  </svg>\n",
              "      </button>\n",
              "      \n",
              "  <style>\n",
              "    .colab-df-container {\n",
              "      display:flex;\n",
              "      flex-wrap:wrap;\n",
              "      gap: 12px;\n",
              "    }\n",
              "\n",
              "    .colab-df-convert {\n",
              "      background-color: #E8F0FE;\n",
              "      border: none;\n",
              "      border-radius: 50%;\n",
              "      cursor: pointer;\n",
              "      display: none;\n",
              "      fill: #1967D2;\n",
              "      height: 32px;\n",
              "      padding: 0 0 0 0;\n",
              "      width: 32px;\n",
              "    }\n",
              "\n",
              "    .colab-df-convert:hover {\n",
              "      background-color: #E2EBFA;\n",
              "      box-shadow: 0px 1px 2px rgba(60, 64, 67, 0.3), 0px 1px 3px 1px rgba(60, 64, 67, 0.15);\n",
              "      fill: #174EA6;\n",
              "    }\n",
              "\n",
              "    [theme=dark] .colab-df-convert {\n",
              "      background-color: #3B4455;\n",
              "      fill: #D2E3FC;\n",
              "    }\n",
              "\n",
              "    [theme=dark] .colab-df-convert:hover {\n",
              "      background-color: #434B5C;\n",
              "      box-shadow: 0px 1px 3px 1px rgba(0, 0, 0, 0.15);\n",
              "      filter: drop-shadow(0px 1px 2px rgba(0, 0, 0, 0.3));\n",
              "      fill: #FFFFFF;\n",
              "    }\n",
              "  </style>\n",
              "\n",
              "      <script>\n",
              "        const buttonEl =\n",
              "          document.querySelector('#df-6599392d-d5c7-4bc6-b66f-2776269c91fb button.colab-df-convert');\n",
              "        buttonEl.style.display =\n",
              "          google.colab.kernel.accessAllowed ? 'block' : 'none';\n",
              "\n",
              "        async function convertToInteractive(key) {\n",
              "          const element = document.querySelector('#df-6599392d-d5c7-4bc6-b66f-2776269c91fb');\n",
              "          const dataTable =\n",
              "            await google.colab.kernel.invokeFunction('convertToInteractive',\n",
              "                                                     [key], {});\n",
              "          if (!dataTable) return;\n",
              "\n",
              "          const docLinkHtml = 'Like what you see? Visit the ' +\n",
              "            '<a target=\"_blank\" href=https://colab.research.google.com/notebooks/data_table.ipynb>data table notebook</a>'\n",
              "            + ' to learn more about interactive tables.';\n",
              "          element.innerHTML = '';\n",
              "          dataTable['output_type'] = 'display_data';\n",
              "          await google.colab.output.renderOutput(dataTable, element);\n",
              "          const docLink = document.createElement('div');\n",
              "          docLink.innerHTML = docLinkHtml;\n",
              "          element.appendChild(docLink);\n",
              "        }\n",
              "      </script>\n",
              "    </div>\n",
              "  </div>\n",
              "  "
            ]
          },
          "metadata": {},
          "execution_count": 10
        }
      ]
    },
    {
      "cell_type": "code",
      "source": [
        "insurance.columns"
      ],
      "metadata": {
        "colab": {
          "base_uri": "https://localhost:8080/"
        },
        "id": "wJvzpci0qAKS",
        "outputId": "b7e1aa6a-045b-4a2e-fe1c-1e976284f58b"
      },
      "execution_count": 11,
      "outputs": [
        {
          "output_type": "execute_result",
          "data": {
            "text/plain": [
              "Index(['TXN_DATE_TIME', 'TRANSACTION_ID', 'CUSTOMER_ID', 'POLICY_NUMBER',\n",
              "       'POLICY_EFF_DT', 'LOSS_DT', 'REPORT_DT', 'INSURANCE_TYPE',\n",
              "       'PREMIUM_AMOUNT', 'CLAIM_AMOUNT', 'CUSTOMER_NAME', 'ADDRESS_LINE1',\n",
              "       'ADDRESS_LINE2', 'CITY', 'STATE', 'POSTAL_CODE', 'SSN',\n",
              "       'MARITAL_STATUS', 'AGE', 'TENURE', 'EMPLOYMENT_STATUS',\n",
              "       'NO_OF_FAMILY_MEMBERS', 'RISK_SEGMENTATION', 'HOUSE_TYPE',\n",
              "       'SOCIAL_CLASS', 'ROUTING_NUMBER', 'ACCT_NUMBER',\n",
              "       'CUSTOMER_EDUCATION_LEVEL', 'CLAIM_STATUS', 'INCIDENT_SEVERITY',\n",
              "       'AUTHORITY_CONTACTED', 'ANY_INJURY', 'POLICE_REPORT_AVAILABLE',\n",
              "       'INCIDENT_STATE', 'INCIDENT_CITY', 'INCIDENT_HOUR_OF_THE_DAY',\n",
              "       'AGENT_ID', 'VENDOR_ID'],\n",
              "      dtype='object')"
            ]
          },
          "metadata": {},
          "execution_count": 11
        }
      ]
    },
    {
      "cell_type": "markdown",
      "source": [
        "# **Task #2**\n",
        "**Business Leader wants to find Top 3 Insurance Type where we are getting\n",
        "most insurance claims?**"
      ],
      "metadata": {
        "id": "mE-k__X9pMnk"
      }
    },
    {
      "cell_type": "markdown",
      "source": [
        "# **Solution:**\n",
        "\n",
        "**1.i will find the index of top 3 claims**\n",
        "\n",
        "**2.i will use those index in find claims**"
      ],
      "metadata": {
        "id": "prX87yd2rr_u"
      }
    },
    {
      "cell_type": "code",
      "source": [
        "idx=insurance['CLAIM_AMOUNT'].sort_values(ascending=False)[:3].index\n",
        "print(\"indexes of top 3 insurance claims are :\",idx)"
      ],
      "metadata": {
        "colab": {
          "base_uri": "https://localhost:8080/"
        },
        "id": "YoKrJ_U1pL-T",
        "outputId": "8f1075d1-f640-488a-cc56-06d66d1ba45a"
      },
      "execution_count": 12,
      "outputs": [
        {
          "output_type": "stream",
          "name": "stdout",
          "text": [
            "indexes of top 3 insurance claims are : Int64Index([6350, 7679, 4318], dtype='int64')\n"
          ]
        }
      ]
    },
    {
      "cell_type": "code",
      "source": [
        "print(\"Top 3 Insurance Type\\n\\n\",insurance.loc[idx,['INSURANCE_TYPE']])"
      ],
      "metadata": {
        "colab": {
          "base_uri": "https://localhost:8080/"
        },
        "id": "4R65dMEBoA_H",
        "outputId": "c998fe96-455b-4b42-e0cd-79735e4979e5"
      },
      "execution_count": 13,
      "outputs": [
        {
          "output_type": "stream",
          "name": "stdout",
          "text": [
            "Top 3 Insurance Type\n",
            "\n",
            "      INSURANCE_TYPE\n",
            "6350           Life\n",
            "7679           Life\n",
            "4318           Life\n"
          ]
        }
      ]
    },
    {
      "cell_type": "code",
      "source": [
        "print(\"Top 3 Insurance Type And Amount \\n\\n\",insurance.loc[idx,['INSURANCE_TYPE','CLAIM_AMOUNT']])"
      ],
      "metadata": {
        "colab": {
          "base_uri": "https://localhost:8080/"
        },
        "id": "u76u-9bqtnhn",
        "outputId": "59082dbf-cc6c-42e5-fc62-696a1801bb64"
      },
      "execution_count": 14,
      "outputs": [
        {
          "output_type": "stream",
          "name": "stdout",
          "text": [
            "Top 3 Insurance Type And Amount \n",
            "\n",
            "      INSURANCE_TYPE  CLAIM_AMOUNT\n",
            "6350           Life        100000\n",
            "7679           Life        100000\n",
            "4318           Life        100000\n"
          ]
        }
      ]
    },
    {
      "cell_type": "markdown",
      "source": [
        "# **Task #3** \n",
        "**Business Leader wants to find Top 5 States where we are getting most insurance claims for customer belonging to HIGH(H) risk segment?**\n",
        "\n",
        "# **Solution:** \n",
        "**1.i will find the index of most insurance claims for customer belonging to HIGH(H) risk**\n",
        "\n",
        "**i will use those index in find State** "
      ],
      "metadata": {
        "id": "V4xAAFAyudry"
      }
    },
    {
      "cell_type": "code",
      "source": [
        "idx=insurance[insurance['RISK_SEGMENTATION']==\"H\"]['CLAIM_AMOUNT'].sort_values(ascending=False)[:5].index\n",
        "print(\"Indexes of top 5 claim where RISK_SEGMENTATION == H are\\n\",idx)"
      ],
      "metadata": {
        "colab": {
          "base_uri": "https://localhost:8080/"
        },
        "id": "dqMMQOfmucYf",
        "outputId": "731b205d-50f5-4a56-d553-2966a9bf187b"
      },
      "execution_count": 15,
      "outputs": [
        {
          "output_type": "stream",
          "name": "stdout",
          "text": [
            "Indexes of top 5 claim where RISK_SEGMENTATION == H are\n",
            " Int64Index([4879, 8230, 3578, 8684, 2408], dtype='int64')\n"
          ]
        }
      ]
    },
    {
      "cell_type": "code",
      "source": [
        "print(\"Top 5 State \\n\\n\",insurance.loc[idx,['STATE']])"
      ],
      "metadata": {
        "colab": {
          "base_uri": "https://localhost:8080/"
        },
        "id": "XDEdAsZoxc_E",
        "outputId": "0259c262-a1f0-4478-bb16-1c4d470b8609"
      },
      "execution_count": 16,
      "outputs": [
        {
          "output_type": "stream",
          "name": "stdout",
          "text": [
            "Top 5 State \n",
            "\n",
            "      STATE\n",
            "4879    CA\n",
            "8230    AL\n",
            "3578    CT\n",
            "8684    DC\n",
            "2408    CT\n"
          ]
        }
      ]
    },
    {
      "cell_type": "code",
      "source": [
        "print(\"Top 5 Insurance  State And Amount with Risk SEGMENTATION \\n\\n\",insurance.loc[idx,['INSURANCE_TYPE','CLAIM_AMOUNT','RISK_SEGMENTATION']])"
      ],
      "metadata": {
        "colab": {
          "base_uri": "https://localhost:8080/"
        },
        "id": "6coHDFtHx1He",
        "outputId": "8db8fcdc-3808-4aa8-e898-54f3ba0a6d18"
      },
      "execution_count": 17,
      "outputs": [
        {
          "output_type": "stream",
          "name": "stdout",
          "text": [
            "Top 5 Insurance  State And Amount with Risk SEGMENTATION \n",
            "\n",
            "      INSURANCE_TYPE  CLAIM_AMOUNT RISK_SEGMENTATION\n",
            "4879           Life        100000                 H\n",
            "8230           Life         99000                 H\n",
            "3578           Life         99000                 H\n",
            "8684           Life         99000                 H\n",
            "2408           Life         99000                 H\n"
          ]
        }
      ]
    },
    {
      "cell_type": "markdown",
      "source": [
        "#**Task #4**\n",
        "**Business wants to create a new variable “COLOCATION” which will have following values IF Customer State == Incident State == Agent Address State THEN 1 ELSE 0 Find the mean of this new column**\n",
        "\n",
        "**Solution:**\n",
        "**1.i will create column \"COLOCATION\" and find mean of this column**"
      ],
      "metadata": {
        "id": "jYjHWMJdzOaY"
      }
    },
    {
      "cell_type": "code",
      "source": [
        "df[\"COLOCATION\"]=df.apply(lambda x:1 if(x['STATE_x']==x['STATE_y'] and x['STATE_x']==x['STATE']) else 0,axis=1)"
      ],
      "metadata": {
        "id": "XsNL9kKRCyrL"
      },
      "execution_count": 18,
      "outputs": []
    },
    {
      "cell_type": "code",
      "source": [
        "df[\"COLOCATION\"].mean()\n"
      ],
      "metadata": {
        "colab": {
          "base_uri": "https://localhost:8080/"
        },
        "id": "xMnwZUdty3M0",
        "outputId": "40189b76-2be7-4778-ecbb-b2a27d98aa42"
      },
      "execution_count": 19,
      "outputs": [
        {
          "output_type": "execute_result",
          "data": {
            "text/plain": [
              "0.0035"
            ]
          },
          "metadata": {},
          "execution_count": 19
        }
      ]
    },
    {
      "cell_type": "markdown",
      "source": [
        "# **Task #5**\n",
        "\n",
        "**Data entry error was detected in the data and you are required to correct it. If for any claim transaction “AUTHORITY_CONTACTED” is NOT “Police” and POLICE_AVAILABLE == 1\n",
        "Then Update “AUTHORITY_CONTACTED” to Police.**"
      ],
      "metadata": {
        "id": "sRzy-W6CGCuk"
      }
    },
    {
      "cell_type": "markdown",
      "source": [
        "# **Solution:**\n",
        "\n",
        "**1.i will check how many error present in the data**\n",
        "\n",
        "**2.i will apply lambda function to correct error on AUTHORITY_CONTACTED Column**"
      ],
      "metadata": {
        "id": "KBgnlcMlKlQq"
      }
    },
    {
      "cell_type": "code",
      "source": [
        "print(\"Errors in the Data are\",df[(df['AUTHORITY_CONTACTED']!='Police') & (df['POLICE_REPORT_AVAILABLE']==1)].shape[0])"
      ],
      "metadata": {
        "colab": {
          "base_uri": "https://localhost:8080/"
        },
        "id": "qr25GBiDy2-X",
        "outputId": "29b15413-8bc3-4715-cf6a-b10d983ec374"
      },
      "execution_count": 20,
      "outputs": [
        {
          "output_type": "stream",
          "name": "stdout",
          "text": [
            "Errors in the Data are 4870\n"
          ]
        }
      ]
    },
    {
      "cell_type": "code",
      "source": [
        "#apply lambda to correct error\n",
        "df['AUTHORITY_CONTACTED']=df.apply(lambda x:\"Police\" if(x[\"AUTHORITY_CONTACTED\"]!=\"Police\" and x['POLICE_REPORT_AVAILABLE']==1) else x['AUTHORITY_CONTACTED'] ,axis=1)"
      ],
      "metadata": {
        "id": "KRc47vY9y27x"
      },
      "execution_count": 21,
      "outputs": []
    },
    {
      "cell_type": "code",
      "source": [
        "df[(df['AUTHORITY_CONTACTED']!='Police') & (df['POLICE_REPORT_AVAILABLE']==1)].shape[0]"
      ],
      "metadata": {
        "colab": {
          "base_uri": "https://localhost:8080/"
        },
        "id": "qqxVRwZAy25o",
        "outputId": "0cc82a20-2661-4217-ab7a-a345f9c61eec"
      },
      "execution_count": 22,
      "outputs": [
        {
          "output_type": "execute_result",
          "data": {
            "text/plain": [
              "0"
            ]
          },
          "metadata": {},
          "execution_count": 22
        }
      ]
    },
    {
      "cell_type": "code",
      "source": [
        "df.sample(5)"
      ],
      "metadata": {
        "id": "Z66sq9gBy2zU",
        "colab": {
          "base_uri": "https://localhost:8080/",
          "height": 404
        },
        "outputId": "0ac7a687-a956-4270-cfd5-df05bdb32926"
      },
      "execution_count": 23,
      "outputs": [
        {
          "output_type": "execute_result",
          "data": {
            "text/plain": [
              "            TXN_DATE_TIME TRANSACTION_ID CUSTOMER_ID POLICY_NUMBER  \\\n",
              "5705  2021-01-10 00:00:00    TXN00005618   A00007980   PLC00006652   \n",
              "2688  2020-09-04 00:00:00    TXN00002365   A00002583   PLC00009071   \n",
              "3991  2020-12-24 00:00:00    TXN00005167   A00006277   PLC00001870   \n",
              "464   2021-06-09 00:00:00    TXN00009460   A00008574   PLC00008350   \n",
              "3520  2021-03-05 00:00:00    TXN00007034   A00009069   PLC00004022   \n",
              "\n",
              "     POLICY_EFF_DT     LOSS_DT   REPORT_DT INSURANCE_TYPE  PREMIUM_AMOUNT  \\\n",
              "5705    2012-11-29  2021-01-09  2021-01-09         Travel           77.92   \n",
              "2688    2012-07-06  2020-08-24  2020-08-29         Health          109.52   \n",
              "3991    2018-12-17  2020-12-05  2020-12-10       Property          100.24   \n",
              "464     2013-11-08  2021-06-04  2021-06-05       Property          141.62   \n",
              "3520    2013-06-27  2021-02-13  2021-02-18         Mobile            8.30   \n",
              "\n",
              "      CLAIM_AMOUNT  ... POSTAL_CODE_y EMP_ROUTING_NUMBER     EMP_ACCT_NUMBER  \\\n",
              "5705          5000  ...         40118           75934884  XVHU89858926305688   \n",
              "2688          4000  ...         40291          117487707  BPCX07855178723562   \n",
              "3991         26000  ...         40206          124818136  JGCC61882192321093   \n",
              "464          15000  ...         99516           13682813  CNOL13767821635403   \n",
              "3520           100  ...         80004           52865141  XRRJ16577189083309   \n",
              "\n",
              "                      VENDOR_NAME          ADDRESS_LINE1  ADDRESS_LINE2  \\\n",
              "5705                  Brown Group        6950 Reno Drive            NaN   \n",
              "2688                   Hunter PLC    908 Lodge Hill Road            NaN   \n",
              "3991                          NaN                    NaN            NaN   \n",
              "464                           NaN                    NaN            NaN   \n",
              "3520  Garrett, Wagner and Edwards  3604 Ridgehaven Drive            NaN   \n",
              "\n",
              "              CITY STATE  POSTAL_CODE  COLOCATION  \n",
              "5705        Arvada    CO      80002.0           0  \n",
              "2688    Louisville    KY      40223.0           0  \n",
              "3991           NaN   NaN          NaN           0  \n",
              "464            NaN   NaN          NaN           0  \n",
              "3520  Midwest City    OK      73110.0           0  \n",
              "\n",
              "[5 rows x 54 columns]"
            ],
            "text/html": [
              "\n",
              "  <div id=\"df-a6f41393-54fb-42db-a96e-5eec7508027c\">\n",
              "    <div class=\"colab-df-container\">\n",
              "      <div>\n",
              "<style scoped>\n",
              "    .dataframe tbody tr th:only-of-type {\n",
              "        vertical-align: middle;\n",
              "    }\n",
              "\n",
              "    .dataframe tbody tr th {\n",
              "        vertical-align: top;\n",
              "    }\n",
              "\n",
              "    .dataframe thead th {\n",
              "        text-align: right;\n",
              "    }\n",
              "</style>\n",
              "<table border=\"1\" class=\"dataframe\">\n",
              "  <thead>\n",
              "    <tr style=\"text-align: right;\">\n",
              "      <th></th>\n",
              "      <th>TXN_DATE_TIME</th>\n",
              "      <th>TRANSACTION_ID</th>\n",
              "      <th>CUSTOMER_ID</th>\n",
              "      <th>POLICY_NUMBER</th>\n",
              "      <th>POLICY_EFF_DT</th>\n",
              "      <th>LOSS_DT</th>\n",
              "      <th>REPORT_DT</th>\n",
              "      <th>INSURANCE_TYPE</th>\n",
              "      <th>PREMIUM_AMOUNT</th>\n",
              "      <th>CLAIM_AMOUNT</th>\n",
              "      <th>...</th>\n",
              "      <th>POSTAL_CODE_y</th>\n",
              "      <th>EMP_ROUTING_NUMBER</th>\n",
              "      <th>EMP_ACCT_NUMBER</th>\n",
              "      <th>VENDOR_NAME</th>\n",
              "      <th>ADDRESS_LINE1</th>\n",
              "      <th>ADDRESS_LINE2</th>\n",
              "      <th>CITY</th>\n",
              "      <th>STATE</th>\n",
              "      <th>POSTAL_CODE</th>\n",
              "      <th>COLOCATION</th>\n",
              "    </tr>\n",
              "  </thead>\n",
              "  <tbody>\n",
              "    <tr>\n",
              "      <th>5705</th>\n",
              "      <td>2021-01-10 00:00:00</td>\n",
              "      <td>TXN00005618</td>\n",
              "      <td>A00007980</td>\n",
              "      <td>PLC00006652</td>\n",
              "      <td>2012-11-29</td>\n",
              "      <td>2021-01-09</td>\n",
              "      <td>2021-01-09</td>\n",
              "      <td>Travel</td>\n",
              "      <td>77.92</td>\n",
              "      <td>5000</td>\n",
              "      <td>...</td>\n",
              "      <td>40118</td>\n",
              "      <td>75934884</td>\n",
              "      <td>XVHU89858926305688</td>\n",
              "      <td>Brown Group</td>\n",
              "      <td>6950 Reno Drive</td>\n",
              "      <td>NaN</td>\n",
              "      <td>Arvada</td>\n",
              "      <td>CO</td>\n",
              "      <td>80002.0</td>\n",
              "      <td>0</td>\n",
              "    </tr>\n",
              "    <tr>\n",
              "      <th>2688</th>\n",
              "      <td>2020-09-04 00:00:00</td>\n",
              "      <td>TXN00002365</td>\n",
              "      <td>A00002583</td>\n",
              "      <td>PLC00009071</td>\n",
              "      <td>2012-07-06</td>\n",
              "      <td>2020-08-24</td>\n",
              "      <td>2020-08-29</td>\n",
              "      <td>Health</td>\n",
              "      <td>109.52</td>\n",
              "      <td>4000</td>\n",
              "      <td>...</td>\n",
              "      <td>40291</td>\n",
              "      <td>117487707</td>\n",
              "      <td>BPCX07855178723562</td>\n",
              "      <td>Hunter PLC</td>\n",
              "      <td>908 Lodge Hill Road</td>\n",
              "      <td>NaN</td>\n",
              "      <td>Louisville</td>\n",
              "      <td>KY</td>\n",
              "      <td>40223.0</td>\n",
              "      <td>0</td>\n",
              "    </tr>\n",
              "    <tr>\n",
              "      <th>3991</th>\n",
              "      <td>2020-12-24 00:00:00</td>\n",
              "      <td>TXN00005167</td>\n",
              "      <td>A00006277</td>\n",
              "      <td>PLC00001870</td>\n",
              "      <td>2018-12-17</td>\n",
              "      <td>2020-12-05</td>\n",
              "      <td>2020-12-10</td>\n",
              "      <td>Property</td>\n",
              "      <td>100.24</td>\n",
              "      <td>26000</td>\n",
              "      <td>...</td>\n",
              "      <td>40206</td>\n",
              "      <td>124818136</td>\n",
              "      <td>JGCC61882192321093</td>\n",
              "      <td>NaN</td>\n",
              "      <td>NaN</td>\n",
              "      <td>NaN</td>\n",
              "      <td>NaN</td>\n",
              "      <td>NaN</td>\n",
              "      <td>NaN</td>\n",
              "      <td>0</td>\n",
              "    </tr>\n",
              "    <tr>\n",
              "      <th>464</th>\n",
              "      <td>2021-06-09 00:00:00</td>\n",
              "      <td>TXN00009460</td>\n",
              "      <td>A00008574</td>\n",
              "      <td>PLC00008350</td>\n",
              "      <td>2013-11-08</td>\n",
              "      <td>2021-06-04</td>\n",
              "      <td>2021-06-05</td>\n",
              "      <td>Property</td>\n",
              "      <td>141.62</td>\n",
              "      <td>15000</td>\n",
              "      <td>...</td>\n",
              "      <td>99516</td>\n",
              "      <td>13682813</td>\n",
              "      <td>CNOL13767821635403</td>\n",
              "      <td>NaN</td>\n",
              "      <td>NaN</td>\n",
              "      <td>NaN</td>\n",
              "      <td>NaN</td>\n",
              "      <td>NaN</td>\n",
              "      <td>NaN</td>\n",
              "      <td>0</td>\n",
              "    </tr>\n",
              "    <tr>\n",
              "      <th>3520</th>\n",
              "      <td>2021-03-05 00:00:00</td>\n",
              "      <td>TXN00007034</td>\n",
              "      <td>A00009069</td>\n",
              "      <td>PLC00004022</td>\n",
              "      <td>2013-06-27</td>\n",
              "      <td>2021-02-13</td>\n",
              "      <td>2021-02-18</td>\n",
              "      <td>Mobile</td>\n",
              "      <td>8.30</td>\n",
              "      <td>100</td>\n",
              "      <td>...</td>\n",
              "      <td>80004</td>\n",
              "      <td>52865141</td>\n",
              "      <td>XRRJ16577189083309</td>\n",
              "      <td>Garrett, Wagner and Edwards</td>\n",
              "      <td>3604 Ridgehaven Drive</td>\n",
              "      <td>NaN</td>\n",
              "      <td>Midwest City</td>\n",
              "      <td>OK</td>\n",
              "      <td>73110.0</td>\n",
              "      <td>0</td>\n",
              "    </tr>\n",
              "  </tbody>\n",
              "</table>\n",
              "<p>5 rows × 54 columns</p>\n",
              "</div>\n",
              "      <button class=\"colab-df-convert\" onclick=\"convertToInteractive('df-a6f41393-54fb-42db-a96e-5eec7508027c')\"\n",
              "              title=\"Convert this dataframe to an interactive table.\"\n",
              "              style=\"display:none;\">\n",
              "        \n",
              "  <svg xmlns=\"http://www.w3.org/2000/svg\" height=\"24px\"viewBox=\"0 0 24 24\"\n",
              "       width=\"24px\">\n",
              "    <path d=\"M0 0h24v24H0V0z\" fill=\"none\"/>\n",
              "    <path d=\"M18.56 5.44l.94 2.06.94-2.06 2.06-.94-2.06-.94-.94-2.06-.94 2.06-2.06.94zm-11 1L8.5 8.5l.94-2.06 2.06-.94-2.06-.94L8.5 2.5l-.94 2.06-2.06.94zm10 10l.94 2.06.94-2.06 2.06-.94-2.06-.94-.94-2.06-.94 2.06-2.06.94z\"/><path d=\"M17.41 7.96l-1.37-1.37c-.4-.4-.92-.59-1.43-.59-.52 0-1.04.2-1.43.59L10.3 9.45l-7.72 7.72c-.78.78-.78 2.05 0 2.83L4 21.41c.39.39.9.59 1.41.59.51 0 1.02-.2 1.41-.59l7.78-7.78 2.81-2.81c.8-.78.8-2.07 0-2.86zM5.41 20L4 18.59l7.72-7.72 1.47 1.35L5.41 20z\"/>\n",
              "  </svg>\n",
              "      </button>\n",
              "      \n",
              "  <style>\n",
              "    .colab-df-container {\n",
              "      display:flex;\n",
              "      flex-wrap:wrap;\n",
              "      gap: 12px;\n",
              "    }\n",
              "\n",
              "    .colab-df-convert {\n",
              "      background-color: #E8F0FE;\n",
              "      border: none;\n",
              "      border-radius: 50%;\n",
              "      cursor: pointer;\n",
              "      display: none;\n",
              "      fill: #1967D2;\n",
              "      height: 32px;\n",
              "      padding: 0 0 0 0;\n",
              "      width: 32px;\n",
              "    }\n",
              "\n",
              "    .colab-df-convert:hover {\n",
              "      background-color: #E2EBFA;\n",
              "      box-shadow: 0px 1px 2px rgba(60, 64, 67, 0.3), 0px 1px 3px 1px rgba(60, 64, 67, 0.15);\n",
              "      fill: #174EA6;\n",
              "    }\n",
              "\n",
              "    [theme=dark] .colab-df-convert {\n",
              "      background-color: #3B4455;\n",
              "      fill: #D2E3FC;\n",
              "    }\n",
              "\n",
              "    [theme=dark] .colab-df-convert:hover {\n",
              "      background-color: #434B5C;\n",
              "      box-shadow: 0px 1px 3px 1px rgba(0, 0, 0, 0.15);\n",
              "      filter: drop-shadow(0px 1px 2px rgba(0, 0, 0, 0.3));\n",
              "      fill: #FFFFFF;\n",
              "    }\n",
              "  </style>\n",
              "\n",
              "      <script>\n",
              "        const buttonEl =\n",
              "          document.querySelector('#df-a6f41393-54fb-42db-a96e-5eec7508027c button.colab-df-convert');\n",
              "        buttonEl.style.display =\n",
              "          google.colab.kernel.accessAllowed ? 'block' : 'none';\n",
              "\n",
              "        async function convertToInteractive(key) {\n",
              "          const element = document.querySelector('#df-a6f41393-54fb-42db-a96e-5eec7508027c');\n",
              "          const dataTable =\n",
              "            await google.colab.kernel.invokeFunction('convertToInteractive',\n",
              "                                                     [key], {});\n",
              "          if (!dataTable) return;\n",
              "\n",
              "          const docLinkHtml = 'Like what you see? Visit the ' +\n",
              "            '<a target=\"_blank\" href=https://colab.research.google.com/notebooks/data_table.ipynb>data table notebook</a>'\n",
              "            + ' to learn more about interactive tables.';\n",
              "          element.innerHTML = '';\n",
              "          dataTable['output_type'] = 'display_data';\n",
              "          await google.colab.output.renderOutput(dataTable, element);\n",
              "          const docLink = document.createElement('div');\n",
              "          docLink.innerHTML = docLinkHtml;\n",
              "          element.appendChild(docLink);\n",
              "        }\n",
              "      </script>\n",
              "    </div>\n",
              "  </div>\n",
              "  "
            ]
          },
          "metadata": {},
          "execution_count": 23
        }
      ]
    },
    {
      "cell_type": "markdown",
      "source": [
        "# **Task#6**\n",
        "**Business wants to check the Claim Amount for deviation for each transaction, they would\n",
        "like you to calculate as follow\n",
        "CLAIM_DEVIATION = AVG_CLAIM_AMOUNT_FOR_LAST_30DAYS (same insurance type)\n",
        "/ CURRENT_CLAIM_AMOUNT\n",
        "If the value < 0.5 THEN CLAIM_DEVIATION = 1 ELSE 0\n",
        "If there is less than 30 days of transaction history THEN\n",
        "-1 Note: LAST_30DAYS does not include current day**\n",
        "\n",
        "# **Solution**\n",
        "**1.find moste recent date**\n",
        "\n",
        "**2.find mean of claim group by  InsuranceType**\n",
        "\n",
        "**3.solve according to condtion**"
      ],
      "metadata": {
        "id": "4NmGWNw85u_J"
      }
    },
    {
      "cell_type": "code",
      "source": [
        "#Transform TXN_DATE_TIME  into only date "
      ],
      "metadata": {
        "id": "zAJaWqPKfLem"
      },
      "execution_count": 24,
      "outputs": []
    },
    {
      "cell_type": "code",
      "source": [
        "df['TXN_DATE_TIME']=pd.to_datetime(df['TXN_DATE_TIME'])"
      ],
      "metadata": {
        "id": "TSq2-O9ufLcV"
      },
      "execution_count": 25,
      "outputs": []
    },
    {
      "cell_type": "code",
      "source": [
        "#find most recnt date\n",
        "df['TXN_DATE_TIME'].max()"
      ],
      "metadata": {
        "colab": {
          "base_uri": "https://localhost:8080/"
        },
        "id": "XN57x3U5fLZn",
        "outputId": "7bcce19a-7ef2-4a74-b1aa-442c7a0f58d2"
      },
      "execution_count": 26,
      "outputs": [
        {
          "output_type": "execute_result",
          "data": {
            "text/plain": [
              "Timestamp('2021-06-30 00:00:00')"
            ]
          },
          "metadata": {},
          "execution_count": 26
        }
      ]
    },
    {
      "cell_type": "code",
      "source": [
        "#find data of last 30 days\n",
        "last_30_days=df[(df['TXN_DATE_TIME']>'2021-05-30') & (df['TXN_DATE_TIME']<'2021-06-30')]"
      ],
      "metadata": {
        "id": "ugDQNPswfLXC"
      },
      "execution_count": 27,
      "outputs": []
    },
    {
      "cell_type": "markdown",
      "source": [
        "**I can find mean with grouby for all InsuranceType and also with separately**"
      ],
      "metadata": {
        "id": "TSBsEAvVi44x"
      }
    },
    {
      "cell_type": "code",
      "source": [
        "last_30_days['INSURANCE_TYPE'].value_counts()"
      ],
      "metadata": {
        "colab": {
          "base_uri": "https://localhost:8080/"
        },
        "id": "5yoalRFwfLUa",
        "outputId": "f44b0c56-6b64-4e8a-95f9-375f069b67e0"
      },
      "execution_count": 28,
      "outputs": [
        {
          "output_type": "execute_result",
          "data": {
            "text/plain": [
              "Life        140\n",
              "Health      136\n",
              "Mobile      134\n",
              "Property    129\n",
              "Travel      125\n",
              "Motor       122\n",
              "Name: INSURANCE_TYPE, dtype: int64"
            ]
          },
          "metadata": {},
          "execution_count": 28
        }
      ]
    },
    {
      "cell_type": "code",
      "source": [
        "avg=last_30_days.groupby(['INSURANCE_TYPE']).mean()['CLAIM_AMOUNT'].to_dict()"
      ],
      "metadata": {
        "id": "8yQtx78W1h4L"
      },
      "execution_count": 33,
      "outputs": []
    },
    {
      "cell_type": "code",
      "source": [
        "curr=df['TXN_DATE_TIME'].max()"
      ],
      "metadata": {
        "id": "SssvaJN64QIa"
      },
      "execution_count": 38,
      "outputs": []
    },
    {
      "cell_type": "code",
      "source": [
        "def find_deviation(row):\n",
        "  if(curr - row['TXN_DATE_TIME']) < pd.Timedelta(days=30):\n",
        "      return -1\n",
        "  deviation=avg[row['INSURANCE_TYPE']]/row['CLAIM_AMOUNT']\n",
        "  if deviation<0.5:\n",
        "    return 1\n",
        "  else:\n",
        "    return 0"
      ],
      "metadata": {
        "id": "krb6ub9p2lqh"
      },
      "execution_count": 41,
      "outputs": []
    },
    {
      "cell_type": "code",
      "source": [
        "df['CLAIM_DEVIATION']=df.apply(find_deviation,axis=1)"
      ],
      "metadata": {
        "id": "amuVKgXs1-rF"
      },
      "execution_count": 42,
      "outputs": []
    },
    {
      "cell_type": "code",
      "source": [
        "df['CLAIM_DEVIATION'].value_counts().plot(kind='pie',autopct='%.2f')"
      ],
      "metadata": {
        "colab": {
          "base_uri": "https://localhost:8080/",
          "height": 265
        },
        "id": "bRB91USj1zlu",
        "outputId": "27cd2827-f635-41bd-9d4d-460065883f1b"
      },
      "execution_count": 48,
      "outputs": [
        {
          "output_type": "execute_result",
          "data": {
            "text/plain": [
              "<matplotlib.axes._subplots.AxesSubplot at 0x7fd766e0e090>"
            ]
          },
          "metadata": {},
          "execution_count": 48
        },
        {
          "output_type": "display_data",
          "data": {
            "text/plain": [
              "<Figure size 432x288 with 1 Axes>"
            ],
            "image/png": "[encoded data removed]"
          },
          "metadata": {}
        }
      ]
    },
    {
      "cell_type": "markdown",
      "source": [
        "# **Task #7**\n",
        "\n",
        "**Find All Agents who have worked on more than 2 types of Insurance Claims. Sort them by\n",
        "Total Claim Amount Approved under them in descending order**"
      ],
      "metadata": {
        "id": "5-_LImPc4ZQG"
      }
    },
    {
      "cell_type": "markdown",
      "source": [
        "#**Solution:**\n",
        "**1.i will find index of all agens who have worked on more than 2 types of Insurance Claims**\n",
        "\n",
        "**2.i will find Totel claim amount for all  agents and sort them by totel claim amount**\n"
      ],
      "metadata": {
        "id": "EWvL89hI_ca4"
      }
    },
    {
      "cell_type": "code",
      "source": [
        "idx=(df.groupby('AGENT_ID')['INSURANCE_TYPE'].nunique()>2)\n",
        "idx=idx[idx].index\n"
      ],
      "metadata": {
        "id": "yGTvXCwq4Y7A"
      },
      "execution_count": 49,
      "outputs": []
    },
    {
      "cell_type": "code",
      "source": [
        "pd.DataFrame(df.groupby(['AGENT_ID','AGENT_NAME'])['CLAIM_AMOUNT'].sum().loc[idx].sort_values(ascending=False))"
      ],
      "metadata": {
        "colab": {
          "base_uri": "https://localhost:8080/",
          "height": 455
        },
        "id": "ontwGOYqfLMM",
        "outputId": "45bcc0a3-f057-49f2-d8b1-653d4e802272"
      },
      "execution_count": 50,
      "outputs": [
        {
          "output_type": "execute_result",
          "data": {
            "text/plain": [
              "                             CLAIM_AMOUNT\n",
              "AGENT_ID   AGENT_NAME                    \n",
              "AGENT00807 Don Filkins             528800\n",
              "AGENT00679 Clara Barnett           489000\n",
              "AGENT00771 Roger Burns             422100\n",
              "AGENT00125 Salvador Soriano        400400\n",
              "AGENT00789 Alison Baron            392900\n",
              "...                                   ...\n",
              "AGENT00910 Vincent Ragan            15500\n",
              "AGENT00689 Connie Hunt              13700\n",
              "AGENT00732 Sylvia Tran              11300\n",
              "AGENT00706 Laura Staggs             10800\n",
              "AGENT00604 Thelma Salinas            5500\n",
              "\n",
              "[1164 rows x 1 columns]"
            ],
            "text/html": [
              "\n",
              "  <div id=\"df-0c3ddc11-9bb1-4f67-b2ec-1852567672ab\">\n",
              "    <div class=\"colab-df-container\">\n",
              "      <div>\n",
              "<style scoped>\n",
              "    .dataframe tbody tr th:only-of-type {\n",
              "        vertical-align: middle;\n",
              "    }\n",
              "\n",
              "    .dataframe tbody tr th {\n",
              "        vertical-align: top;\n",
              "    }\n",
              "\n",
              "    .dataframe thead th {\n",
              "        text-align: right;\n",
              "    }\n",
              "</style>\n",
              "<table border=\"1\" class=\"dataframe\">\n",
              "  <thead>\n",
              "    <tr style=\"text-align: right;\">\n",
              "      <th></th>\n",
              "      <th></th>\n",
              "      <th>CLAIM_AMOUNT</th>\n",
              "    </tr>\n",
              "    <tr>\n",
              "      <th>AGENT_ID</th>\n",
              "      <th>AGENT_NAME</th>\n",
              "      <th></th>\n",
              "    </tr>\n",
              "  </thead>\n",
              "  <tbody>\n",
              "    <tr>\n",
              "      <th>AGENT00807</th>\n",
              "      <th>Don Filkins</th>\n",
              "      <td>528800</td>\n",
              "    </tr>\n",
              "    <tr>\n",
              "      <th>AGENT00679</th>\n",
              "      <th>Clara Barnett</th>\n",
              "      <td>489000</td>\n",
              "    </tr>\n",
              "    <tr>\n",
              "      <th>AGENT00771</th>\n",
              "      <th>Roger Burns</th>\n",
              "      <td>422100</td>\n",
              "    </tr>\n",
              "    <tr>\n",
              "      <th>AGENT00125</th>\n",
              "      <th>Salvador Soriano</th>\n",
              "      <td>400400</td>\n",
              "    </tr>\n",
              "    <tr>\n",
              "      <th>AGENT00789</th>\n",
              "      <th>Alison Baron</th>\n",
              "      <td>392900</td>\n",
              "    </tr>\n",
              "    <tr>\n",
              "      <th>...</th>\n",
              "      <th>...</th>\n",
              "      <td>...</td>\n",
              "    </tr>\n",
              "    <tr>\n",
              "      <th>AGENT00910</th>\n",
              "      <th>Vincent Ragan</th>\n",
              "      <td>15500</td>\n",
              "    </tr>\n",
              "    <tr>\n",
              "      <th>AGENT00689</th>\n",
              "      <th>Connie Hunt</th>\n",
              "      <td>13700</td>\n",
              "    </tr>\n",
              "    <tr>\n",
              "      <th>AGENT00732</th>\n",
              "      <th>Sylvia Tran</th>\n",
              "      <td>11300</td>\n",
              "    </tr>\n",
              "    <tr>\n",
              "      <th>AGENT00706</th>\n",
              "      <th>Laura Staggs</th>\n",
              "      <td>10800</td>\n",
              "    </tr>\n",
              "    <tr>\n",
              "      <th>AGENT00604</th>\n",
              "      <th>Thelma Salinas</th>\n",
              "      <td>5500</td>\n",
              "    </tr>\n",
              "  </tbody>\n",
              "</table>\n",
              "<p>1164 rows × 1 columns</p>\n",
              "</div>\n",
              "      <button class=\"colab-df-convert\" onclick=\"convertToInteractive('df-0c3ddc11-9bb1-4f67-b2ec-1852567672ab')\"\n",
              "              title=\"Convert this dataframe to an interactive table.\"\n",
              "              style=\"display:none;\">\n",
              "        \n",
              "  <svg xmlns=\"http://www.w3.org/2000/svg\" height=\"24px\"viewBox=\"0 0 24 24\"\n",
              "       width=\"24px\">\n",
              "    <path d=\"M0 0h24v24H0V0z\" fill=\"none\"/>\n",
              "    <path d=\"M18.56 5.44l.94 2.06.94-2.06 2.06-.94-2.06-.94-.94-2.06-.94 2.06-2.06.94zm-11 1L8.5 8.5l.94-2.06 2.06-.94-2.06-.94L8.5 2.5l-.94 2.06-2.06.94zm10 10l.94 2.06.94-2.06 2.06-.94-2.06-.94-.94-2.06-.94 2.06-2.06.94z\"/><path d=\"M17.41 7.96l-1.37-1.37c-.4-.4-.92-.59-1.43-.59-.52 0-1.04.2-1.43.59L10.3 9.45l-7.72 7.72c-.78.78-.78 2.05 0 2.83L4 21.41c.39.39.9.59 1.41.59.51 0 1.02-.2 1.41-.59l7.78-7.78 2.81-2.81c.8-.78.8-2.07 0-2.86zM5.41 20L4 18.59l7.72-7.72 1.47 1.35L5.41 20z\"/>\n",
              "  </svg>\n",
              "      </button>\n",
              "      \n",
              "  <style>\n",
              "    .colab-df-container {\n",
              "      display:flex;\n",
              "      flex-wrap:wrap;\n",
              "      gap: 12px;\n",
              "    }\n",
              "\n",
              "    .colab-df-convert {\n",
              "      background-color: #E8F0FE;\n",
              "      border: none;\n",
              "      border-radius: 50%;\n",
              "      cursor: pointer;\n",
              "      display: none;\n",
              "      fill: #1967D2;\n",
              "      height: 32px;\n",
              "      padding: 0 0 0 0;\n",
              "      width: 32px;\n",
              "    }\n",
              "\n",
              "    .colab-df-convert:hover {\n",
              "      background-color: #E2EBFA;\n",
              "      box-shadow: 0px 1px 2px rgba(60, 64, 67, 0.3), 0px 1px 3px 1px rgba(60, 64, 67, 0.15);\n",
              "      fill: #174EA6;\n",
              "    }\n",
              "\n",
              "    [theme=dark] .colab-df-convert {\n",
              "      background-color: #3B4455;\n",
              "      fill: #D2E3FC;\n",
              "    }\n",
              "\n",
              "    [theme=dark] .colab-df-convert:hover {\n",
              "      background-color: #434B5C;\n",
              "      box-shadow: 0px 1px 3px 1px rgba(0, 0, 0, 0.15);\n",
              "      filter: drop-shadow(0px 1px 2px rgba(0, 0, 0, 0.3));\n",
              "      fill: #FFFFFF;\n",
              "    }\n",
              "  </style>\n",
              "\n",
              "      <script>\n",
              "        const buttonEl =\n",
              "          document.querySelector('#df-0c3ddc11-9bb1-4f67-b2ec-1852567672ab button.colab-df-convert');\n",
              "        buttonEl.style.display =\n",
              "          google.colab.kernel.accessAllowed ? 'block' : 'none';\n",
              "\n",
              "        async function convertToInteractive(key) {\n",
              "          const element = document.querySelector('#df-0c3ddc11-9bb1-4f67-b2ec-1852567672ab');\n",
              "          const dataTable =\n",
              "            await google.colab.kernel.invokeFunction('convertToInteractive',\n",
              "                                                     [key], {});\n",
              "          if (!dataTable) return;\n",
              "\n",
              "          const docLinkHtml = 'Like what you see? Visit the ' +\n",
              "            '<a target=\"_blank\" href=https://colab.research.google.com/notebooks/data_table.ipynb>data table notebook</a>'\n",
              "            + ' to learn more about interactive tables.';\n",
              "          element.innerHTML = '';\n",
              "          dataTable['output_type'] = 'display_data';\n",
              "          await google.colab.output.renderOutput(dataTable, element);\n",
              "          const docLink = document.createElement('div');\n",
              "          docLink.innerHTML = docLinkHtml;\n",
              "          element.appendChild(docLink);\n",
              "        }\n",
              "      </script>\n",
              "    </div>\n",
              "  </div>\n",
              "  "
            ]
          },
          "metadata": {},
          "execution_count": 50
        }
      ]
    },
    {
      "cell_type": "markdown",
      "source": [
        "#**Task #8**\n",
        "**Mobile & Travel Insurance premium are discounted by 10%\n",
        "Health and Property Insurance premium are increased by 7%\n",
        "Life and Motor Insurance premium are marginally increased by 2%\n",
        "What will be overall change in % of the Premium Amount Collected for all these Customer?**\n",
        "# **Solution:**\n",
        "\n",
        "**1.i will solve first by given condition**\n",
        "\n",
        "**2.add values and subtrect totle Premium amount and divid by totel premium amount**"
      ],
      "metadata": {
        "id": "O9e_jsRkAUYv"
      }
    },
    {
      "cell_type": "code",
      "source": [
        "mobile_10_per=df[df['INSURANCE_TYPE']=='Mobile']['PREMIUM_AMOUNT']-0.1*df[df['INSURANCE_TYPE']=='Mobile']['PREMIUM_AMOUNT']\n",
        "travel_10_per=df[df['INSURANCE_TYPE']=='Travel']['PREMIUM_AMOUNT']-0.1*df[df['INSURANCE_TYPE']=='Travel']['PREMIUM_AMOUNT']\n",
        "health_7_per=df[df['INSURANCE_TYPE']=='Health']['PREMIUM_AMOUNT']+0.07*df[df['INSURANCE_TYPE']=='Health']['PREMIUM_AMOUNT']\n",
        "property_7_per=df[df['INSURANCE_TYPE']=='Property']['PREMIUM_AMOUNT']+0.07*df[df['INSURANCE_TYPE']=='Property']['PREMIUM_AMOUNT']\n",
        "life_2_per=df[df['INSURANCE_TYPE']=='Life']['PREMIUM_AMOUNT']+0.02*df[df['INSURANCE_TYPE']=='Life']['PREMIUM_AMOUNT']\n",
        "motor_2_per=df[df['INSURANCE_TYPE']=='Motor']['PREMIUM_AMOUNT']+0.02*df[df['INSURANCE_TYPE']=='Motor']['PREMIUM_AMOUNT']\n",
        "\n"
      ],
      "metadata": {
        "id": "qlGr-61GASS5"
      },
      "execution_count": 51,
      "outputs": []
    },
    {
      "cell_type": "code",
      "source": [
        "(abs(df['PREMIUM_AMOUNT'].sum()-mobile_10_per.sum()-travel_10_per.sum()-health_7_per.sum()-property_7_per.sum()-life_2_per.sum()-motor_2_per.sum())/df['PREMIUM_AMOUNT'].sum())*100"
      ],
      "metadata": {
        "colab": {
          "base_uri": "https://localhost:8080/"
        },
        "id": "LaW0OtDYDh5D",
        "outputId": "7177da7c-70d3-443e-da7a-c6c1adbb76f4"
      },
      "execution_count": 52,
      "outputs": [
        {
          "output_type": "execute_result",
          "data": {
            "text/plain": [
              "2.6798588543858384"
            ]
          },
          "metadata": {},
          "execution_count": 52
        }
      ]
    },
    {
      "cell_type": "markdown",
      "source": [
        "**Overall 0.26% Change in Premium Amount Collected**"
      ],
      "metadata": {
        "id": "6n51PcLgITIm"
      }
    },
    {
      "cell_type": "markdown",
      "source": [
        "# **Task#9**\n",
        "**Business wants to give discount to customer who are loyal and under stress due to Covid 19. They have laid down an eligibility Criteria as follow\n",
        "IF CUSTOMER_TENURE > 60 AND EMPLOYMENT_STATUS = “N”\n",
        "AND NO_OF_FAMILY_MEMBERS >=4 THEN 1 ELSE**\n",
        "\n",
        "**Create a new column “ELIGIBLE_FOR_DISCOUNT” and find it\n",
        "mean.**\n",
        "\n",
        "# **Solution**:\n",
        "\n",
        "**1.Create A column by given condition**\n",
        "\n",
        "**2.sum 0f this columns and divided by all samples**\n"
      ],
      "metadata": {
        "id": "jYI_9RmQIzK9"
      }
    },
    {
      "cell_type": "code",
      "source": [
        "df[\"ELIGIBLE_FOR_DISCOUNT\"]=(df['TENURE']>60) & (df['EMPLOYMENT_STATUS']=='N') & (df['NO_OF_FAMILY_MEMBERS']>=4)"
      ],
      "metadata": {
        "id": "KCozaoPI_OsD"
      },
      "execution_count": 53,
      "outputs": []
    },
    {
      "cell_type": "code",
      "source": [
        "print(\"mean of customers  eligible for descount is:\", df['ELIGIBLE_FOR_DISCOUNT'].astype('int').sum()/df.shape[0])"
      ],
      "metadata": {
        "colab": {
          "base_uri": "https://localhost:8080/"
        },
        "id": "PZJ3oh4oJMkP",
        "outputId": "6fb81e6e-b376-42dc-b9dc-60281b104e51"
      },
      "execution_count": 54,
      "outputs": [
        {
          "output_type": "stream",
          "name": "stdout",
          "text": [
            "mean of customers  eligible for descount is: 0.0299\n"
          ]
        }
      ]
    },
    {
      "cell_type": "markdown",
      "source": [
        "#**Task #10**\n",
        "**Business wants to check Claim Velocity which is defined as follow CLAIM_VELOCITY = NO_OF_CLAIMS_IN_LAST30DAYS (for the current insurance type)\n",
        "/ NO_OF_CLAIMS_IN_LAST3DAYS (for the current insurance type)\n",
        "Note: LAST30DAYS & LAST3DAYS does not include current\n",
        "day**\n"
      ],
      "metadata": {
        "id": "726izRSoNFbQ"
      }
    },
    {
      "cell_type": "markdown",
      "source": [
        "**1.find insurance type of last 30 days and last 3 days**\n",
        "\n",
        "**2.Merge Theme**"
      ],
      "metadata": {
        "id": "M5u1UhqQaKEY"
      }
    },
    {
      "cell_type": "code",
      "source": [
        "#find data of last 30 days\n",
        "last_30_days=df[(df['TXN_DATE_TIME']>'2021-05-30') & (df['TXN_DATE_TIME']<'2021-06-30')]\n",
        "a=pd.DataFrame({\"NO_OF_CLAIMS_IN_LAST30DAYS\":last_30_days['INSURANCE_TYPE'].value_counts(),\"index\":last_30_days['INSURANCE_TYPE'].value_counts().index})\n",
        "a"
      ],
      "metadata": {
        "colab": {
          "base_uri": "https://localhost:8080/",
          "height": 237
        },
        "id": "Phuf3YCMJMeG",
        "outputId": "a048fec2-bc69-43d0-e500-b206b13de4f6"
      },
      "execution_count": 55,
      "outputs": [
        {
          "output_type": "execute_result",
          "data": {
            "text/plain": [
              "          NO_OF_CLAIMS_IN_LAST30DAYS     index\n",
              "Life                             140      Life\n",
              "Health                           136    Health\n",
              "Mobile                           134    Mobile\n",
              "Property                         129  Property\n",
              "Travel                           125    Travel\n",
              "Motor                            122     Motor"
            ],
            "text/html": [
              "\n",
              "  <div id=\"df-24eea019-f5d3-434f-875a-d26afde46873\">\n",
              "    <div class=\"colab-df-container\">\n",
              "      <div>\n",
              "<style scoped>\n",
              "    .dataframe tbody tr th:only-of-type {\n",
              "        vertical-align: middle;\n",
              "    }\n",
              "\n",
              "    .dataframe tbody tr th {\n",
              "        vertical-align: top;\n",
              "    }\n",
              "\n",
              "    .dataframe thead th {\n",
              "        text-align: right;\n",
              "    }\n",
              "</style>\n",
              "<table border=\"1\" class=\"dataframe\">\n",
              "  <thead>\n",
              "    <tr style=\"text-align: right;\">\n",
              "      <th></th>\n",
              "      <th>NO_OF_CLAIMS_IN_LAST30DAYS</th>\n",
              "      <th>index</th>\n",
              "    </tr>\n",
              "  </thead>\n",
              "  <tbody>\n",
              "    <tr>\n",
              "      <th>Life</th>\n",
              "      <td>140</td>\n",
              "      <td>Life</td>\n",
              "    </tr>\n",
              "    <tr>\n",
              "      <th>Health</th>\n",
              "      <td>136</td>\n",
              "      <td>Health</td>\n",
              "    </tr>\n",
              "    <tr>\n",
              "      <th>Mobile</th>\n",
              "      <td>134</td>\n",
              "      <td>Mobile</td>\n",
              "    </tr>\n",
              "    <tr>\n",
              "      <th>Property</th>\n",
              "      <td>129</td>\n",
              "      <td>Property</td>\n",
              "    </tr>\n",
              "    <tr>\n",
              "      <th>Travel</th>\n",
              "      <td>125</td>\n",
              "      <td>Travel</td>\n",
              "    </tr>\n",
              "    <tr>\n",
              "      <th>Motor</th>\n",
              "      <td>122</td>\n",
              "      <td>Motor</td>\n",
              "    </tr>\n",
              "  </tbody>\n",
              "</table>\n",
              "</div>\n",
              "      <button class=\"colab-df-convert\" onclick=\"convertToInteractive('df-24eea019-f5d3-434f-875a-d26afde46873')\"\n",
              "              title=\"Convert this dataframe to an interactive table.\"\n",
              "              style=\"display:none;\">\n",
              "        \n",
              "  <svg xmlns=\"http://www.w3.org/2000/svg\" height=\"24px\"viewBox=\"0 0 24 24\"\n",
              "       width=\"24px\">\n",
              "    <path d=\"M0 0h24v24H0V0z\" fill=\"none\"/>\n",
              "    <path d=\"M18.56 5.44l.94 2.06.94-2.06 2.06-.94-2.06-.94-.94-2.06-.94 2.06-2.06.94zm-11 1L8.5 8.5l.94-2.06 2.06-.94-2.06-.94L8.5 2.5l-.94 2.06-2.06.94zm10 10l.94 2.06.94-2.06 2.06-.94-2.06-.94-.94-2.06-.94 2.06-2.06.94z\"/><path d=\"M17.41 7.96l-1.37-1.37c-.4-.4-.92-.59-1.43-.59-.52 0-1.04.2-1.43.59L10.3 9.45l-7.72 7.72c-.78.78-.78 2.05 0 2.83L4 21.41c.39.39.9.59 1.41.59.51 0 1.02-.2 1.41-.59l7.78-7.78 2.81-2.81c.8-.78.8-2.07 0-2.86zM5.41 20L4 18.59l7.72-7.72 1.47 1.35L5.41 20z\"/>\n",
              "  </svg>\n",
              "      </button>\n",
              "      \n",
              "  <style>\n",
              "    .colab-df-container {\n",
              "      display:flex;\n",
              "      flex-wrap:wrap;\n",
              "      gap: 12px;\n",
              "    }\n",
              "\n",
              "    .colab-df-convert {\n",
              "      background-color: #E8F0FE;\n",
              "      border: none;\n",
              "      border-radius: 50%;\n",
              "      cursor: pointer;\n",
              "      display: none;\n",
              "      fill: #1967D2;\n",
              "      height: 32px;\n",
              "      padding: 0 0 0 0;\n",
              "      width: 32px;\n",
              "    }\n",
              "\n",
              "    .colab-df-convert:hover {\n",
              "      background-color: #E2EBFA;\n",
              "      box-shadow: 0px 1px 2px rgba(60, 64, 67, 0.3), 0px 1px 3px 1px rgba(60, 64, 67, 0.15);\n",
              "      fill: #174EA6;\n",
              "    }\n",
              "\n",
              "    [theme=dark] .colab-df-convert {\n",
              "      background-color: #3B4455;\n",
              "      fill: #D2E3FC;\n",
              "    }\n",
              "\n",
              "    [theme=dark] .colab-df-convert:hover {\n",
              "      background-color: #434B5C;\n",
              "      box-shadow: 0px 1px 3px 1px rgba(0, 0, 0, 0.15);\n",
              "      filter: drop-shadow(0px 1px 2px rgba(0, 0, 0, 0.3));\n",
              "      fill: #FFFFFF;\n",
              "    }\n",
              "  </style>\n",
              "\n",
              "      <script>\n",
              "        const buttonEl =\n",
              "          document.querySelector('#df-24eea019-f5d3-434f-875a-d26afde46873 button.colab-df-convert');\n",
              "        buttonEl.style.display =\n",
              "          google.colab.kernel.accessAllowed ? 'block' : 'none';\n",
              "\n",
              "        async function convertToInteractive(key) {\n",
              "          const element = document.querySelector('#df-24eea019-f5d3-434f-875a-d26afde46873');\n",
              "          const dataTable =\n",
              "            await google.colab.kernel.invokeFunction('convertToInteractive',\n",
              "                                                     [key], {});\n",
              "          if (!dataTable) return;\n",
              "\n",
              "          const docLinkHtml = 'Like what you see? Visit the ' +\n",
              "            '<a target=\"_blank\" href=https://colab.research.google.com/notebooks/data_table.ipynb>data table notebook</a>'\n",
              "            + ' to learn more about interactive tables.';\n",
              "          element.innerHTML = '';\n",
              "          dataTable['output_type'] = 'display_data';\n",
              "          await google.colab.output.renderOutput(dataTable, element);\n",
              "          const docLink = document.createElement('div');\n",
              "          docLink.innerHTML = docLinkHtml;\n",
              "          element.appendChild(docLink);\n",
              "        }\n",
              "      </script>\n",
              "    </div>\n",
              "  </div>\n",
              "  "
            ]
          },
          "metadata": {},
          "execution_count": 55
        }
      ]
    },
    {
      "cell_type": "code",
      "source": [
        "last_3_days=df[(df['TXN_DATE_TIME']>'2021-06-26') & (df['TXN_DATE_TIME']<'2021-06-30')]\n",
        "last_3_days['INSURANCE_TYPE'].value_counts()\n",
        "b=pd.DataFrame({\"NO_OF_CLAIMS_IN_LAST3DAYS\":last_3_days['INSURANCE_TYPE'].value_counts(),\"index\":last_3_days['INSURANCE_TYPE'].value_counts().index})\n",
        "b"
      ],
      "metadata": {
        "colab": {
          "base_uri": "https://localhost:8080/",
          "height": 237
        },
        "id": "saom2HA2JMbw",
        "outputId": "6131c77e-1eea-4ab5-d48a-03e2cfd883d5"
      },
      "execution_count": 56,
      "outputs": [
        {
          "output_type": "execute_result",
          "data": {
            "text/plain": [
              "          NO_OF_CLAIMS_IN_LAST3DAYS     index\n",
              "Life                             14      Life\n",
              "Travel                           14    Travel\n",
              "Health                           14    Health\n",
              "Property                         13  Property\n",
              "Motor                            13     Motor\n",
              "Mobile                           10    Mobile"
            ],
            "text/html": [
              "\n",
              "  <div id=\"df-dfdbca4a-f2b0-4662-87ad-58824ff7a3bd\">\n",
              "    <div class=\"colab-df-container\">\n",
              "      <div>\n",
              "<style scoped>\n",
              "    .dataframe tbody tr th:only-of-type {\n",
              "        vertical-align: middle;\n",
              "    }\n",
              "\n",
              "    .dataframe tbody tr th {\n",
              "        vertical-align: top;\n",
              "    }\n",
              "\n",
              "    .dataframe thead th {\n",
              "        text-align: right;\n",
              "    }\n",
              "</style>\n",
              "<table border=\"1\" class=\"dataframe\">\n",
              "  <thead>\n",
              "    <tr style=\"text-align: right;\">\n",
              "      <th></th>\n",
              "      <th>NO_OF_CLAIMS_IN_LAST3DAYS</th>\n",
              "      <th>index</th>\n",
              "    </tr>\n",
              "  </thead>\n",
              "  <tbody>\n",
              "    <tr>\n",
              "      <th>Life</th>\n",
              "      <td>14</td>\n",
              "      <td>Life</td>\n",
              "    </tr>\n",
              "    <tr>\n",
              "      <th>Travel</th>\n",
              "      <td>14</td>\n",
              "      <td>Travel</td>\n",
              "    </tr>\n",
              "    <tr>\n",
              "      <th>Health</th>\n",
              "      <td>14</td>\n",
              "      <td>Health</td>\n",
              "    </tr>\n",
              "    <tr>\n",
              "      <th>Property</th>\n",
              "      <td>13</td>\n",
              "      <td>Property</td>\n",
              "    </tr>\n",
              "    <tr>\n",
              "      <th>Motor</th>\n",
              "      <td>13</td>\n",
              "      <td>Motor</td>\n",
              "    </tr>\n",
              "    <tr>\n",
              "      <th>Mobile</th>\n",
              "      <td>10</td>\n",
              "      <td>Mobile</td>\n",
              "    </tr>\n",
              "  </tbody>\n",
              "</table>\n",
              "</div>\n",
              "      <button class=\"colab-df-convert\" onclick=\"convertToInteractive('df-dfdbca4a-f2b0-4662-87ad-58824ff7a3bd')\"\n",
              "              title=\"Convert this dataframe to an interactive table.\"\n",
              "              style=\"display:none;\">\n",
              "        \n",
              "  <svg xmlns=\"http://www.w3.org/2000/svg\" height=\"24px\"viewBox=\"0 0 24 24\"\n",
              "       width=\"24px\">\n",
              "    <path d=\"M0 0h24v24H0V0z\" fill=\"none\"/>\n",
              "    <path d=\"M18.56 5.44l.94 2.06.94-2.06 2.06-.94-2.06-.94-.94-2.06-.94 2.06-2.06.94zm-11 1L8.5 8.5l.94-2.06 2.06-.94-2.06-.94L8.5 2.5l-.94 2.06-2.06.94zm10 10l.94 2.06.94-2.06 2.06-.94-2.06-.94-.94-2.06-.94 2.06-2.06.94z\"/><path d=\"M17.41 7.96l-1.37-1.37c-.4-.4-.92-.59-1.43-.59-.52 0-1.04.2-1.43.59L10.3 9.45l-7.72 7.72c-.78.78-.78 2.05 0 2.83L4 21.41c.39.39.9.59 1.41.59.51 0 1.02-.2 1.41-.59l7.78-7.78 2.81-2.81c.8-.78.8-2.07 0-2.86zM5.41 20L4 18.59l7.72-7.72 1.47 1.35L5.41 20z\"/>\n",
              "  </svg>\n",
              "      </button>\n",
              "      \n",
              "  <style>\n",
              "    .colab-df-container {\n",
              "      display:flex;\n",
              "      flex-wrap:wrap;\n",
              "      gap: 12px;\n",
              "    }\n",
              "\n",
              "    .colab-df-convert {\n",
              "      background-color: #E8F0FE;\n",
              "      border: none;\n",
              "      border-radius: 50%;\n",
              "      cursor: pointer;\n",
              "      display: none;\n",
              "      fill: #1967D2;\n",
              "      height: 32px;\n",
              "      padding: 0 0 0 0;\n",
              "      width: 32px;\n",
              "    }\n",
              "\n",
              "    .colab-df-convert:hover {\n",
              "      background-color: #E2EBFA;\n",
              "      box-shadow: 0px 1px 2px rgba(60, 64, 67, 0.3), 0px 1px 3px 1px rgba(60, 64, 67, 0.15);\n",
              "      fill: #174EA6;\n",
              "    }\n",
              "\n",
              "    [theme=dark] .colab-df-convert {\n",
              "      background-color: #3B4455;\n",
              "      fill: #D2E3FC;\n",
              "    }\n",
              "\n",
              "    [theme=dark] .colab-df-convert:hover {\n",
              "      background-color: #434B5C;\n",
              "      box-shadow: 0px 1px 3px 1px rgba(0, 0, 0, 0.15);\n",
              "      filter: drop-shadow(0px 1px 2px rgba(0, 0, 0, 0.3));\n",
              "      fill: #FFFFFF;\n",
              "    }\n",
              "  </style>\n",
              "\n",
              "      <script>\n",
              "        const buttonEl =\n",
              "          document.querySelector('#df-dfdbca4a-f2b0-4662-87ad-58824ff7a3bd button.colab-df-convert');\n",
              "        buttonEl.style.display =\n",
              "          google.colab.kernel.accessAllowed ? 'block' : 'none';\n",
              "\n",
              "        async function convertToInteractive(key) {\n",
              "          const element = document.querySelector('#df-dfdbca4a-f2b0-4662-87ad-58824ff7a3bd');\n",
              "          const dataTable =\n",
              "            await google.colab.kernel.invokeFunction('convertToInteractive',\n",
              "                                                     [key], {});\n",
              "          if (!dataTable) return;\n",
              "\n",
              "          const docLinkHtml = 'Like what you see? Visit the ' +\n",
              "            '<a target=\"_blank\" href=https://colab.research.google.com/notebooks/data_table.ipynb>data table notebook</a>'\n",
              "            + ' to learn more about interactive tables.';\n",
              "          element.innerHTML = '';\n",
              "          dataTable['output_type'] = 'display_data';\n",
              "          await google.colab.output.renderOutput(dataTable, element);\n",
              "          const docLink = document.createElement('div');\n",
              "          docLink.innerHTML = docLinkHtml;\n",
              "          element.appendChild(docLink);\n",
              "        }\n",
              "      </script>\n",
              "    </div>\n",
              "  </div>\n",
              "  "
            ]
          },
          "metadata": {},
          "execution_count": 56
        }
      ]
    },
    {
      "cell_type": "code",
      "source": [
        "c=a.merge(b,how='inner',on='index')\n",
        "c['CLAIM_VELOCITY']=c['NO_OF_CLAIMS_IN_LAST30DAYS']/c['NO_OF_CLAIMS_IN_LAST3DAYS']\n",
        "c"
      ],
      "metadata": {
        "colab": {
          "base_uri": "https://localhost:8080/",
          "height": 237
        },
        "id": "JiqrG2qJJMZb",
        "outputId": "4e9d3083-a4bf-4a33-e30f-3c9921a3a4de"
      },
      "execution_count": 57,
      "outputs": [
        {
          "output_type": "execute_result",
          "data": {
            "text/plain": [
              "   NO_OF_CLAIMS_IN_LAST30DAYS     index  NO_OF_CLAIMS_IN_LAST3DAYS  \\\n",
              "0                         140      Life                         14   \n",
              "1                         136    Health                         14   \n",
              "2                         134    Mobile                         10   \n",
              "3                         129  Property                         13   \n",
              "4                         125    Travel                         14   \n",
              "5                         122     Motor                         13   \n",
              "\n",
              "   CLAIM_VELOCITY  \n",
              "0       10.000000  \n",
              "1        9.714286  \n",
              "2       13.400000  \n",
              "3        9.923077  \n",
              "4        8.928571  \n",
              "5        9.384615  "
            ],
            "text/html": [
              "\n",
              "  <div id=\"df-af6aabbc-0d56-494a-84c1-fa4d449312e1\">\n",
              "    <div class=\"colab-df-container\">\n",
              "      <div>\n",
              "<style scoped>\n",
              "    .dataframe tbody tr th:only-of-type {\n",
              "        vertical-align: middle;\n",
              "    }\n",
              "\n",
              "    .dataframe tbody tr th {\n",
              "        vertical-align: top;\n",
              "    }\n",
              "\n",
              "    .dataframe thead th {\n",
              "        text-align: right;\n",
              "    }\n",
              "</style>\n",
              "<table border=\"1\" class=\"dataframe\">\n",
              "  <thead>\n",
              "    <tr style=\"text-align: right;\">\n",
              "      <th></th>\n",
              "      <th>NO_OF_CLAIMS_IN_LAST30DAYS</th>\n",
              "      <th>index</th>\n",
              "      <th>NO_OF_CLAIMS_IN_LAST3DAYS</th>\n",
              "      <th>CLAIM_VELOCITY</th>\n",
              "    </tr>\n",
              "  </thead>\n",
              "  <tbody>\n",
              "    <tr>\n",
              "      <th>0</th>\n",
              "      <td>140</td>\n",
              "      <td>Life</td>\n",
              "      <td>14</td>\n",
              "      <td>10.000000</td>\n",
              "    </tr>\n",
              "    <tr>\n",
              "      <th>1</th>\n",
              "      <td>136</td>\n",
              "      <td>Health</td>\n",
              "      <td>14</td>\n",
              "      <td>9.714286</td>\n",
              "    </tr>\n",
              "    <tr>\n",
              "      <th>2</th>\n",
              "      <td>134</td>\n",
              "      <td>Mobile</td>\n",
              "      <td>10</td>\n",
              "      <td>13.400000</td>\n",
              "    </tr>\n",
              "    <tr>\n",
              "      <th>3</th>\n",
              "      <td>129</td>\n",
              "      <td>Property</td>\n",
              "      <td>13</td>\n",
              "      <td>9.923077</td>\n",
              "    </tr>\n",
              "    <tr>\n",
              "      <th>4</th>\n",
              "      <td>125</td>\n",
              "      <td>Travel</td>\n",
              "      <td>14</td>\n",
              "      <td>8.928571</td>\n",
              "    </tr>\n",
              "    <tr>\n",
              "      <th>5</th>\n",
              "      <td>122</td>\n",
              "      <td>Motor</td>\n",
              "      <td>13</td>\n",
              "      <td>9.384615</td>\n",
              "    </tr>\n",
              "  </tbody>\n",
              "</table>\n",
              "</div>\n",
              "      <button class=\"colab-df-convert\" onclick=\"convertToInteractive('df-af6aabbc-0d56-494a-84c1-fa4d449312e1')\"\n",
              "              title=\"Convert this dataframe to an interactive table.\"\n",
              "              style=\"display:none;\">\n",
              "        \n",
              "  <svg xmlns=\"http://www.w3.org/2000/svg\" height=\"24px\"viewBox=\"0 0 24 24\"\n",
              "       width=\"24px\">\n",
              "    <path d=\"M0 0h24v24H0V0z\" fill=\"none\"/>\n",
              "    <path d=\"M18.56 5.44l.94 2.06.94-2.06 2.06-.94-2.06-.94-.94-2.06-.94 2.06-2.06.94zm-11 1L8.5 8.5l.94-2.06 2.06-.94-2.06-.94L8.5 2.5l-.94 2.06-2.06.94zm10 10l.94 2.06.94-2.06 2.06-.94-2.06-.94-.94-2.06-.94 2.06-2.06.94z\"/><path d=\"M17.41 7.96l-1.37-1.37c-.4-.4-.92-.59-1.43-.59-.52 0-1.04.2-1.43.59L10.3 9.45l-7.72 7.72c-.78.78-.78 2.05 0 2.83L4 21.41c.39.39.9.59 1.41.59.51 0 1.02-.2 1.41-.59l7.78-7.78 2.81-2.81c.8-.78.8-2.07 0-2.86zM5.41 20L4 18.59l7.72-7.72 1.47 1.35L5.41 20z\"/>\n",
              "  </svg>\n",
              "      </button>\n",
              "      \n",
              "  <style>\n",
              "    .colab-df-container {\n",
              "      display:flex;\n",
              "      flex-wrap:wrap;\n",
              "      gap: 12px;\n",
              "    }\n",
              "\n",
              "    .colab-df-convert {\n",
              "      background-color: #E8F0FE;\n",
              "      border: none;\n",
              "      border-radius: 50%;\n",
              "      cursor: pointer;\n",
              "      display: none;\n",
              "      fill: #1967D2;\n",
              "      height: 32px;\n",
              "      padding: 0 0 0 0;\n",
              "      width: 32px;\n",
              "    }\n",
              "\n",
              "    .colab-df-convert:hover {\n",
              "      background-color: #E2EBFA;\n",
              "      box-shadow: 0px 1px 2px rgba(60, 64, 67, 0.3), 0px 1px 3px 1px rgba(60, 64, 67, 0.15);\n",
              "      fill: #174EA6;\n",
              "    }\n",
              "\n",
              "    [theme=dark] .colab-df-convert {\n",
              "      background-color: #3B4455;\n",
              "      fill: #D2E3FC;\n",
              "    }\n",
              "\n",
              "    [theme=dark] .colab-df-convert:hover {\n",
              "      background-color: #434B5C;\n",
              "      box-shadow: 0px 1px 3px 1px rgba(0, 0, 0, 0.15);\n",
              "      filter: drop-shadow(0px 1px 2px rgba(0, 0, 0, 0.3));\n",
              "      fill: #FFFFFF;\n",
              "    }\n",
              "  </style>\n",
              "\n",
              "      <script>\n",
              "        const buttonEl =\n",
              "          document.querySelector('#df-af6aabbc-0d56-494a-84c1-fa4d449312e1 button.colab-df-convert');\n",
              "        buttonEl.style.display =\n",
              "          google.colab.kernel.accessAllowed ? 'block' : 'none';\n",
              "\n",
              "        async function convertToInteractive(key) {\n",
              "          const element = document.querySelector('#df-af6aabbc-0d56-494a-84c1-fa4d449312e1');\n",
              "          const dataTable =\n",
              "            await google.colab.kernel.invokeFunction('convertToInteractive',\n",
              "                                                     [key], {});\n",
              "          if (!dataTable) return;\n",
              "\n",
              "          const docLinkHtml = 'Like what you see? Visit the ' +\n",
              "            '<a target=\"_blank\" href=https://colab.research.google.com/notebooks/data_table.ipynb>data table notebook</a>'\n",
              "            + ' to learn more about interactive tables.';\n",
              "          element.innerHTML = '';\n",
              "          dataTable['output_type'] = 'display_data';\n",
              "          await google.colab.output.renderOutput(dataTable, element);\n",
              "          const docLink = document.createElement('div');\n",
              "          docLink.innerHTML = docLinkHtml;\n",
              "          element.appendChild(docLink);\n",
              "        }\n",
              "      </script>\n",
              "    </div>\n",
              "  </div>\n",
              "  "
            ]
          },
          "metadata": {},
          "execution_count": 57
        }
      ]
    },
    {
      "cell_type": "markdown",
      "source": [
        "#**Task #11**\n",
        "\n",
        "**Find all low performing agents i.e. employees who are in the bottom 5 percentile based\n",
        "on Claims worked by them.**\n",
        "# **Solution**\n",
        "**1.i will find 5 percentile of Titel Claim amount**\n",
        "\n",
        "**2.fillter all low performing agents i.e. employees who are in the bottom 5 percentile based on Claims worked by them**"
      ],
      "metadata": {
        "id": "6G-L0M12Reeo"
      }
    },
    {
      "cell_type": "code",
      "source": [
        "bottom_5_per=df.groupby('AGENT_ID').sum().quantile(0.05)['CLAIM_AMOUNT']\n",
        "bottom_5_per"
      ],
      "metadata": {
        "colab": {
          "base_uri": "https://localhost:8080/"
        },
        "id": "f2uXx4zgRa00",
        "outputId": "d7172909-4983-42a0-b64a-717595eefba9"
      },
      "execution_count": 58,
      "outputs": [
        {
          "output_type": "execute_result",
          "data": {
            "text/plain": [
              "30395.0"
            ]
          },
          "metadata": {},
          "execution_count": 58
        }
      ]
    },
    {
      "cell_type": "code",
      "source": [
        "grouped_data=df.groupby('AGENT_ID').sum()"
      ],
      "metadata": {
        "id": "DrlyuuaXSVfd"
      },
      "execution_count": 59,
      "outputs": []
    },
    {
      "cell_type": "code",
      "source": [
        "#all low performing agents i.e. employees who are in the bottom 5 percentile based on Claims worked by them.\n",
        "pd.DataFrame(grouped_data[grouped_data['CLAIM_AMOUNT']<=bottom_5_per]['CLAIM_AMOUNT'])"
      ],
      "metadata": {
        "colab": {
          "base_uri": "https://localhost:8080/",
          "height": 1000
        },
        "id": "pPQeTVtrSVbo",
        "outputId": "b4767e76-7d77-4b92-dea4-24612c132e6c"
      },
      "execution_count": 60,
      "outputs": [
        {
          "output_type": "execute_result",
          "data": {
            "text/plain": [
              "            CLAIM_AMOUNT\n",
              "AGENT_ID                \n",
              "AGENT00006         22400\n",
              "AGENT00014          7400\n",
              "AGENT00016         27000\n",
              "AGENT00085         25700\n",
              "AGENT00088         27700\n",
              "AGENT00091         30000\n",
              "AGENT00098         28200\n",
              "AGENT00134         22000\n",
              "AGENT00149         28900\n",
              "AGENT00156         13200\n",
              "AGENT00172         22200\n",
              "AGENT00185         16100\n",
              "AGENT00186         27700\n",
              "AGENT00188         28400\n",
              "AGENT00197         18500\n",
              "AGENT00252         20000\n",
              "AGENT00263         11500\n",
              "AGENT00275         16200\n",
              "AGENT00279         28000\n",
              "AGENT00300         12600\n",
              "AGENT00310         28800\n",
              "AGENT00316         22200\n",
              "AGENT00351         21700\n",
              "AGENT00425         17800\n",
              "AGENT00442         30300\n",
              "AGENT00536         20000\n",
              "AGENT00562         21100\n",
              "AGENT00571         24200\n",
              "AGENT00585         16600\n",
              "AGENT00590         22200\n",
              "AGENT00604          5500\n",
              "AGENT00621          5300\n",
              "AGENT00628          6100\n",
              "AGENT00672         21300\n",
              "AGENT00689         13700\n",
              "AGENT00706         10800\n",
              "AGENT00721          9000\n",
              "AGENT00732         11300\n",
              "AGENT00773         15000\n",
              "AGENT00780         11300\n",
              "AGENT00790          6000\n",
              "AGENT00804         20000\n",
              "AGENT00805         22600\n",
              "AGENT00830         23500\n",
              "AGENT00841         17800\n",
              "AGENT00856         24200\n",
              "AGENT00894         27600\n",
              "AGENT00910         15500\n",
              "AGENT00969         28300\n",
              "AGENT00985         30000\n",
              "AGENT01021         24300\n",
              "AGENT01037          5600\n",
              "AGENT01052         28000\n",
              "AGENT01077          4200\n",
              "AGENT01107         24700\n",
              "AGENT01128         28000\n",
              "AGENT01131         27500\n",
              "AGENT01151         28000\n",
              "AGENT01154           800\n",
              "AGENT01179         27300"
            ],
            "text/html": [
              "\n",
              "  <div id=\"df-b23eb3a7-2622-46dd-810e-38b01aef2bd8\">\n",
              "    <div class=\"colab-df-container\">\n",
              "      <div>\n",
              "<style scoped>\n",
              "    .dataframe tbody tr th:only-of-type {\n",
              "        vertical-align: middle;\n",
              "    }\n",
              "\n",
              "    .dataframe tbody tr th {\n",
              "        vertical-align: top;\n",
              "    }\n",
              "\n",
              "    .dataframe thead th {\n",
              "        text-align: right;\n",
              "    }\n",
              "</style>\n",
              "<table border=\"1\" class=\"dataframe\">\n",
              "  <thead>\n",
              "    <tr style=\"text-align: right;\">\n",
              "      <th></th>\n",
              "      <th>CLAIM_AMOUNT</th>\n",
              "    </tr>\n",
              "    <tr>\n",
              "      <th>AGENT_ID</th>\n",
              "      <th></th>\n",
              "    </tr>\n",
              "  </thead>\n",
              "  <tbody>\n",
              "    <tr>\n",
              "      <th>AGENT00006</th>\n",
              "      <td>22400</td>\n",
              "    </tr>\n",
              "    <tr>\n",
              "      <th>AGENT00014</th>\n",
              "      <td>7400</td>\n",
              "    </tr>\n",
              "    <tr>\n",
              "      <th>AGENT00016</th>\n",
              "      <td>27000</td>\n",
              "    </tr>\n",
              "    <tr>\n",
              "      <th>AGENT00085</th>\n",
              "      <td>25700</td>\n",
              "    </tr>\n",
              "    <tr>\n",
              "      <th>AGENT00088</th>\n",
              "      <td>27700</td>\n",
              "    </tr>\n",
              "    <tr>\n",
              "      <th>AGENT00091</th>\n",
              "      <td>30000</td>\n",
              "    </tr>\n",
              "    <tr>\n",
              "      <th>AGENT00098</th>\n",
              "      <td>28200</td>\n",
              "    </tr>\n",
              "    <tr>\n",
              "      <th>AGENT00134</th>\n",
              "      <td>22000</td>\n",
              "    </tr>\n",
              "    <tr>\n",
              "      <th>AGENT00149</th>\n",
              "      <td>28900</td>\n",
              "    </tr>\n",
              "    <tr>\n",
              "      <th>AGENT00156</th>\n",
              "      <td>13200</td>\n",
              "    </tr>\n",
              "    <tr>\n",
              "      <th>AGENT00172</th>\n",
              "      <td>22200</td>\n",
              "    </tr>\n",
              "    <tr>\n",
              "      <th>AGENT00185</th>\n",
              "      <td>16100</td>\n",
              "    </tr>\n",
              "    <tr>\n",
              "      <th>AGENT00186</th>\n",
              "      <td>27700</td>\n",
              "    </tr>\n",
              "    <tr>\n",
              "      <th>AGENT00188</th>\n",
              "      <td>28400</td>\n",
              "    </tr>\n",
              "    <tr>\n",
              "      <th>AGENT00197</th>\n",
              "      <td>18500</td>\n",
              "    </tr>\n",
              "    <tr>\n",
              "      <th>AGENT00252</th>\n",
              "      <td>20000</td>\n",
              "    </tr>\n",
              "    <tr>\n",
              "      <th>AGENT00263</th>\n",
              "      <td>11500</td>\n",
              "    </tr>\n",
              "    <tr>\n",
              "      <th>AGENT00275</th>\n",
              "      <td>16200</td>\n",
              "    </tr>\n",
              "    <tr>\n",
              "      <th>AGENT00279</th>\n",
              "      <td>28000</td>\n",
              "    </tr>\n",
              "    <tr>\n",
              "      <th>AGENT00300</th>\n",
              "      <td>12600</td>\n",
              "    </tr>\n",
              "    <tr>\n",
              "      <th>AGENT00310</th>\n",
              "      <td>28800</td>\n",
              "    </tr>\n",
              "    <tr>\n",
              "      <th>AGENT00316</th>\n",
              "      <td>22200</td>\n",
              "    </tr>\n",
              "    <tr>\n",
              "      <th>AGENT00351</th>\n",
              "      <td>21700</td>\n",
              "    </tr>\n",
              "    <tr>\n",
              "      <th>AGENT00425</th>\n",
              "      <td>17800</td>\n",
              "    </tr>\n",
              "    <tr>\n",
              "      <th>AGENT00442</th>\n",
              "      <td>30300</td>\n",
              "    </tr>\n",
              "    <tr>\n",
              "      <th>AGENT00536</th>\n",
              "      <td>20000</td>\n",
              "    </tr>\n",
              "    <tr>\n",
              "      <th>AGENT00562</th>\n",
              "      <td>21100</td>\n",
              "    </tr>\n",
              "    <tr>\n",
              "      <th>AGENT00571</th>\n",
              "      <td>24200</td>\n",
              "    </tr>\n",
              "    <tr>\n",
              "      <th>AGENT00585</th>\n",
              "      <td>16600</td>\n",
              "    </tr>\n",
              "    <tr>\n",
              "      <th>AGENT00590</th>\n",
              "      <td>22200</td>\n",
              "    </tr>\n",
              "    <tr>\n",
              "      <th>AGENT00604</th>\n",
              "      <td>5500</td>\n",
              "    </tr>\n",
              "    <tr>\n",
              "      <th>AGENT00621</th>\n",
              "      <td>5300</td>\n",
              "    </tr>\n",
              "    <tr>\n",
              "      <th>AGENT00628</th>\n",
              "      <td>6100</td>\n",
              "    </tr>\n",
              "    <tr>\n",
              "      <th>AGENT00672</th>\n",
              "      <td>21300</td>\n",
              "    </tr>\n",
              "    <tr>\n",
              "      <th>AGENT00689</th>\n",
              "      <td>13700</td>\n",
              "    </tr>\n",
              "    <tr>\n",
              "      <th>AGENT00706</th>\n",
              "      <td>10800</td>\n",
              "    </tr>\n",
              "    <tr>\n",
              "      <th>AGENT00721</th>\n",
              "      <td>9000</td>\n",
              "    </tr>\n",
              "    <tr>\n",
              "      <th>AGENT00732</th>\n",
              "      <td>11300</td>\n",
              "    </tr>\n",
              "    <tr>\n",
              "      <th>AGENT00773</th>\n",
              "      <td>15000</td>\n",
              "    </tr>\n",
              "    <tr>\n",
              "      <th>AGENT00780</th>\n",
              "      <td>11300</td>\n",
              "    </tr>\n",
              "    <tr>\n",
              "      <th>AGENT00790</th>\n",
              "      <td>6000</td>\n",
              "    </tr>\n",
              "    <tr>\n",
              "      <th>AGENT00804</th>\n",
              "      <td>20000</td>\n",
              "    </tr>\n",
              "    <tr>\n",
              "      <th>AGENT00805</th>\n",
              "      <td>22600</td>\n",
              "    </tr>\n",
              "    <tr>\n",
              "      <th>AGENT00830</th>\n",
              "      <td>23500</td>\n",
              "    </tr>\n",
              "    <tr>\n",
              "      <th>AGENT00841</th>\n",
              "      <td>17800</td>\n",
              "    </tr>\n",
              "    <tr>\n",
              "      <th>AGENT00856</th>\n",
              "      <td>24200</td>\n",
              "    </tr>\n",
              "    <tr>\n",
              "      <th>AGENT00894</th>\n",
              "      <td>27600</td>\n",
              "    </tr>\n",
              "    <tr>\n",
              "      <th>AGENT00910</th>\n",
              "      <td>15500</td>\n",
              "    </tr>\n",
              "    <tr>\n",
              "      <th>AGENT00969</th>\n",
              "      <td>28300</td>\n",
              "    </tr>\n",
              "    <tr>\n",
              "      <th>AGENT00985</th>\n",
              "      <td>30000</td>\n",
              "    </tr>\n",
              "    <tr>\n",
              "      <th>AGENT01021</th>\n",
              "      <td>24300</td>\n",
              "    </tr>\n",
              "    <tr>\n",
              "      <th>AGENT01037</th>\n",
              "      <td>5600</td>\n",
              "    </tr>\n",
              "    <tr>\n",
              "      <th>AGENT01052</th>\n",
              "      <td>28000</td>\n",
              "    </tr>\n",
              "    <tr>\n",
              "      <th>AGENT01077</th>\n",
              "      <td>4200</td>\n",
              "    </tr>\n",
              "    <tr>\n",
              "      <th>AGENT01107</th>\n",
              "      <td>24700</td>\n",
              "    </tr>\n",
              "    <tr>\n",
              "      <th>AGENT01128</th>\n",
              "      <td>28000</td>\n",
              "    </tr>\n",
              "    <tr>\n",
              "      <th>AGENT01131</th>\n",
              "      <td>27500</td>\n",
              "    </tr>\n",
              "    <tr>\n",
              "      <th>AGENT01151</th>\n",
              "      <td>28000</td>\n",
              "    </tr>\n",
              "    <tr>\n",
              "      <th>AGENT01154</th>\n",
              "      <td>800</td>\n",
              "    </tr>\n",
              "    <tr>\n",
              "      <th>AGENT01179</th>\n",
              "      <td>27300</td>\n",
              "    </tr>\n",
              "  </tbody>\n",
              "</table>\n",
              "</div>\n",
              "      <button class=\"colab-df-convert\" onclick=\"convertToInteractive('df-b23eb3a7-2622-46dd-810e-38b01aef2bd8')\"\n",
              "              title=\"Convert this dataframe to an interactive table.\"\n",
              "              style=\"display:none;\">\n",
              "        \n",
              "  <svg xmlns=\"http://www.w3.org/2000/svg\" height=\"24px\"viewBox=\"0 0 24 24\"\n",
              "       width=\"24px\">\n",
              "    <path d=\"M0 0h24v24H0V0z\" fill=\"none\"/>\n",
              "    <path d=\"M18.56 5.44l.94 2.06.94-2.06 2.06-.94-2.06-.94-.94-2.06-.94 2.06-2.06.94zm-11 1L8.5 8.5l.94-2.06 2.06-.94-2.06-.94L8.5 2.5l-.94 2.06-2.06.94zm10 10l.94 2.06.94-2.06 2.06-.94-2.06-.94-.94-2.06-.94 2.06-2.06.94z\"/><path d=\"M17.41 7.96l-1.37-1.37c-.4-.4-.92-.59-1.43-.59-.52 0-1.04.2-1.43.59L10.3 9.45l-7.72 7.72c-.78.78-.78 2.05 0 2.83L4 21.41c.39.39.9.59 1.41.59.51 0 1.02-.2 1.41-.59l7.78-7.78 2.81-2.81c.8-.78.8-2.07 0-2.86zM5.41 20L4 18.59l7.72-7.72 1.47 1.35L5.41 20z\"/>\n",
              "  </svg>\n",
              "      </button>\n",
              "      \n",
              "  <style>\n",
              "    .colab-df-container {\n",
              "      display:flex;\n",
              "      flex-wrap:wrap;\n",
              "      gap: 12px;\n",
              "    }\n",
              "\n",
              "    .colab-df-convert {\n",
              "      background-color: #E8F0FE;\n",
              "      border: none;\n",
              "      border-radius: 50%;\n",
              "      cursor: pointer;\n",
              "      display: none;\n",
              "      fill: #1967D2;\n",
              "      height: 32px;\n",
              "      padding: 0 0 0 0;\n",
              "      width: 32px;\n",
              "    }\n",
              "\n",
              "    .colab-df-convert:hover {\n",
              "      background-color: #E2EBFA;\n",
              "      box-shadow: 0px 1px 2px rgba(60, 64, 67, 0.3), 0px 1px 3px 1px rgba(60, 64, 67, 0.15);\n",
              "      fill: #174EA6;\n",
              "    }\n",
              "\n",
              "    [theme=dark] .colab-df-convert {\n",
              "      background-color: #3B4455;\n",
              "      fill: #D2E3FC;\n",
              "    }\n",
              "\n",
              "    [theme=dark] .colab-df-convert:hover {\n",
              "      background-color: #434B5C;\n",
              "      box-shadow: 0px 1px 3px 1px rgba(0, 0, 0, 0.15);\n",
              "      filter: drop-shadow(0px 1px 2px rgba(0, 0, 0, 0.3));\n",
              "      fill: #FFFFFF;\n",
              "    }\n",
              "  </style>\n",
              "\n",
              "      <script>\n",
              "        const buttonEl =\n",
              "          document.querySelector('#df-b23eb3a7-2622-46dd-810e-38b01aef2bd8 button.colab-df-convert');\n",
              "        buttonEl.style.display =\n",
              "          google.colab.kernel.accessAllowed ? 'block' : 'none';\n",
              "\n",
              "        async function convertToInteractive(key) {\n",
              "          const element = document.querySelector('#df-b23eb3a7-2622-46dd-810e-38b01aef2bd8');\n",
              "          const dataTable =\n",
              "            await google.colab.kernel.invokeFunction('convertToInteractive',\n",
              "                                                     [key], {});\n",
              "          if (!dataTable) return;\n",
              "\n",
              "          const docLinkHtml = 'Like what you see? Visit the ' +\n",
              "            '<a target=\"_blank\" href=https://colab.research.google.com/notebooks/data_table.ipynb>data table notebook</a>'\n",
              "            + ' to learn more about interactive tables.';\n",
              "          element.innerHTML = '';\n",
              "          dataTable['output_type'] = 'display_data';\n",
              "          await google.colab.output.renderOutput(dataTable, element);\n",
              "          const docLink = document.createElement('div');\n",
              "          docLink.innerHTML = docLinkHtml;\n",
              "          element.appendChild(docLink);\n",
              "        }\n",
              "      </script>\n",
              "    </div>\n",
              "  </div>\n",
              "  "
            ]
          },
          "metadata": {},
          "execution_count": 60
        }
      ]
    },
    {
      "cell_type": "markdown",
      "source": [
        "# **Task#12**\n",
        "**Business wants to find all Suspicious Employees (Agents).\n",
        "IF TOTAL CLAIM AMOUNT which meet below criteria is >= 15000 THEN AGENT is classified\n",
        "as Suspicious ELSE Not\n",
        "CLAIM_STATUS = Approved AND CUSTOMER_RISK_SEGMENTATION = High\n",
        "AND INCIDENT_SEVERITY = “Major Loss”\n",
        "If Suspicious, then 1 ELSE 0. Find mean of this column**"
      ],
      "metadata": {
        "id": "Jk0YsY6uBb9z"
      }
    },
    {
      "cell_type": "markdown",
      "source": [
        "#**Solution**:\n",
        "**1.i will filter with given condition and find index**\n",
        "\n",
        "**2.i will create new column Specious and find mean**"
      ],
      "metadata": {
        "id": "PzyrUaqVXm-a"
      }
    },
    {
      "cell_type": "code",
      "source": [
        "idx=df[(df['CLAIM_STATUS']=='A') & (df['RISK_SEGMENTATION']=='H') & (df['INCIDENT_SEVERITY']=='Major Loss')].groupby('AGENT_ID')['CLAIM_AMOUNT'].sum()>=15000\n",
        "idx=list(idx[idx].index)"
      ],
      "metadata": {
        "id": "c3n8dtxrSVYc"
      },
      "execution_count": 61,
      "outputs": []
    },
    {
      "cell_type": "code",
      "source": [
        "len(idx)"
      ],
      "metadata": {
        "colab": {
          "base_uri": "https://localhost:8080/"
        },
        "id": "nL1bad4cV-xt",
        "outputId": "1d83e31d-2732-4a88-c9ab-47654701cc8a"
      },
      "execution_count": 62,
      "outputs": [
        {
          "output_type": "execute_result",
          "data": {
            "text/plain": [
              "149"
            ]
          },
          "metadata": {},
          "execution_count": 62
        }
      ]
    },
    {
      "cell_type": "code",
      "source": [
        "import warnings\n",
        "warnings.filterwarnings(\"ignore\")\n",
        "employee['Specious']=0\n",
        "for i in range(employee.shape[0]):\n",
        "  if employee['AGENT_ID'][i] in idx:\n",
        "    employee['Specious'][i]=1\n",
        "print(\"the mean is: \",np.round(employee['Specious'].mean(),2))"
      ],
      "metadata": {
        "colab": {
          "base_uri": "https://localhost:8080/"
        },
        "id": "tX_JIRHLOPsa",
        "outputId": "32f67ffc-562e-4ee4-ae84-c6f5f630c03a"
      },
      "execution_count": 63,
      "outputs": [
        {
          "output_type": "stream",
          "name": "stdout",
          "text": [
            "the mean is:  0.12\n"
          ]
        }
      ]
    },
    {
      "cell_type": "markdown",
      "source": [
        "# **COMPLETE TASKS:::**"
      ],
      "metadata": {
        "id": "5pIdxBEX5Okk"
      }
    },
    {
      "cell_type": "code",
      "source": [],
      "metadata": {
        "id": "zQ-vP_KB5NqA"
      },
      "execution_count": null,
      "outputs": []
    }
  ]
}