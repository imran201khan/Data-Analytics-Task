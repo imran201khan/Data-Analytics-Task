{
  "nbformat": 4,
  "nbformat_minor": 0,
  "metadata": {
    "colab": {
      "name": "CleanData.ipynb",
      "provenance": [],
      "collapsed_sections": []
    },
    "kernelspec": {
      "name": "python3",
      "display_name": "Python 3"
    },
    "language_info": {
      "name": "python"
    }
  },
  "cells": [
    {
      "cell_type": "markdown",
      "source": [
        "# **1.Import Library**"
      ],
      "metadata": {
        "id": "YgTapbGIKfyM"
      }
    },
    {
      "cell_type": "code",
      "execution_count": 100,
      "metadata": {
        "id": "E8Xw44NCAvl7"
      },
      "outputs": [],
      "source": [
        "import numpy as np\n",
        "import pandas as pd\n",
        "import matplotlib.pyplot as plt\n",
        "import seaborn as sns\n",
        "import plotly.express as px\n",
        "from sklearn.impute import SimpleImputer"
      ]
    },
    {
      "cell_type": "markdown",
      "source": [
        "# **2.Read Csv**"
      ],
      "metadata": {
        "id": "tMt_H1LXKnf6"
      }
    },
    {
      "cell_type": "code",
      "source": [
        "df=pd.read_csv(\"/content/Data Analytics  split.csv\",skiprows=1)"
      ],
      "metadata": {
        "id": "OtEl1JXrB7HS"
      },
      "execution_count": 74,
      "outputs": []
    },
    {
      "cell_type": "markdown",
      "source": [
        "#**3.Size Of The Data**"
      ],
      "metadata": {
        "id": "L_rVsq-TK0Z6"
      }
    },
    {
      "cell_type": "code",
      "source": [
        "df.shape"
      ],
      "metadata": {
        "colab": {
          "base_uri": "https://localhost:8080/"
        },
        "id": "gLxu2Sf9COXK",
        "outputId": "cc3f0991-bcd4-459d-805e-668f90ac81c7"
      },
      "execution_count": 75,
      "outputs": [
        {
          "output_type": "execute_result",
          "data": {
            "text/plain": [
              "(2015, 15)"
            ]
          },
          "metadata": {},
          "execution_count": 75
        }
      ]
    },
    {
      "cell_type": "markdown",
      "source": [
        "# **4.Check Missing Values**"
      ],
      "metadata": {
        "id": "dweZjkU0K9s-"
      }
    },
    {
      "cell_type": "code",
      "source": [
        "df.isnull().sum()"
      ],
      "metadata": {
        "colab": {
          "base_uri": "https://localhost:8080/"
        },
        "id": "quapTozbCBAO",
        "outputId": "108c915a-155f-40e4-b49f-90a560b59994"
      },
      "execution_count": 76,
      "outputs": [
        {
          "output_type": "execute_result",
          "data": {
            "text/plain": [
              "Name                         15\n",
              "Ticker                       15\n",
              "Sub-Sector                   68\n",
              "Market Cap                   15\n",
              "Close Price                  15\n",
              "PE Ratio                     58\n",
              "Return on Equity            145\n",
              "Return on Assets             48\n",
              "Net Proﬁt Margin             62\n",
              "5Y Avg EBITDA Margin        135\n",
              "EBITDA Margin                62\n",
              "1Y Return vs Nifty           15\n",
              "5Y CAGR                     422\n",
              "Debt to Equity              180\n",
              "Long Term Debt to Equity    182\n",
              "dtype: int64"
            ]
          },
          "metadata": {},
          "execution_count": 76
        }
      ]
    },
    {
      "cell_type": "markdown",
      "source": [
        "# **5.Drop values from the data where company name is null**"
      ],
      "metadata": {
        "id": "h5g0tQyJLM0n"
      }
    },
    {
      "cell_type": "code",
      "source": [
        "df=df.dropna(subset=['Name'])"
      ],
      "metadata": {
        "id": "-v5wT7UZDP2q"
      },
      "execution_count": 77,
      "outputs": []
    },
    {
      "cell_type": "code",
      "source": [
        "df.isnull().sum()"
      ],
      "metadata": {
        "colab": {
          "base_uri": "https://localhost:8080/"
        },
        "id": "Hw5MaGmZHKzL",
        "outputId": "891a43b3-3c9b-4aad-ac15-419a697d8964"
      },
      "execution_count": 78,
      "outputs": [
        {
          "output_type": "execute_result",
          "data": {
            "text/plain": [
              "Name                          0\n",
              "Ticker                        0\n",
              "Sub-Sector                   53\n",
              "Market Cap                    0\n",
              "Close Price                   0\n",
              "PE Ratio                     43\n",
              "Return on Equity            130\n",
              "Return on Assets             48\n",
              "Net Proﬁt Margin             47\n",
              "5Y Avg EBITDA Margin        120\n",
              "EBITDA Margin                47\n",
              "1Y Return vs Nifty            0\n",
              "5Y CAGR                     407\n",
              "Debt to Equity              165\n",
              "Long Term Debt to Equity    167\n",
              "dtype: int64"
            ]
          },
          "metadata": {},
          "execution_count": 78
        }
      ]
    },
    {
      "cell_type": "code",
      "source": [
        "df.info()"
      ],
      "metadata": {
        "colab": {
          "base_uri": "https://localhost:8080/"
        },
        "id": "z5sJGdCMIYnN",
        "outputId": "586f61b4-09c7-48fe-d236-ed899b2dc138"
      },
      "execution_count": 79,
      "outputs": [
        {
          "output_type": "stream",
          "name": "stdout",
          "text": [
            "<class 'pandas.core.frame.DataFrame'>\n",
            "Int64Index: 2000 entries, 0 to 2013\n",
            "Data columns (total 15 columns):\n",
            " #   Column                    Non-Null Count  Dtype  \n",
            "---  ------                    --------------  -----  \n",
            " 0   Name                      2000 non-null   object \n",
            " 1   Ticker                    2000 non-null   object \n",
            " 2   Sub-Sector                1947 non-null   object \n",
            " 3   Market Cap                2000 non-null   float64\n",
            " 4   Close Price               2000 non-null   float64\n",
            " 5   PE Ratio                  1957 non-null   float64\n",
            " 6   Return on Equity          1870 non-null   float64\n",
            " 7   Return on Assets          1952 non-null   float64\n",
            " 8   Net Proﬁt Margin          1953 non-null   float64\n",
            " 9   5Y Avg EBITDA Margin      1880 non-null   float64\n",
            " 10  EBITDA Margin             1953 non-null   float64\n",
            " 11  1Y Return vs Nifty        2000 non-null   float64\n",
            " 12  5Y CAGR                   1593 non-null   float64\n",
            " 13  Debt to Equity            1835 non-null   float64\n",
            " 14  Long Term Debt to Equity  1833 non-null   float64\n",
            "dtypes: float64(12), object(3)\n",
            "memory usage: 250.0+ KB\n"
          ]
        }
      ]
    },
    {
      "cell_type": "markdown",
      "source": [
        "#6.**In data almost 2.5% values of Sub Sector is null drop them**\n",
        "i have no idea which company is blong to wich sub-sector"
      ],
      "metadata": {
        "id": "deWvtE1nLqHx"
      }
    },
    {
      "cell_type": "code",
      "source": [
        "df=df.dropna(subset=['Sub-Sector'])"
      ],
      "metadata": {
        "id": "w96pEGdPHYSN"
      },
      "execution_count": 80,
      "outputs": []
    },
    {
      "cell_type": "markdown",
      "source": [
        "# **7.in data numerical continues values have missing values i will fill them to mean**"
      ],
      "metadata": {
        "id": "FJ8ZWm_6MkxX"
      }
    },
    {
      "cell_type": "code",
      "source": [
        "df.describe()"
      ],
      "metadata": {
        "colab": {
          "base_uri": "https://localhost:8080/",
          "height": 399
        },
        "id": "9AHCycpaJvvN",
        "outputId": "66fed08d-973c-4891-c11b-6f859f89d847"
      },
      "execution_count": 81,
      "outputs": [
        {
          "output_type": "execute_result",
          "data": {
            "text/plain": [
              "         Market Cap   Close Price      PE Ratio  Return on Equity  \\\n",
              "count  1.947000e+03   1947.000000  1.908000e+03       1824.000000   \n",
              "mean   1.346959e+04    749.866174  4.677989e+15          5.224347   \n",
              "std    6.746123e+04   2523.482960  2.043377e+17         99.139988   \n",
              "min    1.249950e+02      0.200000 -6.046040e+03      -3170.204082   \n",
              "25%    3.136396e+02     81.900000  6.761304e+00          2.120491   \n",
              "50%    1.059327e+03    225.750000  2.067297e+01          9.546071   \n",
              "75%    5.130832e+03    625.950000  4.655440e+01         17.397829   \n",
              "max    1.679534e+06  66876.350000  8.925604e+18       1059.713467   \n",
              "\n",
              "       Return on Assets  Net Proﬁt Margin  5Y Avg EBITDA Margin  \\\n",
              "count       1903.000000      1.904000e+03           1839.000000   \n",
              "mean           5.043757     -6.431191e+02           -240.276460   \n",
              "std           17.596426      2.687663e+04           9648.047091   \n",
              "min         -260.337553     -1.172500e+06        -412176.819645   \n",
              "25%            0.503505      9.181997e-01              7.927618   \n",
              "50%            4.045901      5.813720e+00             13.550183   \n",
              "75%            9.443002      1.242438e+01             21.103673   \n",
              "max          480.834915      2.443590e+03            430.283277   \n",
              "\n",
              "       EBITDA Margin  1Y Return vs Nifty      5Y CAGR  Debt to Equity  \\\n",
              "count    1904.000000         1947.000000  1570.000000     1787.000000   \n",
              "mean      -88.905639           99.832741    13.815676      140.604756   \n",
              "std      3884.966909          517.757038    28.444384     1379.138762   \n",
              "min   -168980.000000          -99.414554   -53.830928        0.000000   \n",
              "25%         8.092970          -11.502973    -2.309591        5.443725   \n",
              "50%        14.723659           24.505954     9.495240       29.551211   \n",
              "75%        24.176939           97.419591    24.917170       82.641343   \n",
              "max      2635.897436        18121.401250   344.709661    48909.090910   \n",
              "\n",
              "       Long Term Debt to Equity  \n",
              "count               1785.000000  \n",
              "mean                  78.129701  \n",
              "std                  617.711065  \n",
              "min                    0.000000  \n",
              "25%                    0.583431  \n",
              "50%                    8.655229  \n",
              "75%                   37.641387  \n",
              "max                18638.057010  "
            ],
            "text/html": [
              "\n",
              "  <div id=\"df-338e2a9a-ed3c-44f0-9b7b-2b8efe4f7f74\">\n",
              "    <div class=\"colab-df-container\">\n",
              "      <div>\n",
              "<style scoped>\n",
              "    .dataframe tbody tr th:only-of-type {\n",
              "        vertical-align: middle;\n",
              "    }\n",
              "\n",
              "    .dataframe tbody tr th {\n",
              "        vertical-align: top;\n",
              "    }\n",
              "\n",
              "    .dataframe thead th {\n",
              "        text-align: right;\n",
              "    }\n",
              "</style>\n",
              "<table border=\"1\" class=\"dataframe\">\n",
              "  <thead>\n",
              "    <tr style=\"text-align: right;\">\n",
              "      <th></th>\n",
              "      <th>Market Cap</th>\n",
              "      <th>Close Price</th>\n",
              "      <th>PE Ratio</th>\n",
              "      <th>Return on Equity</th>\n",
              "      <th>Return on Assets</th>\n",
              "      <th>Net Proﬁt Margin</th>\n",
              "      <th>5Y Avg EBITDA Margin</th>\n",
              "      <th>EBITDA Margin</th>\n",
              "      <th>1Y Return vs Nifty</th>\n",
              "      <th>5Y CAGR</th>\n",
              "      <th>Debt to Equity</th>\n",
              "      <th>Long Term Debt to Equity</th>\n",
              "    </tr>\n",
              "  </thead>\n",
              "  <tbody>\n",
              "    <tr>\n",
              "      <th>count</th>\n",
              "      <td>1.947000e+03</td>\n",
              "      <td>1947.000000</td>\n",
              "      <td>1.908000e+03</td>\n",
              "      <td>1824.000000</td>\n",
              "      <td>1903.000000</td>\n",
              "      <td>1.904000e+03</td>\n",
              "      <td>1839.000000</td>\n",
              "      <td>1904.000000</td>\n",
              "      <td>1947.000000</td>\n",
              "      <td>1570.000000</td>\n",
              "      <td>1787.000000</td>\n",
              "      <td>1785.000000</td>\n",
              "    </tr>\n",
              "    <tr>\n",
              "      <th>mean</th>\n",
              "      <td>1.346959e+04</td>\n",
              "      <td>749.866174</td>\n",
              "      <td>4.677989e+15</td>\n",
              "      <td>5.224347</td>\n",
              "      <td>5.043757</td>\n",
              "      <td>-6.431191e+02</td>\n",
              "      <td>-240.276460</td>\n",
              "      <td>-88.905639</td>\n",
              "      <td>99.832741</td>\n",
              "      <td>13.815676</td>\n",
              "      <td>140.604756</td>\n",
              "      <td>78.129701</td>\n",
              "    </tr>\n",
              "    <tr>\n",
              "      <th>std</th>\n",
              "      <td>6.746123e+04</td>\n",
              "      <td>2523.482960</td>\n",
              "      <td>2.043377e+17</td>\n",
              "      <td>99.139988</td>\n",
              "      <td>17.596426</td>\n",
              "      <td>2.687663e+04</td>\n",
              "      <td>9648.047091</td>\n",
              "      <td>3884.966909</td>\n",
              "      <td>517.757038</td>\n",
              "      <td>28.444384</td>\n",
              "      <td>1379.138762</td>\n",
              "      <td>617.711065</td>\n",
              "    </tr>\n",
              "    <tr>\n",
              "      <th>min</th>\n",
              "      <td>1.249950e+02</td>\n",
              "      <td>0.200000</td>\n",
              "      <td>-6.046040e+03</td>\n",
              "      <td>-3170.204082</td>\n",
              "      <td>-260.337553</td>\n",
              "      <td>-1.172500e+06</td>\n",
              "      <td>-412176.819645</td>\n",
              "      <td>-168980.000000</td>\n",
              "      <td>-99.414554</td>\n",
              "      <td>-53.830928</td>\n",
              "      <td>0.000000</td>\n",
              "      <td>0.000000</td>\n",
              "    </tr>\n",
              "    <tr>\n",
              "      <th>25%</th>\n",
              "      <td>3.136396e+02</td>\n",
              "      <td>81.900000</td>\n",
              "      <td>6.761304e+00</td>\n",
              "      <td>2.120491</td>\n",
              "      <td>0.503505</td>\n",
              "      <td>9.181997e-01</td>\n",
              "      <td>7.927618</td>\n",
              "      <td>8.092970</td>\n",
              "      <td>-11.502973</td>\n",
              "      <td>-2.309591</td>\n",
              "      <td>5.443725</td>\n",
              "      <td>0.583431</td>\n",
              "    </tr>\n",
              "    <tr>\n",
              "      <th>50%</th>\n",
              "      <td>1.059327e+03</td>\n",
              "      <td>225.750000</td>\n",
              "      <td>2.067297e+01</td>\n",
              "      <td>9.546071</td>\n",
              "      <td>4.045901</td>\n",
              "      <td>5.813720e+00</td>\n",
              "      <td>13.550183</td>\n",
              "      <td>14.723659</td>\n",
              "      <td>24.505954</td>\n",
              "      <td>9.495240</td>\n",
              "      <td>29.551211</td>\n",
              "      <td>8.655229</td>\n",
              "    </tr>\n",
              "    <tr>\n",
              "      <th>75%</th>\n",
              "      <td>5.130832e+03</td>\n",
              "      <td>625.950000</td>\n",
              "      <td>4.655440e+01</td>\n",
              "      <td>17.397829</td>\n",
              "      <td>9.443002</td>\n",
              "      <td>1.242438e+01</td>\n",
              "      <td>21.103673</td>\n",
              "      <td>24.176939</td>\n",
              "      <td>97.419591</td>\n",
              "      <td>24.917170</td>\n",
              "      <td>82.641343</td>\n",
              "      <td>37.641387</td>\n",
              "    </tr>\n",
              "    <tr>\n",
              "      <th>max</th>\n",
              "      <td>1.679534e+06</td>\n",
              "      <td>66876.350000</td>\n",
              "      <td>8.925604e+18</td>\n",
              "      <td>1059.713467</td>\n",
              "      <td>480.834915</td>\n",
              "      <td>2.443590e+03</td>\n",
              "      <td>430.283277</td>\n",
              "      <td>2635.897436</td>\n",
              "      <td>18121.401250</td>\n",
              "      <td>344.709661</td>\n",
              "      <td>48909.090910</td>\n",
              "      <td>18638.057010</td>\n",
              "    </tr>\n",
              "  </tbody>\n",
              "</table>\n",
              "</div>\n",
              "      <button class=\"colab-df-convert\" onclick=\"convertToInteractive('df-338e2a9a-ed3c-44f0-9b7b-2b8efe4f7f74')\"\n",
              "              title=\"Convert this dataframe to an interactive table.\"\n",
              "              style=\"display:none;\">\n",
              "        \n",
              "  <svg xmlns=\"http://www.w3.org/2000/svg\" height=\"24px\"viewBox=\"0 0 24 24\"\n",
              "       width=\"24px\">\n",
              "    <path d=\"M0 0h24v24H0V0z\" fill=\"none\"/>\n",
              "    <path d=\"M18.56 5.44l.94 2.06.94-2.06 2.06-.94-2.06-.94-.94-2.06-.94 2.06-2.06.94zm-11 1L8.5 8.5l.94-2.06 2.06-.94-2.06-.94L8.5 2.5l-.94 2.06-2.06.94zm10 10l.94 2.06.94-2.06 2.06-.94-2.06-.94-.94-2.06-.94 2.06-2.06.94z\"/><path d=\"M17.41 7.96l-1.37-1.37c-.4-.4-.92-.59-1.43-.59-.52 0-1.04.2-1.43.59L10.3 9.45l-7.72 7.72c-.78.78-.78 2.05 0 2.83L4 21.41c.39.39.9.59 1.41.59.51 0 1.02-.2 1.41-.59l7.78-7.78 2.81-2.81c.8-.78.8-2.07 0-2.86zM5.41 20L4 18.59l7.72-7.72 1.47 1.35L5.41 20z\"/>\n",
              "  </svg>\n",
              "      </button>\n",
              "      \n",
              "  <style>\n",
              "    .colab-df-container {\n",
              "      display:flex;\n",
              "      flex-wrap:wrap;\n",
              "      gap: 12px;\n",
              "    }\n",
              "\n",
              "    .colab-df-convert {\n",
              "      background-color: #E8F0FE;\n",
              "      border: none;\n",
              "      border-radius: 50%;\n",
              "      cursor: pointer;\n",
              "      display: none;\n",
              "      fill: #1967D2;\n",
              "      height: 32px;\n",
              "      padding: 0 0 0 0;\n",
              "      width: 32px;\n",
              "    }\n",
              "\n",
              "    .colab-df-convert:hover {\n",
              "      background-color: #E2EBFA;\n",
              "      box-shadow: 0px 1px 2px rgba(60, 64, 67, 0.3), 0px 1px 3px 1px rgba(60, 64, 67, 0.15);\n",
              "      fill: #174EA6;\n",
              "    }\n",
              "\n",
              "    [theme=dark] .colab-df-convert {\n",
              "      background-color: #3B4455;\n",
              "      fill: #D2E3FC;\n",
              "    }\n",
              "\n",
              "    [theme=dark] .colab-df-convert:hover {\n",
              "      background-color: #434B5C;\n",
              "      box-shadow: 0px 1px 3px 1px rgba(0, 0, 0, 0.15);\n",
              "      filter: drop-shadow(0px 1px 2px rgba(0, 0, 0, 0.3));\n",
              "      fill: #FFFFFF;\n",
              "    }\n",
              "  </style>\n",
              "\n",
              "      <script>\n",
              "        const buttonEl =\n",
              "          document.querySelector('#df-338e2a9a-ed3c-44f0-9b7b-2b8efe4f7f74 button.colab-df-convert');\n",
              "        buttonEl.style.display =\n",
              "          google.colab.kernel.accessAllowed ? 'block' : 'none';\n",
              "\n",
              "        async function convertToInteractive(key) {\n",
              "          const element = document.querySelector('#df-338e2a9a-ed3c-44f0-9b7b-2b8efe4f7f74');\n",
              "          const dataTable =\n",
              "            await google.colab.kernel.invokeFunction('convertToInteractive',\n",
              "                                                     [key], {});\n",
              "          if (!dataTable) return;\n",
              "\n",
              "          const docLinkHtml = 'Like what you see? Visit the ' +\n",
              "            '<a target=\"_blank\" href=https://colab.research.google.com/notebooks/data_table.ipynb>data table notebook</a>'\n",
              "            + ' to learn more about interactive tables.';\n",
              "          element.innerHTML = '';\n",
              "          dataTable['output_type'] = 'display_data';\n",
              "          await google.colab.output.renderOutput(dataTable, element);\n",
              "          const docLink = document.createElement('div');\n",
              "          docLink.innerHTML = docLinkHtml;\n",
              "          element.appendChild(docLink);\n",
              "        }\n",
              "      </script>\n",
              "    </div>\n",
              "  </div>\n",
              "  "
            ]
          },
          "metadata": {},
          "execution_count": 81
        }
      ]
    },
    {
      "cell_type": "markdown",
      "source": [
        "# **fill null values with mean**"
      ],
      "metadata": {
        "id": "7xalENaYPRXL"
      }
    },
    {
      "cell_type": "code",
      "source": [
        "imputer=SimpleImputer(strategy='mean')\n",
        "for col in df.columns:\n",
        "  if df[col].dtype=='object':\n",
        "    continue\n",
        "  df[col]=imputer.fit_transform(df[col].values.reshape(-1,1))"
      ],
      "metadata": {
        "id": "TrcdhOBDOhoj",
        "colab": {
          "base_uri": "https://localhost:8080/"
        },
        "outputId": "ca7d6d62-8ff6-438f-df9e-bf9597d1777d"
      },
      "execution_count": 82,
      "outputs": [
        {
          "output_type": "stream",
          "name": "stderr",
          "text": [
            "/usr/local/lib/python3.7/dist-packages/ipykernel_launcher.py:5: SettingWithCopyWarning: \n",
            "A value is trying to be set on a copy of a slice from a DataFrame.\n",
            "Try using .loc[row_indexer,col_indexer] = value instead\n",
            "\n",
            "See the caveats in the documentation: https://pandas.pydata.org/pandas-docs/stable/user_guide/indexing.html#returning-a-view-versus-a-copy\n",
            "  \"\"\"\n"
          ]
        }
      ]
    },
    {
      "cell_type": "code",
      "source": [
        "df.isnull().sum()"
      ],
      "metadata": {
        "colab": {
          "base_uri": "https://localhost:8080/"
        },
        "id": "5-63-8t6Owe7",
        "outputId": "b247d391-b043-4e34-d98c-317537aac575"
      },
      "execution_count": 83,
      "outputs": [
        {
          "output_type": "execute_result",
          "data": {
            "text/plain": [
              "Name                        0\n",
              "Ticker                      0\n",
              "Sub-Sector                  0\n",
              "Market Cap                  0\n",
              "Close Price                 0\n",
              "PE Ratio                    0\n",
              "Return on Equity            0\n",
              "Return on Assets            0\n",
              "Net Proﬁt Margin            0\n",
              "5Y Avg EBITDA Margin        0\n",
              "EBITDA Margin               0\n",
              "1Y Return vs Nifty          0\n",
              "5Y CAGR                     0\n",
              "Debt to Equity              0\n",
              "Long Term Debt to Equity    0\n",
              "dtype: int64"
            ]
          },
          "metadata": {},
          "execution_count": 83
        }
      ]
    },
    {
      "cell_type": "markdown",
      "source": [
        "# **Data is not completly clean but for this task its enough**"
      ],
      "metadata": {
        "id": "26inHw1pQccS"
      }
    },
    {
      "cell_type": "code",
      "source": [
        "df.to_csv('Data_Analytics_Clean.csv')"
      ],
      "metadata": {
        "id": "FDObJZdaQLKw"
      },
      "execution_count": 84,
      "outputs": []
    },
    {
      "cell_type": "markdown",
      "source": [
        "# **Problem 1**"
      ],
      "metadata": {
        "id": "PuNlOXe-RSn8"
      }
    },
    {
      "cell_type": "code",
      "source": [
        "px.bar(df,x='Sub-Sector',y='Name')"
      ],
      "metadata": {
        "colab": {
          "base_uri": "https://localhost:8080/",
          "height": 542
        },
        "id": "X1DsCFRJR1jq",
        "outputId": "e0ff3712-e49a-46e7-8bf2-b6b124431449"
      },
      "execution_count": 102,
      "outputs": [
        {
          "output_type": "display_data",
          "data": {
            "text/html": [
              "<html>\n",
              "<head><meta charset=\"utf-8\" /></head>\n",
              "<body>\n",
              "    <div>            <script src=\"https://cdnjs.cloudflare.com/ajax/libs/mathjax/2.7.5/MathJax.js?config=TeX-AMS-MML_SVG\"></script><script type=\"text/javascript\">if (window.MathJax) {MathJax.Hub.Config({SVG: {font: \"STIX-Web\"}});}</script>                <script type=\"text/javascript\">window.PlotlyConfig = {MathJaxConfig: 'local'};</script>\n",
              "        <script src=\"https://cdn.plot.ly/plotly-2.8.3.min.js\"></script>                <div id=\"97edb538-b24f-48b4-866e-bcb45a2c619b\" class=\"plotly-graph-div\" style=\"height:525px; width:100%;\"></div>            <script type=\"text/javascript\">                                    window.PLOTLYENV=window.PLOTLYENV || {};                                    if (document.getElementById(\"97edb538-b24f-48b4-866e-bcb45a2c619b\")) {                    Plotly.newPlot(                        \"97edb538-b24f-48b4-866e-bcb45a2c619b\",                        [{\"alignmentgroup\":\"True\",\"hovertemplate\":\"Sub-Sector=%{x}<br>Name=%{y}<extra></extra>\",\"legendgroup\":\"\",\"marker\":{\"color\":\"#636efa\",\"pattern\":{\"shape\":\"\"}},\"name\":\"\",\"offsetgroup\":\"\",\"orientation\":\"v\",\"showlegend\":false,\"textposition\":\"auto\",\"x\":[\"Oil & Gas - Re\\ufb01ning & Marketing\",\"IT Services & Consulting\",\"Private Banks\",\"IT Services & Consulting\",\"Private Banks\",\"FMCG - Household Products\",\"Public Banks\",\"Home Financing\",\"Consumer Finance\",\"Telecom Services\",\"Private Banks\",\"IT Services & Consulting\",\"IT Services & Consulting\",\"FMCG - Tobacco\",\"Paints\",\"Renewable Energy\",\"Retail - Department Stores\",\"Power Infrastructure\",\"Insurance\",\"Construction & Engineering\",\"Precious Metals, Jewellery & Watches\",\"Four Wheelers\",\"Private Banks\",\"Pharmaceuticals\",\"Oil & Gas - Exploration & Production\",\"Commodities Trading\",\"Gas Distribution\",\"Cement\",\"FMCG - Foods\",\"Iron & Steel\",\"Iron & Steel\",\"Ports\",\"Four Wheelers\",\"Four Wheelers\",\"Power Transmission & Distribution\",\"IT Services & Consulting\",\"Metals - Diversi\\ufb01ed\",\"Mining - Diversi\\ufb01ed\",\"Metals - Aluminium\",\"Power Generation\",\"Diversi\\ufb01ed Chemicals\",\"Labs & Life Sciences Services\",\"Oil & Gas - Re\\ufb01ning & Marketing\",\"Insurance\",\"Insurance\",\"Mining - Coal\",\"IT Services & Consulting\",\"Cement\",\"Two Wheelers\",\"FMCG - Personal Products\",\"Four Wheelers\",\"Real Estate\",\"Cement\",\"Conglomerates\",\"Pharmaceuticals\",\"FMCG - Foods\",\"Payment Infrastructure\",\"Oil & Gas - Re\\ufb01ning & Marketing\",\"Textiles\",\"FMCG - Personal Products\",\"Power Transmission & Distribution\",\"Business Support Services\",\"Airlines\",\"Private Banks\",\"Electrical Components & Equipments\",\"Tea & Co\\ufb00ee\",\"Insurance\",\"Paints\",\"Hospitals & Diagnostic Centres\",\"FMCG - Personal Products\",\"Gas Distribution\",\"Pharmaceuticals\",\"Alcoholic Beverages\",\"Trucks & Buses\",\"IT Services & Consulting\",\"Insurance\",\"Auto Parts\",\"Online Services\",\"Online Services\",\"Cement\",\"Consumer Finance\",\"Online Services\",\"IT Services & Consulting\",\"Fertilizers & Agro Chemicals\",\"Telecom Infrastructure\",\"Public Banks\",\"Asset Management\",\"Diversi\\ufb01ed Financials\",\"Pharmaceuticals\",\"Consumer Finance\",\"Real Estate\",\"Electronic Equipments\",\"FMCG - Personal Products\",\"Software Services\",\"Power Generation\",\"Iron & Steel\",\"Pharmaceuticals\",\"Private Banks\",\"Two Wheelers\",\"Aerospace & Defense Equipments\",\"Power Generation\",\"Asset Management\",\"Apparel & Accessories\",\"Software Services\",\"Public Banks\",\"Retail - Apparel\",\"Heavy Electrical Equipments\",\"Real Estate\",\"Mining - Iron Ore\",\"Auto Parts\",\"Home Electronics & Appliances\",\"Diversi\\ufb01ed Chemicals\",\"FMCG - Personal Products\",\"Tires & Rubber\",\"Pharmaceuticals\",\"Soft Drinks\",\"Public Banks\",\"Building Products - Pipes\",\"Iron & Steel\",\"Auto Parts\",\"Oil & Gas - Re\\ufb01ning & Marketing\",\"Cement\",\"Public Banks\",\"Biotechnology\",\"Alcoholic Beverages\",\"Online Services\",\"Pharmaceuticals\",\"Logistics\",\"Pharmaceuticals\",\"Insurance\",\"Pharmaceuticals\",\"Consumer Finance\",\"Electrical Components & Equipments\",\"Electronic Equipments\",\"Pharmaceuticals\",\"Gas Distribution\",\"Online Services\",\"Real Estate\",\"Software Services\",\"Public Banks\",\"Restaurants & Cafes\",\"Specialty Chemicals\",\"Trucks & Buses\",\"Real Estate\",\"Telecom Services\",\"Private Banks\",\"Hospitals & Diagnostic Centres\",\"Specialty Chemicals\",\"Iron & Steel\",\"Pharmaceuticals\",\"Oil & Gas - Storage & Transportation\",\"Specialized Finance\",\"Software Services\",\"Consumer Finance\",\"Commodity Chemicals\",\"Specialized Finance\",\"Cycles\",\"Packaged Foods & Meats\",\"Auto Parts\",\"Telecom Services\",\"Tires & Rubber\",\"Two Wheelers\",\"Diversi\\ufb01ed Chemicals\",\"Industrial Machinery\",\"Renewable Energy\",\"Footwear\",\"Insurance\",\"Auto Parts\",\"Hotels, Resorts & Cruise Lines\",\"Gas Distribution\",\"Commodity Chemicals\",\"Cement\",\"Textiles\",\"Public Banks\",\"IT Services & Consulting\",\"Retail - Apparel\",\"Pharmaceuticals\",\"Home Electronics & Appliances\",\"Private Banks\",\"Diversi\\ufb01ed Financials\",\"Pharmaceuticals\",\"Plastic Products\",\"FMCG - Foods\",\"Telecom Services\",\"Paints\",\"Footwear\",\"Fertilizers & Agro Chemicals\",\"TV Channels & Broadcasters\",\"Specialized Finance\",\"Home Electronics & Appliances\",\"Heavy Electrical Equipments\",\"Diversi\\ufb01ed Chemicals\",\"Oil & Gas - Exploration & Production\",\"Tractors\",\"Labs & Life Sciences Services\",\"Commodity Chemicals\",\"Power Transmission & Distribution\",\"Construction & Engineering\",\"Building Products - Pipes\",\"Hospitals & Diagnostic Centres\",\"Industrial Machinery\",\"Stationery\",\"Specialty Chemicals\",\"Textiles\",\"Precious Metals, Jewellery & Watches\",\"Metals - Aluminium\",\"FMCG - Personal Products\",\"Textiles\",\"Asset Management\",\"Stock Exchanges & Ratings\",\"Insurance\",\"Home Electronics & Appliances\",\"Private Banks\",\"Industrial Machinery\",\"Consumer Finance\",\"Commodity Chemicals\",\"Specialty Chemicals\",\"Real Estate\",\"Investment Banking & Brokerage\",\"Pharmaceuticals\",\"Home Financing\",\"Fertilizers & Agro Chemicals\",\"Insurance\",\"Specialty Chemicals\",\"Power Trading & Consultancy\",\"Equity\",\"Software Services\",\"Public Banks\",\"Home Financing\",\"Public Banks\",\"Consumer Finance\",\"Cement\",\"Real Estate\",\"Restaurants & Cafes\",\"Hospitals & Diagnostic Centres\",\"Consumer Finance\",\"Home Financing\",\"TV Channels & Broadcasters\",\"Auto Parts\",\"Real Estate\",\"Cement\",\"Heavy Electrical Equipments\",\"Diversi\\ufb01ed Financials\",\"Pharmaceuticals\",\"Fertilizers & Agro Chemicals\",\"Building Products - Ceramics\",\"Pharmaceuticals\",\"Industrial Machinery\",\"Diversi\\ufb01ed Chemicals\",\"Auto Parts\",\"Industrial Machinery\",\"IT Services & Consulting\",\"Industrial Machinery\",\"Diversi\\ufb01ed Chemicals\",\"Home Furnishing\",\"Advertising\",\"Public Banks\",\"Stock Exchanges & Ratings\",\"FMCG - Personal Products\",\"IT Services & Consulting\",\"Footwear\",\"Textiles\",\"Pharmaceuticals\",\"Wood Products\",\"Specialty Chemicals\",\"Industrial Machinery\",\"Gas Distribution\",\"Logistics\",\"Heavy Electrical Equipments\",\"Equity\",\"Asset Management\",\"Real Estate\",\"Pharmaceuticals\",\"Public Banks\",\"Advertising\",\"Hospitals & Diagnostic Centres\",\"Construction & Engineering\",\"Auto Parts\",\"Construction & Engineering\",\"Iron & Steel\",\"Asset Management\",\"Online Services\",\"Cement\",\"Investment Banking & Brokerage\",\"Pharmaceuticals\",\"Batteries\",\"Diversi\\ufb01ed Financials\",\"Alcoholic Beverages\",\"Stock Exchanges & Ratings\",\"Pharmaceuticals\",\"Home Electronics & Appliances\",\"Diversi\\ufb01ed Chemicals\",\"IT Services & Consulting\",\"Pharmaceuticals\",\"Tires & Rubber\",\"Specialty Chemicals\",\"Textiles\",\"Home Electronics & Appliances\",\"Real Estate\",\"Public Banks\",\"Home Electronics & Appliances\",\"Online Services\",\"Consumer Finance\",\"Fertilizers & Agro Chemicals\",\"Asset Management\",\"TV Channels & Broadcasters\",\"Technology Hardware\",\"Diversi\\ufb01ed Financials\",\"Power Transmission & Distribution\",\"Diversi\\ufb01ed Financials\",\"Mining - Copper\",\"Specialty Chemicals\",\"Aerospace & Defense Equipments\",\"Investment Banking & Brokerage\",\"Consumer Finance\",\"Renewable Energy\",\"Industrial Machinery\",\"Consumer Finance\",\"Hospitals & Diagnostic Centres\",\"Auto Parts\",\"Commodity Chemicals\",\"Theatres\",\"Construction & Engineering\",\"Telecom Equipments\",\"Building Products - Pipes\",\"Software Services\",\"Specialty Chemicals\",\"Hospitals & Diagnostic Centres\",\"Cables\",\"Textiles\",\"Power Transmission & Distribution\",\"Specialty Chemicals\",\"Consumer Finance\",\"Batteries\",\"Software Services\",\"Real Estate\",\"Sugar\",\"IT Services & Consulting\",\"Power Generation\",\"Pharmaceuticals\",\"Diversi\\ufb01ed Financials\",\"Building Products - Pipes\",\"Electrical Components & Equipments\",\"Telecom Equipments\",\"FMCG - Foods\",\"Industrial Machinery\",\"Electrical Components & Equipments\",\"Home Electronics & Appliances\",\"Iron & Steel\",\"Cement\",\"Real Estate\",\"Building Products - Pipes\",\"Equity\",\"IT Services & Consulting\",\"Cement\",\"Agro Products\",\"Equity\",\"Renewable Energy Equipment & Services\",\"Private Banks\",\"Apparel & Accessories\",\"Iron & Steel\",\"Specialty Chemicals\",\"Specialty Chemicals\",\"Metals - Diversi\\ufb01ed\",\"Hotels, Resorts & Cruise Lines\",\"Hospitals & Diagnostic Centres\",\"IT Services & Consulting\",\"Outsourced services\",\"IT Services & Consulting\",\"Fertilizers & Agro Chemicals\",\"Movies & TV Serials\",\"Cement\",\"Iron & Steel\",\"Employment Services\",\"Pharmaceuticals\",\"Movies & TV Serials\",\"Private Banks\",\"Software Services\",\"Restaurants & Cafes\",\"Home Financing\",\"Debt\",\"IT Services & Consulting\",\"Health Care Equipment & Supplies\",\"Logistics\",\"Construction & Engineering\",\"Sugar\",\"Specialty Chemicals\",\"Equity\",\"Sugar\",\"Housewares\",\"Industrial Machinery\",\"Paints\",\"Home Electronics & Appliances\",\"Outsourced services\",\"Sugar\",\"Theme Parks & Gaming\",\"Gas Distribution\",\"Retail - Department Stores\",\"Pharmaceuticals\",\"Telecom Equipments\",\"Auto Parts\",\"Equity\",\"Specialty Chemicals\",\"Stock Exchanges & Ratings\",\"Apparel & Accessories\",\"Pharmaceuticals\",\"Building Products - Pipes\",\"Home Financing\",\"Oil & Gas - Re\\ufb01ning & Marketing\",\"Restaurants & Cafes\",\"Specialized Finance\",\"Pharmaceuticals\",\"Business Support Services\",\"Commodities Trading\",\"Specialized Finance\",\"Construction & Engineering\",\"Asset Management\",\"Real Estate\",\"Wood Products\",\"Real Estate\",\"Power Trading & Consultancy\",\"Construction & Engineering\",\"Tour & Travel Services\",\"Auto Parts\",\"Oil & Gas - Storage & Transportation\",\"Home Financing\",\"Commodity Chemicals\",\"Logistics\",\"Home Electronics & Appliances\",\"Private Banks\",\"Pharmaceuticals\",\"Employment Services\",\"Cement\",\"Fertilizers & Agro Chemicals\",\"Apparel & Accessories\",\"Infra REIT\",\"Public Banks\",\"Tea & Co\\ufb00ee\",\"Home Financing\",\"Roads\",\"Pharmaceuticals\",\"Rail\",\"Investment Banking & Brokerage\",\"Debt\",\"Online Services\",\"Construction & Engineering\",\"Industrial Machinery\",\"Debt\",\"Cement\",\"Education Services\",\"Precious Metals, Jewellery & Watches\",\"Business Support Services\",\"Roads\",\"Metals - Coke\",\"Textiles\",\"Renewable Energy Equipment & Services\",\"Industrial Machinery\",\"Building Products - Ceramics\",\"Heavy Electrical Equipments\",\"Cables\",\"Conglomerates\",\"Packaged Foods & Meats\",\"Fertilizers & Agro Chemicals\",\"Theme Parks & Gaming\",\"Agro Products\",\"Pharmaceuticals\",\"Textiles\",\"IT Services & Consulting\",\"Pharmaceuticals\",\"Power Infrastructure\",\"Electrical Components & Equipments\",\"Hotels, Resorts & Cruise Lines\",\"Auto Parts\",\"Fertilizers & Agro Chemicals\",\"Commodity Chemicals\",\"FMCG - Tobacco\",\"Iron & Steel\",\"Tea & Co\\ufb00ee\",\"FMCG - Household Products\",\"Logistics\",\"Iron & Steel\",\"Packaging\",\"Mining - Diversi\\ufb01ed\",\"Specialty Chemicals\",\"Home Electronics & Appliances\",\"Shipbuilding\",\"Apparel & Accessories\",\"Cement\",\"Gold\",\"Industrial Machinery\",\"Paper Products\",\"Auto Parts\",\"Theatres\",\"Commodity Chemicals\",\"Packaging\",\"Oil & Gas - Storage & Transportation\",\"Specialty Chemicals\",\"Pharmaceuticals\",\"Real Estate\",\"Restaurants & Cafes\",\"Fertilizers & Agro Chemicals\",\"Iron & Steel\",\"Diversi\\ufb01ed Financials\",\"Real Estate\",\"Apparel & Accessories\",\"Electrical Components & Equipments\",\"Fertilizers & Agro Chemicals\",\"Renewable Energy\",\"Industrial Machinery\",\"Packaged Foods & Meats\",\"Apparel & Accessories\",\"FMCG - Tobacco\",\"Auto Parts\",\"Power Generation\",\"Industrial Machinery\",\"Building Products - Granite\",\"Outsourced services\",\"Asset Management\",\"Telecom Equipments\",\"Building Products - Laminates\",\"Logistics\",\"Cement\",\"FMCG - Foods\",\"Retail - Department Stores\",\"Pharmaceuticals\",\"Fertilizers & Agro Chemicals\",\"Auto Parts\",\"Textiles\",\"Investment Banking & Brokerage\",\"Hotels, Resorts & Cruise Lines\",\"Industrial Machinery\",\"Equity\",\"Hospitals & Diagnostic Centres\",\"Hotels, Resorts & Cruise Lines\",\"Pharmaceuticals\",\"Pharmaceuticals\",\"Equity\",\"Hospitals & Diagnostic Centres\",\"Heavy Machinery\",\"Auto Parts\",\"Iron & Steel\",\"Industrial Machinery\",\"Packaging\",\"Housewares\",\"Tires & Rubber\",\"Auto Parts\",\"Iron & Steel\",\"Software Services\",\"Ports\",\"Shipbuilding\",\"Specialty Chemicals\",\"Industrial Machinery\",\"Logistics\",\"Sugar\",\"Diversi\\ufb01ed Chemicals\",\"Two Wheelers\",\"Construction & Engineering\",\"Iron & Steel\",\"Alcoholic Beverages\",\"Housewares\",\"Construction & Engineering\",\"Cement\",\"Construction & Engineering\",\"Construction & Engineering\",\"Specialty Chemicals\",\"Iron & Steel\",\"Tea & Co\\ufb00ee\",\"Pharmaceuticals\",\"Private Banks\",\"Building Products - Pipes\",\"Consumer Finance\",\"Private Banks\",\"Real Estate\",\"Construction & Engineering\",\"Stock Exchanges & Ratings\",\"Apparel & Accessories\",\"Health Care Equipment & Supplies\",\"Software Services\",\"Investment Banking & Brokerage\",\"Pharmaceuticals\",\"Commodity Chemicals\",\"Pharmaceuticals\",\"Airlines\",\"Investment Banking & Brokerage\",\"Software Services\",\"Textiles\",\"Hospitals & Diagnostic Centres\",\"Mining - Manganese\",\"Real Estate\",\"Logistics\",\"Aerospace & Defense Equipments\",\"Real Estate\",\"Sugar\",\"Outsourced services\",\"Construction & Engineering\",\"Industrial Machinery\",\"Iron & Steel\",\"Industrial Machinery\",\"Fertilizers & Agro Chemicals\",\"Textiles\",\"Mining - Diversi\\ufb01ed\",\"Specialty Chemicals\",\"Iron & Steel\",\"Cable & D2H\",\"Plastic Products\",\"Consumer Finance\",\"Fertilizers & Agro Chemicals\",\"Logistics\",\"Fertilizers & Agro Chemicals\",\"Private Banks\",\"Pharmaceuticals\",\"Packaged Foods & Meats\",\"Specialty Chemicals\",\"Apparel & Accessories\",\"Power Generation\",\"Seeds\",\"Metals - Diversi\\ufb01ed\",\"Industrial Machinery\",\"Diversi\\ufb01ed Financials\",\"Packaging\",\"Roads\",\"Iron & Steel\",\"Apparel & Accessories\",\"Oil & Gas - Equipment & Services\",\"Auto Parts\",\"Power Infrastructure\",\"Pharmaceuticals\",\"IT Services & Consulting\",\"Cement\",\"Tour & Travel Services\",\"Pharmaceuticals\",\"Cement\",\"Sugar\",\"Building Products - Pipes\",\"Cable & D2H\",\"Housewares\",\"Communication & Networking\",\"Private Banks\",\"Rail\",\"Building Products - Ceramics\",\"Movies & TV Serials\",\"Diversi\\ufb01ed Financials\",\"Packaged Foods & Meats\",\"Oil & Gas - Exploration & Production\",\"Iron & Steel\",\"Textiles\",\"Technology Hardware\",\"Diversi\\ufb01ed Financials\",\"Tires & Rubber\",\"Consumer Finance\",\"Home Furnishing\",\"Cement\",\"FMCG - Foods\",\"Commodity Chemicals\",\"Industrial Machinery\",\"Shipbuilding\",\"Specialty Chemicals\",\"Real Estate\",\"Online Services\",\"Construction & Engineering\",\"Animation\",\"Electrical Components & Equipments\",\"Labs & Life Sciences Services\",\"Commodity Chemicals\",\"Heavy Electrical Equipments\",\"Specialized Finance\",\"Heavy Machinery\",\"Gold\",\"Fertilizers & Agro Chemicals\",\"Construction & Engineering\",\"Industrial Machinery\",\"Debt\",\"Industrial Machinery\",\"Construction & Engineering\",\"Iron & Steel\",\"Real Estate\",\"Electrical Components & Equipments\",\"Pharmaceuticals\",\"Fertilizers & Agro Chemicals\",\"Aerospace & Defense Equipments\",\"Construction & Engineering\",\"Commodity Chemicals\",\"Gas Distribution\",\"Batteries\",\"Tour & Travel Services\",\"Auto Parts\",\"Commodity Chemicals\",\"Iron & Steel\",\"Home Electronics & Appliances\",\"Pharmaceuticals\",\"Heavy Electrical Equipments\",\"Consumer Finance\",\"Commodity Chemicals\",\"Power Trading & Consultancy\",\"Private Banks\",\"Commodity Chemicals\",\"Metals - Lead\",\"Industrial Machinery\",\"Packaged Foods & Meats\",\"Heavy Electrical Equipments\",\"FMCG - Personal Products\",\"TV Channels & Broadcasters\",\"Sugar\",\"Auto Parts\",\"Building Products - Pipes\",\"Outsourced services\",\"Commodity Chemicals\",\"Iron & Steel\",\"Commodity Chemicals\",\"Specialty Chemicals\",\"Environmental Services\",\"Pharmaceuticals\",\"Auto Parts\",\"Wood Products\",\"Diversi\\ufb01ed Chemicals\",\"Commodities Trading\",\"Commodity Chemicals\",\"Iron & Steel\",\"Auto Parts\",\"Private Banks\",\"Agricultural & Farm Machinery\",\"Agricultural & Farm Machinery\",\"Specialty Chemicals\",\"Iron & Steel\",\"Conglomerates\",\"Tractors\",\"Plastic Products\",\"Real Estate\",\"Home Electronics & Appliances\",\"Building Products - Granite\",\"Telecom Infrastructure\",\"Apparel & Accessories\",\"Tires & Rubber\",\"Apparel & Accessories\",\"Specialty Chemicals\",\"Pharmaceuticals\",\"Iron & Steel\",\"Retail - Department Stores\",\"Cement\",\"Textiles\",\"Fertilizers & Agro Chemicals\",\"Heavy Electrical Equipments\",\"Oil & Gas - Storage & Transportation\",\"Textiles\",\"Equity\",\"Conglomerates\",\"Commodity Chemicals\",\"Pharmaceuticals\",\"Industrial Machinery\",\"Commodity Chemicals\",\"Paper Products\",\"Biotechnology\",\"Textiles\",\"Renewable Energy\",\"Building Products - Ceramics\",\"Specialty Chemicals\",\"Packaged Foods & Meats\",\"Sugar\",\"Publishing\",\"Iron & Steel\",\"Software Services\",\"Real Estate\",\"Gold\",\"Footwear\",\"Cement\",\"Commodity Chemicals\",\"Communication & Networking\",\"Commodity Chemicals\",\"Cable & D2H\",\"Building Products - Pipes\",\"Specialty Chemicals\",\"Commodity Chemicals\",\"Specialty Chemicals\",\"Asset Management\",\"Textiles\",\"Gold\",\"Iron & Steel\",\"Construction & Engineering\",\"Gold\",\"Specialty Chemicals\",\"Oil & Gas - Re\\ufb01ning & Marketing\",\"Agro Products\",\"Cable & D2H\",\"Pharmaceuticals\",\"Water Management\",\"Industrial Machinery\",\"Software Services\",\"Auto Parts\",\"Specialty Chemicals\",\"Equity\",\"Private Banks\",\"Specialty Chemicals\",\"Conglomerates\",\"FMCG - Foods\",\"IT Services & Consulting\",\"Batteries\",\"Heavy Electrical Equipments\",\"Pharmaceuticals\",\"Auto Parts\",\"Logistics\",\"Precious Metals, Jewellery & Watches\",\"Hospitals & Diagnostic Centres\",\"Diversi\\ufb01ed Chemicals\",\"Textiles\",\"Iron & Steel\",\"Iron & Steel\",\"Publishing\",\"Building Products - Pipes\",\"Hospitals & Diagnostic Centres\",\"Packaged Foods & Meats\",\"Private Banks\",\"Tractors\",\"Mining - Diversi\\ufb01ed\",\"Textiles\",\"Electronic Equipments\",\"Specialty Chemicals\",\"Diversi\\ufb01ed Chemicals\",\"Packaged Foods & Meats\",\"Industrial Machinery\",\"IT Services & Consulting\",\"Plastic Products\",\"Investment Banking & Brokerage\",\"Diversi\\ufb01ed Financials\",\"Packaging\",\"Textiles\",\"Publishing\",\"Textiles\",\"Online Services\",\"Precious Metals, Jewellery & Watches\",\"Fertilizers & Agro Chemicals\",\"Apparel & Accessories\",\"Electronic Equipments\",\"Plastic Products\",\"Advertising\",\"Specialty Chemicals\",\"Communication & Networking\",\"Auto Parts\",\"Cement\",\"FMCG - Foods\",\"Real Estate\",\"Industrial Machinery\",\"Iron & Steel\",\"Software Services\",\"Investment Banking & Brokerage\",\"Movies & TV Serials\",\"Auto Parts\",\"Stock Exchanges & Ratings\",\"Textiles\",\"Software Services\",\"Real Estate\",\"Specialty Chemicals\",\"Pharmaceuticals\",\"Textiles\",\"Pharmaceuticals\",\"Sugar\",\"Precious Metals, Jewellery & Watches\",\"Auto Parts\",\"Telecom Services\",\"Iron & Steel\",\"Textiles\",\"Packaged Foods & Meats\",\"Commodity Chemicals\",\"Pharmaceuticals\",\"Auto Parts\",\"Industrial Machinery\",\"Education Services\",\"Electronic Equipments\",\"Software Services\",\"Power Generation\",\"Construction & Engineering\",\"Four Wheelers\",\"Commodity Chemicals\",\"Agro Products\",\"Equity\",\"Pharmaceuticals\",\"Education Services\",\"Investment Banking & Brokerage\",\"Precious Metals, Jewellery & Watches\",\"Consumer Finance\",\"Auto Parts\",\"Textiles\",\"Commodity Chemicals\",\"Auto Parts\",\"Auto Parts\",\"Tires & Rubber\",\"Software Services\",\"Iron & Steel\",\"Telecom Equipments\",\"Real Estate\",\"Auto Parts\",\"TV Channels & Broadcasters\",\"Textiles\",\"Hospitals & Diagnostic Centres\",\"Tires & Rubber\",\"Textiles\",\"Apparel & Accessories\",\"FMCG - Foods\",\"Auto Parts\",\"Construction & Engineering\",\"Theme Parks & Gaming\",\"Construction & Engineering\",\"Fertilizers & Agro Chemicals\",\"Industrial Machinery\",\"Fertilizers & Agro Chemicals\",\"Apparel & Accessories\",\"Paints\",\"Iron & Steel\",\"Commodity Chemicals\",\"Construction & Engineering\",\"Renewable Energy\",\"Hotels, Resorts & Cruise Lines\",\"Software Services\",\"Packaged Foods & Meats\",\"Fertilizers & Agro Chemicals\",\"Real Estate\",\"Business Support Services\",\"Fertilizers & Agro Chemicals\",\"Packaging\",\"Construction & Engineering\",\"Textiles\",\"Restaurants & Cafes\",\"Investment Banking & Brokerage\",\"Consumer Finance\",\"Iron & Steel\",\"Diversi\\ufb01ed Financials\",\"Rail\",\"Cement\",\"FMCG - Foods\",\"Industrial Machinery\",\"Construction & Engineering\",\"Pharmaceuticals\",\"Auto Parts\",\"Private Banks\",\"Alcoholic Beverages\",\"Software Services\",\"Power Transmission & Distribution\",\"Oil & Gas - Storage & Transportation\",\"Auto Parts\",\"Paper Products\",\"Power Generation\",\"Construction & Engineering\",\"Diversi\\ufb01ed Financials\",\"Construction & Engineering\",\"Pharmaceuticals\",\"Rail\",\"Commodity Chemicals\",\"Commodity Chemicals\",\"Industrial Machinery\",\"Precious Metals, Jewellery & Watches\",\"Alcoholic Beverages\",\"Auto Parts\",\"Pharmaceuticals\",\"Auto Parts\",\"Paper Products\",\"Real Estate\",\"Cement\",\"Investment Banking & Brokerage\",\"Heavy Electrical Equipments\",\"FMCG - Foods\",\"Biotechnology\",\"Specialized Finance\",\"Diversi\\ufb01ed Financials\",\"Auto Parts\",\"Paper Products\",\"Publishing\",\"IT Services & Consulting\",\"Specialty Chemicals\",\"Hotels, Resorts & Cruise Lines\",\"Asset Management\",\"Paper Products\",\"Software Services\",\"IT Services & Consulting\",\"Commodity Chemicals\",\"Real Estate\",\"Tea & Co\\ufb00ee\",\"Auto Parts\",\"Investment Banking & Brokerage\",\"Renewable Energy\",\"Heavy Electrical Equipments\",\"Auto Parts\",\"Pharmaceuticals\",\"Cement\",\"Cement\",\"Specialty Chemicals\",\"FMCG - Foods\",\"Industrial Machinery\",\"Textiles\",\"Pharmaceuticals\",\"Diversi\\ufb01ed Financials\",\"Building Products - Prefab Structures\",\"Radio\",\"Apparel & Accessories\",\"Airlines\",\"Specialty Chemicals\",\"Renewable Energy Equipment & Services\",\"Real Estate\",\"TV Channels & Broadcasters\",\"IT Services & Consulting\",\"Construction & Engineering\",\"Cement\",\"Apparel & Accessories\",\"Asset Management\",\"Hotels, Resorts & Cruise Lines\",\"Pharmaceuticals\",\"Paper Products\",\"Hospitals & Diagnostic Centres\",\"Commodity Chemicals\",\"Packaged Foods & Meats\",\"IT Services & Consulting\",\"Iron & Steel\",\"Conglomerates\",\"Auto Parts\",\"Industrial Machinery\",\"Electrical Components & Equipments\",\"Industrial Machinery\",\"FMCG - Foods\",\"Commodity Chemicals\",\"Precious Metals, Jewellery & Watches\",\"Specialty Chemicals\",\"IT Services & Consulting\",\"Iron & Steel\",\"Industrial Machinery\",\"Commodity Chemicals\",\"Fertilizers & Agro Chemicals\",\"Pharmaceuticals\",\"Building Products - Pipes\",\"Diversi\\ufb01ed Financials\",\"IT Services & Consulting\",\"Apparel & Accessories\",\"Commodity Chemicals\",\"Metals - Diversi\\ufb01ed\",\"Commodities Trading\",\"Dredging\",\"Building Products - Laminates\",\"Water Management\",\"Sugar\",\"Agro Products\",\"Pharmaceuticals\",\"Diversi\\ufb01ed Financials\",\"Industrial Machinery\",\"IT Services & Consulting\",\"Hotels, Resorts & Cruise Lines\",\"Precious Metals, Jewellery & Watches\",\"Industrial Machinery\",\"Auto Parts\",\"Packaged Foods & Meats\",\"IT Services & Consulting\",\"Technology Hardware\",\"Commodity Chemicals\",\"Real Estate\",\"Shipbuilding\",\"Industrial Machinery\",\"Fertilizers & Agro Chemicals\",\"Retail - Speciality\",\"Commodities Trading\",\"Construction & Engineering\",\"Alcoholic Beverages\",\"Auto Parts\",\"IT Services & Consulting\",\"Conglomerates\",\"Business Support Services\",\"Logistics\",\"Textiles\",\"Textiles\",\"Industrial Machinery\",\"Commodity Chemicals\",\"Commodity Chemicals\",\"Specialty Chemicals\",\"Fertilizers & Agro Chemicals\",\"Radio\",\"Telecom Services\",\"Software Services\",\"Retail - Apparel\",\"Pharmaceuticals\",\"Equity\",\"Pharmaceuticals\",\"Specialty Chemicals\",\"Cement\",\"Pharmaceuticals\",\"Heavy Electrical Equipments\",\"Asset Management\",\"Agro Products\",\"Commodity Chemicals\",\"Fertilizers & Agro Chemicals\",\"Consumer Finance\",\"Textiles\",\"Construction & Engineering\",\"Wellness Services\",\"Textiles\",\"Industrial Machinery\",\"Pharmaceuticals\",\"Cement\",\"Telecom Equipments\",\"Iron & Steel\",\"Iron & Steel\",\"Real Estate\",\"Alcoholic Beverages\",\"Sugar\",\"Textiles\",\"Logistics\",\"Packaged Foods & Meats\",\"Retail - Department Stores\",\"Fertilizers & Agro Chemicals\",\"Pharmaceuticals\",\"Outsourced services\",\"Paper Products\",\"Building Products - Ceramics\",\"Commodity Chemicals\",\"Biotechnology\",\"Real Estate\",\"Home Financing\",\"Movies & TV Serials\",\"Consumer Finance\",\"Labs & Life Sciences Services\",\"Technology Hardware\",\"Diversi\\ufb01ed Chemicals\",\"Commodity Chemicals\",\"Publishing\",\"Auto Parts\",\"Specialty Chemicals\",\"Cement\",\"Commodity Chemicals\",\"Trucks & Buses\",\"Restaurants & Cafes\",\"Commodity Chemicals\",\"Software Services\",\"Paper Products\",\"Commodity Chemicals\",\"Textiles\",\"Pharmaceuticals\",\"Diversi\\ufb01ed Chemicals\",\"IT Services & Consulting\",\"Asset Management\",\"Auto Parts\",\"Agro Products\",\"Cement\",\"Plastic Products\",\"Fertilizers & Agro Chemicals\",\"Specialty Chemicals\",\"Textiles\",\"Agro Products\",\"Specialty Chemicals\",\"Textiles\",\"Specialty Chemicals\",\"IT Services & Consulting\",\"Precious Metals, Jewellery & Watches\",\"Building Products - Laminates\",\"Asset Management\",\"Pharmaceuticals\",\"Auto Parts\",\"IT Services & Consulting\",\"Auto Parts\",\"IT Services & Consulting\",\"Electrical Components & Equipments\",\"Industrial Machinery\",\"Real Estate\",\"Iron & Steel\",\"Hotels, Resorts & Cruise Lines\",\"Renewable Energy\",\"Electronic Equipments\",\"Commodity Chemicals\",\"Packaging\",\"Investment Banking & Brokerage\",\"Diversi\\ufb01ed Financials\",\"Building Products - Pipes\",\"Gold\",\"Fertilizers & Agro Chemicals\",\"Construction & Engineering\",\"Power Infrastructure\",\"Oil & Gas - Equipment & Services\",\"Iron & Steel\",\"Industrial Machinery\",\"Power Generation\",\"Health Care Equipment & Supplies\",\"Real Estate\",\"Equity\",\"Pharmaceuticals\",\"Diversi\\ufb01ed Financials\",\"Iron & Steel\",\"Pharmaceuticals\",\"0\",\"Agro Products\",\"Stationery\",\"Building Products - Granite\",\"Commodities Trading\",\"Auto Parts\",\"Trucks & Buses\",\"Oil & Gas - Equipment & Services\",\"Construction & Engineering\",\"Construction & Engineering\",\"Tour & Travel Services\",\"Auto Parts\",\"Auto Parts\",\"Auto Parts\",\"Pharmaceuticals\",\"Real Estate\",\"Tea & Co\\ufb00ee\",\"Specialty Chemicals\",\"Hospitals & Diagnostic Centres\",\"Diversi\\ufb01ed Chemicals\",\"Iron & Steel\",\"Fertilizers & Agro Chemicals\",\"Commodity Chemicals\",\"Sugar\",\"Equity\",\"Textiles\",\"Metals - Diversi\\ufb01ed\",\"Textiles\",\"Specialty Chemicals\",\"Diversi\\ufb01ed Financials\",\"Building Products - Pipes\",\"Mining - Diversi\\ufb01ed\",\"Specialty Chemicals\",\"Logistics\",\"Diversi\\ufb01ed Financials\",\"Alcoholic Beverages\",\"Auto Parts\",\"Construction & Engineering\",\"Logistics\",\"Fertilizers & Agro Chemicals\",\"Industrial Machinery\",\"Construction & Engineering\",\"Business Support Services\",\"Specialty Chemicals\",\"Conglomerates\",\"Electronic Equipments\",\"Textiles\",\"Iron & Steel\",\"Commodity Chemicals\",\"Specialized Finance\",\"Building Products - Granite\",\"Investment Banking & Brokerage\",\"Textiles\",\"Logistics\",\"Stationery\",\"Industrial Machinery\",\"Industrial Machinery\",\"Textiles\",\"Heavy Electrical Equipments\",\"Apparel & Accessories\",\"Real Estate\",\"Conglomerates\",\"Logistics\",\"Conglomerates\",\"Construction & Engineering\",\"Iron & Steel\",\"Building Products - Pipes\",\"Packaged Foods & Meats\",\"Commodity Chemicals\",\"Home Financing\",\"Agro Products\",\"Business Support Services\",\"Pharmaceuticals\",\"Iron & Steel\",\"Asset Management\",\"Housewares\",\"Oil & Gas - Exploration & Production\",\"Publishing\",\"Pharmaceuticals\",\"IT Services & Consulting\",\"Business Support Services\",\"Electrical Components & Equipments\",\"Technology Hardware\",\"Iron & Steel\",\"Software Services\",\"Industrial Machinery\",\"Packaging\",\"Building Products - Ceramics\",\"Metals - Aluminium\",\"Commodity Chemicals\",\"IT Services & Consulting\",\"IT Services & Consulting\",\"Metals - Diversi\\ufb01ed\",\"Retail - Apparel\",\"Real Estate\",\"Plastic Products\",\"IT Services & Consulting\",\"Asset Management\",\"Cables\",\"Publishing\",\"Home Electronics & Appliances\",\"Cement\",\"Textiles\",\"Sugar\",\"Auto Parts\",\"Plastic Products\",\"Building Products - Pipes\",\"Industrial Machinery\",\"Textiles\",\"Specialty Chemicals\",\"Seeds\",\"Real Estate\",\"Precious Metals, Jewellery & Watches\",\"Iron & Steel\",\"Pharmaceuticals\",\"Cement\",\"Diversi\\ufb01ed Financials\",\"Textiles\",\"Telecom Equipments\",\"Consumer Finance\",\"Commodities Trading\",\"Diversi\\ufb01ed Financials\",\"Auto Parts\",\"Heavy Electrical Equipments\",\"Sugar\",\"Wellness Services\",\"Auto Parts\",\"Specialty Chemicals\",\"Industrial Machinery\",\"Equity\",\"Iron & Steel\",\"Textiles\",\"Commodities Trading\",\"Industrial Machinery\",\"Packaged Foods & Meats\",\"Pharmaceuticals\",\"Construction & Engineering\",\"Paper Products\",\"Conglomerates\",\"IT Services & Consulting\",\"Construction & Engineering\",\"Iron & Steel\",\"Iron & Steel\",\"Tea & Co\\ufb00ee\",\"Construction & Engineering\",\"Education Services\",\"Textiles\",\"Cables\",\"Hotels, Resorts & Cruise Lines\",\"Investment Banking & Brokerage\",\"Construction & Engineering\",\"Conglomerates\",\"Conglomerates\",\"Cement\",\"Technology Hardware\",\"Auto Parts\",\"Packaging\",\"Textiles\",\"Tires & Rubber\",\"Agro Products\",\"Pharmaceuticals\",\"Textiles\",\"Footwear\",\"Footwear\",\"Stationery\",\"Hotels, Resorts & Cruise Lines\",\"Diversi\\ufb01ed Financials\",\"Real Estate\",\"Auto Parts\",\"FMCG - Foods\",\"Auto Parts\",\"Textiles\",\"Commodity Chemicals\",\"Auto Parts\",\"Software Services\",\"Electrical Components & Equipments\",\"Commodities Trading\",\"Health Care Equipment & Supplies\",\"Sugar\",\"IT Services & Consulting\",\"Pharmaceuticals\",\"Textiles\",\"Real Estate\",\"Hospitals & Diagnostic Centres\",\"Paper Products\",\"Investment Banking & Brokerage\",\"Building Products - Pipes\",\"Diversi\\ufb01ed Financials\",\"Textiles\",\"Textiles\",\"IT Services & Consulting\",\"Airports\",\"Auto Parts\",\"Pharmaceuticals\",\"Commodity Chemicals\",\"Asset Management\",\"Iron & Steel\",\"Pharmaceuticals\",\"0\",\"Metals - Diversi\\ufb01ed\",\"IT Services & Consulting\",\"Paper Products\",\"Heavy Machinery\",\"Roads\",\"Cables\",\"Movies & TV Serials\",\"Home Furnishing\",\"Electrical Components & Equipments\",\"Textiles\",\"Retail - Speciality\",\"Cement\",\"Packaged Foods & Meats\",\"Logistics\",\"Diversi\\ufb01ed Financials\",\"Movies & TV Serials\",\"Three Wheelers\",\"Textiles\",\"Real Estate\",\"Pharmaceuticals\",\"Renewable Energy Equipment & Services\",\"Communication & Networking\",\"Investment Banking & Brokerage\",\"Industrial Machinery\",\"Diversi\\ufb01ed Financials\",\"Alcoholic Beverages\",\"Metals - Diversi\\ufb01ed\",\"Education Services\",\"Education Services\",\"Roads\",\"Construction & Engineering\",\"Pharmaceuticals\",\"Real Estate\",\"Specialty Chemicals\",\"Hospitals & Diagnostic Centres\",\"Packaging\",\"Packaged Foods & Meats\",\"Agro Products\",\"Auto Parts\",\"Commodities Trading\",\"Metals - Coke\",\"Gold\",\"Technology Hardware\",\"Apparel & Accessories\",\"Equity\",\"IT Services & Consulting\",\"Pharmaceuticals\",\"Real Estate\",\"Logistics\",\"Commodity Chemicals\",\"Metals - Diversi\\ufb01ed\",\"Pharmaceuticals\",\"Real Estate\",\"Packaging\",\"Commodity Chemicals\",\"0\",\"Real Estate\",\"Commodities Trading\",\"Sugar\",\"Roads\",\"Investment Banking & Brokerage\",\"Specialty Chemicals\",\"Diversi\\ufb01ed Financials\",\"Real Estate\",\"IT Services & Consulting\",\"Specialty Chemicals\",\"Private Banks\",\"IT Services & Consulting\",\"Electronic Equipments\",\"Tires & Rubber\",\"Metals - Diversi\\ufb01ed\",\"FMCG - Personal Products\",\"Shipbuilding\",\"Textiles\",\"Packaged Foods & Meats\",\"Hotels, Resorts & Cruise Lines\",\"Textiles\",\"Diversi\\ufb01ed Financials\",\"Gold\",\"Commodity Chemicals\",\"0\",\"Electrical Components & Equipments\",\"Shipbuilding\",\"Commodity Chemicals\",\"Specialized Finance\",\"Software Services\",\"Batteries\",\"Pharmaceuticals\",\"Investment Banking & Brokerage\",\"Pharmaceuticals\",\"Sugar\",\"Commodity Chemicals\",\"Auto Parts\",\"Agro Products\",\"Investment Banking & Brokerage\",\"Biotechnology\",\"Construction & Engineering\",\"Hotels, Resorts & Cruise Lines\",\"Diversi\\ufb01ed Financials\",\"Specialty Chemicals\",\"Aerospace & Defense Equipments\",\"Renewable Energy\",\"Retail - Online\",\"Sugar\",\"FMCG - Foods\",\"Textiles\",\"Specialty Chemicals\",\"Investment Banking & Brokerage\",\"Real Estate\",\"Debt\",\"Home Electronics & Appliances\",\"Pharmaceuticals\",\"Oil & Gas - Equipment & Services\",\"Textiles\",\"Fertilizers & Agro Chemicals\",\"Three Wheelers\",\"Industrial Machinery\",\"Software Services\",\"Textiles\",\"Seeds\",\"Real Estate\",\"Home Electronics & Appliances\",\"Pharmaceuticals\",\"Paper Products\",\"Iron & Steel\",\"Paper Products\",\"Diversi\\ufb01ed Financials\",\"Investment Banking & Brokerage\",\"Iron & Steel\",\"Textiles\",\"Conglomerates\",\"Pharmaceuticals\",\"Diversi\\ufb01ed Financials\",\"Cables\",\"Electrical Components & Equipments\",\"Aerospace & Defense Equipments\",\"Cable & D2H\",\"Retail - Apparel\",\"Commodities Trading\",\"Construction & Engineering\",\"Textiles\",\"Tea & Co\\ufb00ee\",\"Packaging\",\"Specialty Chemicals\",\"Precious Metals, Jewellery & Watches\",\"Conglomerates\",\"Mining - Diversi\\ufb01ed\",\"Alcoholic Beverages\",\"Investment Banking & Brokerage\",\"Agricultural & Farm Machinery\",\"Packaging\",\"Oil & Gas - Equipment & Services\",\"Commodity Chemicals\",\"Pharmaceuticals\",\"IT Services & Consulting\",\"FMCG - Foods\",\"Aerospace & Defense Equipments\",\"Roads\",\"Tea & Co\\ufb00ee\",\"0\",\"Electronic Equipments\",\"Industrial Machinery\",\"Movies & TV Serials\",\"Commodity Chemicals\",\"Commodity Chemicals\",\"Equity\",\"Investment Banking & Brokerage\",\"Real Estate\",\"Agro Products\",\"Textiles\",\"Specialty Chemicals\",\"Commodity Chemicals\",\"Investment Banking & Brokerage\",\"Diversi\\ufb01ed Financials\",\"Specialty Chemicals\",\"Specialized Finance\",\"Sugar\",\"Commodity Chemicals\",\"Industrial Machinery\",\"Apparel & Accessories\",\"FMCG - Foods\",\"IT Services & Consulting\",\"Hotels, Resorts & Cruise Lines\",\"Hotels, Resorts & Cruise Lines\",\"Auto Parts\",\"Pharmaceuticals\",\"Auto Parts\",\"Industrial Machinery\",\"Agro Products\",\"Specialty Chemicals\",\"FMCG - Personal Products\",\"Industrial Machinery\",\"Electronic Equipments\",\"Commodity Chemicals\",\"Business Support Services\",\"Footwear\",\"Commodities Trading\",\"Agro Products\",\"Industrial Machinery\",\"Alcoholic Beverages\",\"Commodity Chemicals\",\"0\",\"Pharmaceuticals\",\"Industrial Machinery\",\"Industrial Machinery\",\"Home Electronics & Appliances\",\"Asset Management\",\"Paper Products\",\"IT Services & Consulting\",\"Tea & Co\\ufb00ee\",\"IT Services & Consulting\",\"Textiles\",\"Specialty Chemicals\",\"Four Wheelers\",\"Pharmaceuticals\",\"Alcoholic Beverages\",\"Oil & Gas - Re\\ufb01ning & Marketing\",\"IT Services & Consulting\",\"Labs & Life Sciences Services\",\"Electrical Components & Equipments\",\"Home Furnishing\",\"Paper Products\",\"Investment Banking & Brokerage\",\"Real Estate\",\"Metals - Aluminium\",\"Industrial Machinery\",\"Cables\",\"Auto Parts\",\"Metals - Iron\",\"Iron & Steel\",\"Agro Products\",\"Paper Products\",\"Heavy Electrical Equipments\",\"Apparel & Accessories\",\"Electrical Components & Equipments\",\"Construction & Engineering\",\"Logistics\",\"Plastic Products\",\"Asset Management\",\"Electrical Components & Equipments\",\"Oil & Gas - Exploration & Production\",\"Logistics\",\"Construction & Engineering\",\"Wood Products\",\"Hotels, Resorts & Cruise Lines\",\"Real Estate\",\"Real Estate\",\"Precious Metals, Jewellery & Watches\",\"Hotels, Resorts & Cruise Lines\",\"Textiles\",\"Construction & Engineering\",\"IT Services & Consulting\",\"Packaging\",\"Real Estate\",\"Auto Parts\",\"Asset Management\",\"Housewares\",\"Precious Metals, Jewellery & Watches\",\"Auto Parts\",\"Commodity Chemicals\",\"Real Estate\",\"Equity\",\"Technology Hardware\",\"Business Support Services\",\"Pharmaceuticals\",\"Labs & Life Sciences Services\",\"0\",\"Iron & Steel\",\"Home Financing\",\"Commodity Chemicals\",\"Auto Parts\",\"Batteries\",\"Logistics\",\"Fertilizers & Agro Chemicals\",\"Apparel & Accessories\",\"Industrial Machinery\",\"Specialty Chemicals\",\"TV Channels & Broadcasters\",\"Apparel & Accessories\",\"Conglomerates\",\"Home Electronics & Appliances\",\"Logistics\",\"Electronic Equipments\",\"Tires & Rubber\",\"Textiles\",\"Metals - Diversi\\ufb01ed\",\"Commodity Chemicals\",\"Oil & Gas - Equipment & Services\",\"Paper Products\",\"Specialty Chemicals\",\"Sugar\",\"Outsourced services\",\"Investment Banking & Brokerage\",\"Heavy Machinery\",\"Education Services\",\"Construction & Engineering\",\"IT Services & Consulting\",\"Iron & Steel\",\"Industrial Machinery\",\"Packaging\",\"Paper Products\",\"Industrial Machinery\",\"Construction & Engineering\",\"Industrial Machinery\",\"Construction & Engineering\",\"Real Estate\",\"Precious Metals, Jewellery & Watches\",\"Equity\",\"Apparel & Accessories\",\"Pharmaceuticals\",\"Restaurants & Cafes\",\"Iron & Steel\",\"Textiles\",\"Telecom Infrastructure\",\"Textiles\",\"Investment Banking & Brokerage\",\"Metals - Aluminium\",\"Batteries\",\"Conglomerates\",\"Textiles\",\"Auto Parts\",\"Commodity Chemicals\",\"Industrial Machinery\",\"Industrial Machinery\",\"Education Services\",\"Agro Products\",\"Packaging\",\"Diversi\\ufb01ed Financials\",\"Software Services\",\"Textiles\",\"FMCG - Personal Products\",\"Plastic Products\",\"Pharmaceuticals\",\"Packaging\",\"Industrial Machinery\",\"Pharmaceuticals\",\"Auto Parts\",\"Real Estate\",\"Iron & Steel\",\"Precious Metals, Jewellery & Watches\",\"Industrial Machinery\",\"Iron & Steel\",\"Software Services\",\"Iron & Steel\",\"Footwear\",\"Textiles\",\"Consumer Finance\",\"Industrial Machinery\",\"Tires & Rubber\",\"Agro Products\",\"Sugar\",\"Textiles\",\"Pharmaceuticals\",\"Hotels, Resorts & Cruise Lines\",\"FMCG - Foods\",\"Online Services\",\"Metals - Lead\",\"Construction & Engineering\",\"Paper Products\",\"Textiles\",\"Auto Parts\",\"Plastic Products\",\"Communication & Networking\",\"Investment Banking & Brokerage\",\"Roads\",\"Construction & Engineering\",\"Debt\",\"Diversi\\ufb01ed Financials\",\"Consumer Finance\",\"Hospitals & Diagnostic Centres\",\"Consumer Finance\",\"Metals - Aluminium\",\"Renewable Energy\",\"Business Support Services\",\"Commodity Chemicals\",\"Tires & Rubber\",\"Pharmaceuticals\",\"Electrical Components & Equipments\",\"Oil & Gas - Exploration & Production\",\"Auto Parts\",\"Pharmaceuticals\",\"Auto Parts\",\"Real Estate\",\"Industrial Machinery\",\"Real Estate\",\"0\",\"Building Products - Ceramics\",\"Diversi\\ufb01ed Financials\",\"FMCG - Tobacco\",\"Construction & Engineering\",\"Packaging\",\"Fertilizers & Agro Chemicals\",\"Cement\",\"Tea & Co\\ufb00ee\",\"Labs & Life Sciences Services\",\"Commodity Chemicals\",\"Heavy Electrical Equipments\",\"Commodity Chemicals\",\"Software Services\",\"Logistics\",\"Textiles\",\"Movies & TV Serials\",\"TV Channels & Broadcasters\",\"Packaging\",\"Paper Products\",\"Logistics\",\"Industrial Machinery\",\"Software Services\",\"Packaged Foods & Meats\",\"Commodities Trading\",\"Iron & Steel\",\"Electrical Components & Equipments\",\"Packaging\",\"Investment Banking & Brokerage\",\"Auto Parts\",\"Cables\",\"Auto Parts\",\"Metals - Aluminium\",\"0\",\"Hotels, Resorts & Cruise Lines\",\"Specialized Finance\",\"Pharmaceuticals\",\"Metals - Diversi\\ufb01ed\",\"Auto Parts\",\"Movies & TV Serials\",\"IT Services & Consulting\",\"Packaged Foods & Meats\",\"Paper Products\",\"Labs & Life Sciences Services\",\"Mining - Diversi\\ufb01ed\",\"Pharmaceuticals\",\"Real Estate\",\"Apparel & Accessories\",\"Home Financing\",\"Textiles\",\"Software Services\",\"Conglomerates\",\"Industrial Machinery\",\"Auto Parts\",\"Textiles\",\"Real Estate\",\"Tires & Rubber\",\"Paper Products\",\"Pharmaceuticals\",\"Pharmaceuticals\",\"Textiles\",\"0\",\"Electrical Components & Equipments\",\"Commodity Chemicals\",\"Iron & Steel\",\"Industrial Machinery\",\"Software Services\",\"Home Furnishing\",\"Iron & Steel\",\"Asset Management\",\"FMCG - Personal Products\",\"Real Estate\",\"Paper Products\",\"Iron & Steel\",\"Retail - Department Stores\",\"Real Estate\",\"IT Services & Consulting\",\"Hotels, Resorts & Cruise Lines\",\"Consumer Finance\",\"Electrical Components & Equipments\",\"Pharmaceuticals\",\"Textiles\",\"Sugar\",\"Auto Parts\",\"Fertilizers & Agro Chemicals\",\"Investment Banking & Brokerage\",\"Construction & Engineering\",\"Home Furnishing\",\"Commodity Chemicals\",\"0\",\"Roads\",\"Specialty Chemicals\",\"Commodities Trading\",\"Auto Parts\",\"Textiles\",\"Iron & Steel\",\"Hotels, Resorts & Cruise Lines\",\"Diversi\\ufb01ed Financials\",\"Pharmaceuticals\",\"Advertising\",\"Real Estate\",\"Industrial Machinery\",\"Textiles\",\"Software Services\",\"FMCG - Foods\",\"Specialty Chemicals\",\"Conglomerates\",\"Auto Parts\",\"Construction & Engineering\",\"Iron & Steel\",\"Commodity Chemicals\",\"Tea & Co\\ufb00ee\",\"Education Services\",\"IT Services & Consulting\",\"Textiles\",\"0\",\"Home Electronics & Appliances\",\"Hotels, Resorts & Cruise Lines\",\"Packaging\",\"Textiles\",\"Renewable Energy Equipment & Services\",\"Communication & Networking\",\"Cement\",\"Auto Parts\",\"Construction & Engineering\",\"Software Services\",\"Auto Parts\",\"Pharmaceuticals\",\"Textiles\",\"Renewable Energy Equipment & Services\",\"Real Estate\",\"Diversi\\ufb01ed Financials\",\"Textiles\",\"Mining - Diversi\\ufb01ed\",\"Diversi\\ufb01ed Financials\",\"Industrial Machinery\",\"Commodities Trading\",\"Asset Management\",\"IT Services & Consulting\",\"Building Products - Ceramics\",\"Agro Products\",\"Construction & Engineering\",\"Precious Metals, Jewellery & Watches\",\"Equity\",\"Investment Banking & Brokerage\",\"Textiles\",\"Iron & Steel\",\"Agro Products\",\"Apparel & Accessories\",\"Electrical Components & Equipments\",\"Conglomerates\",\"Electrical Components & Equipments\",\"Diversi\\ufb01ed Financials\",\"Construction & Engineering\",\"Auto Parts\",\"Outsourced services\",\"Iron & Steel\",\"Commodities Trading\",\"Construction & Engineering\",\"Real Estate\",\"Oil & Gas - Equipment & Services\",\"Textiles\",\"Theme Parks & Gaming\",\"Equity\",\"Consumer Finance\",\"Iron & Steel\",\"Hotels, Resorts & Cruise Lines\",\"Commodities Trading\",\"Electrical Components & Equipments\",\"Gold\",\"Hotels, Resorts & Cruise Lines\",\"Packaged Foods & Meats\",\"Investment Banking & Brokerage\",\"Auto Parts\",\"Real Estate\",\"Construction & Engineering\",\"Consumer Finance\",\"Diversi\\ufb01ed Financials\",\"Heavy Machinery\",\"Plastic Products\",\"Iron & Steel\",\"Commodity Chemicals\",\"Investment Banking & Brokerage\"],\"xaxis\":\"x\",\"y\":[\"Reliance Industries Ltd\",\"Tata Consultancy Services Ltd\",\"HDFC Bank Ltd\",\"Infosys Ltd\",\"ICICI Bank Ltd\",\"Hindustan Unilever Ltd\",\"State Bank of India\",\"Housing Development Finance Corporation Ltd\",\"Bajaj Finance Ltd\",\"Bharti Airtel Ltd\",\"Kotak Mahindra Bank Ltd\",\"Wipro Ltd\",\"HCL Technologies Ltd\",\"ITC Ltd\",\"Asian Paints Ltd\",\"Adani Green Energy Ltd\",\"Avenue Supermarts Ltd\",\"Adani Transmission Ltd\",\"Bajaj Finserv Ltd\",\"Larsen & Toubro Ltd\",\"Titan Company Ltd\",\"Maruti Suzuki India Ltd\",\"Axis Bank Ltd\",\"Sun Pharmaceutical Industries Ltd\",\"Oil and Natural Gas Corporation Ltd\",\"Adani Enterprises Ltd\",\"Adani Total Gas Ltd\",\"UltraTech Cement Ltd\",\"Nestle India Ltd\",\"JSW Steel Ltd\",\"Tata Steel Ltd\",\"Adani Ports and Special Economic Zone Ltd\",\"Tata Motors Ltd - DVR\",\"Tata Motors Ltd\",\"Power Grid Corporation of India Ltd\",\"Tech Mahindra Ltd\",\"Vedanta Ltd\",\"Hindustan Zinc Ltd\",\"Hindalco Industries Ltd\",\"NTPC Ltd\",\"Pidilite Industries Ltd\",\"Divi's Laboratories Ltd\",\"Indian Oil Corporation Ltd\",\"SBI Life Insurance Company Ltd\",\"HDFC Life Insurance Company Ltd\",\"Coal India Ltd\",\"Larsen & Toubro Infotech Ltd\",\"Grasim Industries Ltd\",\"Bajaj Auto Ltd\",\"Dabur India Ltd\",\"Mahindra and Mahindra Ltd\",\"DLF Ltd\",\"Shree Cement Ltd\",\"Siemens Ltd\",\"Cipla Ltd\",\"Britannia Industries Ltd\",\"SBI Cards and Payment Services Ltd\",\"Bharat Petroleum Corporation Ltd\",\"SRF Ltd\",\"Godrej Consumer Products Ltd\",\"Tata Power Company Ltd\",\"Fsn E-Commerce Ventures Ltd\",\"Interglobe Aviation Ltd\",\"Indusind Bank Ltd\",\"Havells India Ltd\",\"Tata Consumer Products Ltd\",\"ICICI Prudential Life Insurance Company Ltd\",\"Berger Paints India Ltd\",\"Apollo Hospitals Enterprise Ltd\",\"Marico Ltd\",\"GAIL (India) Ltd\",\"Dr Reddy's Laboratories Ltd\",\"United Spirits Ltd\",\"Eicher Motors Ltd\",\"MindTree Ltd\",\"ICICI Lombard General Insurance Company Ltd\",\"Motherson Sumi Systems Ltd\",\"Zomato Ltd\",\"Indian Railway Catering and Tourism Corporation Ltd\",\"Ambuja Cements Ltd\",\"Cholamandalam Investment and Finance Company Ltd\",\"Info Edge (India) Ltd\",\"Mphasis Ltd\",\"UPL Ltd\",\"Indus Towers Ltd\",\"Bank of Baroda Ltd\",\"Bajaj Holdings and Investment Ltd\",\"Piramal Enterprises Ltd\",\"Gland Pharma Ltd\",\"Muthoot Finance Ltd\",\"Macrotech Developers Ltd\",\"Bharat Electronics Ltd\",\"Procter & Gamble Hygiene and Health Care Ltd\",\"L&T Technology Services Ltd\",\"JSW Energy Ltd\",\"Jindal Steel And Power Ltd\",\"Torrent Pharmaceuticals Ltd\",\"Bandhan Bank Ltd\",\"Hero MotoCorp Ltd\",\"Hindustan Aeronautics Ltd\",\"Adani Power Ltd\",\"HDFC Asset Management Company Ltd\",\"Page Industries Ltd\",\"Tata Elxsi Ltd\",\"IDBI Bank Ltd\",\"Trent Ltd\",\"ABB India Ltd\",\"Godrej Properties Ltd\",\"NMDC Ltd\",\"Bosch Ltd\",\"Voltas Ltd\",\"PI Industries Ltd\",\"Colgate-Palmolive (India) Ltd\",\"Balkrishna Industries Ltd\",\"Alkem Laboratories Ltd\",\"Varun Beverages Ltd\",\"Canara Bank Ltd\",\"Astral Ltd\",\"Steel Authority of India Ltd\",\"Sona BLW Precision Forgings Ltd\",\"Hindustan Petroleum Corp Ltd\",\"ACC Ltd\",\"Punjab National Bank\",\"Biocon Ltd\",\"United Breweries Ltd\",\"One 97 Communications Ltd\",\"Zydus Lifesciences Ltd\",\"Container Corporation of India Ltd\",\"Aurobindo Pharma Ltd\",\"Star Health and Allied Insurance Company Ltd\",\"Abbott India Ltd\",\"AU Small Finance Bank Ltd\",\"Polycab India Ltd\",\"Honeywell Automation India Ltd\",\"Lupin Ltd\",\"Gujarat Gas Ltd\",\"PB Fintech Ltd\",\"Embassy O\\ufb03ce Parks REIT\",\"Persistent Systems Ltd\",\"Indian Overseas Bank\",\"Jubilant Foodworks Ltd\",\"Gujarat Fluorochemicals Ltd\",\"Ashok Leyland Ltd\",\"Oberoi Realty Ltd\",\"Tata Communications Ltd\",\"Yes Bank Ltd\",\"Max Healthcare Institute Ltd\",\"Aarti Industries Ltd\",\"Bharat Forge Ltd\",\"Laurus Labs Ltd\",\"Petronet LNG Ltd\",\"Power Finance Corporation Ltd\",\"Oracle Financial Services Software Ltd\",\"Shriram Transport Finance Company Ltd\",\"Deepak Nitrite Ltd\",\"Indian Railway Finance Corp Ltd\",\"Tube Investments of India Ltd\",\"Ruchi Soya Industries Ltd\",\"Minda Industries Ltd\",\"Vodafone Idea Ltd\",\"MRF Ltd\",\"TVS Motor Company Ltd\",\"Atul Ltd\",\"Cummins India Ltd\",\"NHPC Ltd\",\"Relaxo Footwears Ltd\",\"Max Financial Services Ltd\",\"Schae\\ufb04er India Ltd\",\"Indian Hotels Company Ltd\",\"Indraprastha Gas Ltd\",\"Linde India Ltd\",\"Dalmia Bharat Ltd\",\"Trident Ltd\",\"Union Bank of India Ltd\",\"Coforge Ltd\",\"Aditya Birla Fashion and Retail Ltd\",\"GlaxoSmithKline Pharmaceuticals Ltd\",\"Dixon Technologies (India) Ltd\",\"IDFC First Bank Ltd\",\"Aditya Birla Capital Ltd\",\"IPCA Laboratories Ltd\",\"Supreme Industries Ltd\",\"Hatsun Agro Product Ltd\",\"Tata Teleservices (Maharashtra) Ltd\",\"Kansai Nerolac Paints Ltd\",\"Bata India Ltd\",\"Coromandel International Ltd\",\"Zee Entertainment Enterprises Ltd\",\"REC Limited\",\"Crompton Greaves Consumer Electricals Ltd\",\"CG Power and Industrial Solutions Ltd\",\"Tata Chemicals Ltd\",\"Oil India Ltd\",\"Escorts Ltd\",\"Syngene International Ltd\",\"Solar Industries India Ltd\",\"Torrent Power Ltd\",\"GMR Infrastructure Ltd\",\"APL Apollo Tubes Ltd\",\"Dr. Lal PathLabs Ltd\",\"Thermax Limited\",\"3M India Ltd\",\"Clean Science and Technology Ltd\",\"Vedant Fashions Ltd\",\"Rajesh Exports Ltd\",\"National Aluminium Co Ltd\",\"Emami Ltd\",\"KPR Mill Ltd\",\"Nippon Life India Asset Management Ltd\",\"CRISIL Ltd\",\"General Insurance Corporation of India\",\"Whirlpool of India Ltd\",\"Federal Bank Ltd\",\"Grindwell Norton Ltd\",\"Sundaram Finance Ltd\",\"Sumitomo Chemical India Ltd\",\"Navin Fluorine International Ltd\",\"Mindspace Business Parks REIT\",\"ICICI Securities Ltd\",\"P\\ufb01zer Ltd\",\"LIC Housing Finance Ltd\",\"Bayer Cropscience Ltd\",\"New India Assurance Company Ltd\",\"Vinati Organics Ltd\",\"Indian Energy Exchange Ltd\",\"CPSE ETF\",\"Tanla Platforms Ltd\",\"Bank of India Ltd\",\"Aavas Financiers Ltd\",\"Indian Bank\",\"Mahindra and Mahindra Financial Services Ltd\",\"J K Cement Ltd\",\"Prestige Estates Projects Ltd\",\"Devyani International Ltd\",\"Fortis Healthcare Ltd\",\"Poonawalla Fincorp Ltd\",\"Aptus Value Housing Finance India Ltd\",\"Sun Tv Network Ltd\",\"Sundram Fasteners Ltd\",\"Phoenix Mills Ltd\",\"Ramco Cements Limited\",\"Bharat Heavy Electricals Ltd\",\"L&T Finance Holdings Ltd\",\"Sano\\ufb01India Ltd\",\"Chambal Fertilisers and Chemicals Ltd\",\"Kajaria Ceramics Ltd\",\"Ajanta Pharma Ltd\",\"SKF India Ltd\",\"Godrej Industries Ltd\",\"Endurance Technologies Ltd (CN)\",\"Timken India Ltd\",\"Happiest Minds Technologies Ltd\",\"AIA Engineering Ltd\",\"DCM Shriram Ltd\",\"Sheela Foam Ltd\",\"A\\ufb04e (India) Ltd\",\"Central Bank of India Ltd\",\"Central Depository Services (India) Ltd\",\"Gillette India Ltd\",\"KPIT Technologies Ltd\",\"Metro Brands Ltd\",\"Vardhman Textiles Ltd\",\"Natco Pharma Ltd\",\"Century Plyboards (India) Ltd\",\"Alkyl Amines Chemicals Ltd\",\"Carborundum Universal Ltd\",\"Gujarat State Petronet Ltd\",\"Blue Dart Express Ltd\",\"Hitachi Energy India Ltd\",\"UTI Sensex 30 ETF\",\"Aditya Birla Sun Life Amc Ltd\",\"National Standard (India) Ltd\",\"Alembic Pharmaceuticals Ltd\",\"UCO Bank\",\"Brightcom Group Ltd\",\"Narayana Hrudayalaya Ltd\",\"G R Infraprojects Ltd\",\"ZF Commercial Vehicle Control Systems India Ltd\",\"IRB Infrastructure Developers Ltd\",\"KIOCL Ltd\",\"IIFL Wealth Management Ltd\",\"Indiamart Intermesh Ltd\",\"Nuvoco Vistas Corporation Ltd\",\"Angel One Ltd\",\"Suven Pharmaceuticals Ltd\",\"Exide Industries Ltd\",\"Motilal Oswal Financial Services Ltd\",\"Radico Khaitan Ltd\",\"BSE Ltd\",\"Glenmark Pharmaceuticals Ltd\",\"Amber Enterprises India Ltd\",\"BASF India Ltd\",\"Birlasoft Ltd\",\"J B Chemicals and Pharmaceuticals Ltd\",\"Apollo Tyres Limited\",\"Fine Organic Industries Ltd\",\"Alok Industries Ltd\",\"Bajaj Electricals Ltd\",\"Brigade Enterprises Ltd\",\"Bank of Maharashtra Ltd\",\"TTK Prestige Ltd\",\"MedPlus Health Services Ltd\",\"CreditAccess Grameen Ltd\",\"Gujarat Narmada Valley Fertilizers & Chemicals Ltd\",\"UTI Asset Management Company Ltd\",\"TV18 Broadcast Ltd\",\"Redington (India) Ltd\",\"Computer Age Management Services Ltd\",\"POWERGRID Infrastructure Investment Trust\",\"Cholamandalam Financial Holdings Ltd\",\"Hindustan Copper Ltd\",\"Laxmi Organic Industries Ltd\",\"Bharat Dynamics Ltd\",\"IIFL Finance Ltd\",\"Capri Global Capital Ltd\",\"SJVN Ltd\",\"Lakshmi Machine Works Ltd\",\"Shriram City Union Finance Ltd\",\"Krishna Institute of Medical Sciences Ltd\",\"Asahi India Glass Ltd\",\"Castrol India Ltd\",\"PVR Ltd\",\"KEC International Ltd\",\"HFCL Ltd\",\"Ratnamani Metals and Tubes Ltd\",\"Intellect Design Arena Ltd\",\"Galaxy Surfactants Ltd\",\"Metropolis Healthcare Ltd\",\"KEI Industries Ltd\",\"Welspun India Ltd\",\"India Grid Trust\",\"Balaji Amines Ltd\",\"Manappuram Finance Ltd\",\"Amara Raja Batteries Ltd\",\"Cyient Ltd\",\"Brook\\ufb01eld India Real Estate Trust REIT\",\"Balrampur Chini Mills Ltd\",\"Route Mobile Ltd\",\"CESC Ltd\",\"Eris Lifesciences Ltd\",\"IDFC Ltd\",\"Finolex Industries Ltd\",\"Graphite India Ltd\",\"ITI Ltd\",\"Zydus Wellness Ltd\",\"Elgi Equipments Ltd\",\"V Guard Industries Ltd\",\"Blue Star Ltd\",\"Jindal Stainless Ltd\",\"RHI Magnesita India Ltd\",\"Ritesh Properties and Industries Ltd\",\"Chemplast Sanmar Ltd\",\"Bharat 22 ETF\",\"Mastek Ltd\",\"Century Textile and Industries Ltd\",\"Godrej Agrovet Ltd\",\"Nippon India Nifty Bank Bees ETF\",\"Suzlon Energy Ltd\",\"City Union Bank Ltd\",\"V I P Industries Ltd\",\"Shyam Metalics and Energy Ltd\",\"Anupam Rasayan India Ltd\",\"Akzo Nobel India Ltd\",\"NLC India Ltd\",\"EIH Ltd\",\"Aster DM Healthcare Ltd\",\"Latent View Analytics Ltd\",\"Firstsource Solutions Ltd\",\"Zensar Technologies Ltd\",\"Fertilisers And Chemicals Travancore Ltd\",\"Saregama India Ltd\",\"Birla Corporation Ltd\",\"Jindal Stainless (Hisar) Ltd\",\"Quess Corp Ltd\",\"Jubilant Ingrevia Ltd\",\"Network18 Media & Investments Ltd\",\"RBL Bank Ltd\",\"CE Info Systems Ltd\",\"Sapphire Foods India Ltd\",\"Can Fin Homes Ltd\",\"Edelweiss Bharat Bond ETF-April 2023 ETF\",\"Sonata Software Ltd\",\"Poly Medicure Ltd\",\"Allcargo Logistics Ltd\",\"KNR Constructions Ltd\",\"Shree Renuka Sugars Ltd\",\"Supreme Petrochem Ltd\",\"SBI Nifty 50 ETF\",\"Triveni Engineering and Industries Ltd\",\"Borosil Renewables Ltd\",\"HLE Glascoat Ltd\",\"Indigo Paints Ltd\",\"Symphony Ltd\",\"Eclerx Services Ltd\",\"E I D-Parry (India) Ltd\",\"Delta Corp Ltd\",\"Mahanagar Gas Ltd\",\"V-mart Retail Ltd\",\"Granules India Ltd\",\"Sterlite Technologies Ltd\",\"Sundaram Clayton Ltd\",\"Kotak Nifty Bank ETF\",\"Privi Speciality Chemicals Ltd\",\"Multi Commodity Exchange of India Ltd\",\"Lux Industries Ltd\",\"Procter & Gamble Health Ltd\",\"Prince Pipes and Fittings Ltd\",\"Indiabulls Housing Finance Ltd\",\"Mangalore Re\\ufb01nery and Petrochemicals Ltd\",\"Westlife Development Ltd\",\"Rail Vikas Nigam Ltd\",\"Sun Pharma Advanced Research Co Ltd\",\"SIS Ltd\",\"MMTC Ltd\",\"Housing and Urban Development Corporation Ltd\",\"NBCC (India) Ltd\",\"Tata Investment Corporation Ltd\",\"Sobha Ltd\",\"Greenpanel Industries Ltd\",\"Sunteck Realty Ltd\",\"Rattanindia Enterprises Ltd\",\"Praj Industries Ltd\",\"Easy Trip Planners Ltd\",\"Mahindra CIE Automotive Ltd\",\"Aegis Logistics Ltd\",\"PNB Housing Finance Ltd\",\"Polyplex Corp Ltd\",\"TCI Express Ltd\",\"Orient Electric Ltd\",\"Equitas Small Finance Bank Ltd\",\"Astrazeneca Pharma India Ltd\",\"TeamLease Services Ltd\",\"India Cements Ltd\",\"Deepak Fertilisers and Petrochemicals Corp Ltd\",\"Vaibhav Global Ltd\",\"India Infrastructure Trust\",\"Punjab & Sind Bank\",\"Bombay Burmah Trading Corporation Ltd\",\"Home First Finance Company India Ltd\",\"National Highways Infra Trust\",\"Jubilant Pharmova Ltd\",\"BEML Ltd\",\"JM Financial Ltd\",\"Edelweiss Bharat Bond ETF-April 2030 ETF\",\"Just Dial Ltd\",\"PNC Infratech Ltd\",\"GMM Pfaudler Ltd\",\"Bharat Bond ETF - April 2032\",\"Prism Johnson Ltd\",\"NIIT Ltd\",\"Kalyan Jewellers India Ltd\",\"RITES Ltd\",\"Indinfravit Trust\",\"Rain Industries Ltd\",\"Jindal Worldwide Ltd\",\"Sterling and Wilson Renewable Energy Ltd\",\"MTAR Technologies Ltd\",\"Cera Sanitaryware Ltd\",\"Triveni Turbine Ltd\",\"Finolex Cables Ltd\",\"Kama Holdings Ltd\",\"Avanti Feeds Ltd\",\"Gujarat State Fertilizers and Chemicals Ltd\",\"Nazara Technologies Ltd\",\"Gujarat Ambuja Exports Ltd\",\"Glenmark Life Sciences Ltd\",\"Garware Technical Fibres Ltd\",\"In\\ufb01beam Avenues Ltd\",\"Caplin Point Laboratories Ltd\",\"Kalpataru Power Transmission Ltd\",\"Olectra Greentech Ltd\",\"Chalet Hotels Ltd\",\"JBM Auto Ltd\",\"Bharat Rasayan Ltd\",\"Gujarat Alkalies And Chemicals Ltd\",\"Godfrey Phillips India Ltd\",\"Godawari Power and Ispat Ltd\",\"CCL Products India Ltd\",\"Jyothy Labs Ltd\",\"shipping corporation of India Ltd\",\"Apollo Tricoat Tubes Ltd\",\"Jindal Poly Films Ltd\",\"Gujarat Mineral Development Corporation Ltd\",\"Rossari Biotech Ltd\",\"Johnson Controls-Hitachi Air Conditioning India Ltd\",\"Mazagon Dock Shipbuilders Ltd\",\"Go Fashion (India) Ltd\",\"JK Lakshmi Cement Ltd\",\"Nippon India Gold Bees ETF\",\"ESAB India Ltd\",\"JK Paper Ltd\",\"Varroc Engineering Ltd\",\"INOX Leisure Ltd\",\"GHCL Ltd\",\"EPL Ltd\",\"Great Eastern Shipping Company Ltd\",\"Tatva Chintan Pharma Chem Ltd\",\"Hikal Ltd\",\"Indiabulls Real Estate Ltd\",\"Barbeque-Nation Hospitality Ltd\",\"Sharda Cropchem Ltd\",\"Lloyds Metals And Energy Ltd\",\"Edelweiss Financial Services Ltd\",\"Mahindra Lifespace Developers Ltd\",\"TCNS Clothing Co Ltd\",\"HEG Ltd\",\"Rallis India Ltd\",\"Jaiprakash Power Ventures Ltd\",\"Ingersoll-Rand (India) Ltd\",\"KRBL Ltd\",\"Raymond Ltd\",\"VST Industries Ltd\",\"Minda Corporation Ltd\",\"Reliance Power Ltd\",\"Kennametal India Ltd\",\"Responsive Industries Ltd\",\"Hinduja Global Solutions Ltd\",\"JSW Holdings Ltd\",\"Tejas Networks Ltd\",\"Greenlam Industries Ltd\",\"Transport Corporation of India Ltd\",\"Heidelbergcement India Ltd\",\"Hindustan Foods Ltd\",\"Shoppers Stop Ltd\",\"F D C Ltd\",\"Rashtriya Chemicals and Fertilizers Ltd\",\"Suprajit Engineering Ltd\",\"Swan Energy Ltd\",\"Dhani Services Ltd\",\"Lemon Tree Hotels Ltd\",\"Craftsman Automation Ltd\",\"Motilal Oswal NASDAQ 100 ETF\",\"Vijaya Diagnostic Centre Ltd\",\"Mahindra Holidays and Resorts India Ltd\",\"Aarti Drugs Ltd\",\"Wockhardt Ltd\",\"Nippon India Nifty 50 Bees ETF\",\"Thyrocare Technologies Ltd\",\"Isgec Heavy Engineering Ltd\",\"Jamna Auto Industries Ltd\",\"Tinplate Company of India Ltd\",\"Greaves Cotton Ltd\",\"U\\ufb02ex Ltd\",\"La Opala R G Ltd\",\"CEAT Ltd\",\"IFB Industries Ltd\",\"Maithan Alloys Ltd\",\"CMS Info Systems Ltd\",\"Gujarat Pipavav Port Ltd\",\"Cochin Shipyard Ltd\",\"Neogen Chemicals Ltd\",\"KSB Ltd\",\"VRL Logistics Ltd\",\"Dalmia Bharat Sugar and Industries Ltd\",\"Sudarshan Chemical Industries Ltd\",\"Maharashtra Scooters Ltd\",\"Man Infraconstruction Ltd\",\"Sarda Energy & Minerals Ltd\",\"Globus Spirits Ltd\",\"Borosil Ltd\",\"Ircon International Ltd\",\"Star Cement Ltd\",\"HG Infra Engineering Ltd (Part IX)\",\"NCC Ltd\",\"Meghmani Finechem Ltd\",\"Welspun Corp Ltd\",\"Tata Co\\ufb00ee Ltd\",\"Supriya Lifescience Ltd\",\"Karur Vysya Bank Ltd\",\"Maharashtra Seamless Ltd\",\"Equitas Holdings Ltd\",\"CSB Bank Ltd\",\"Nesco Ltd\",\"Dilip Buildcon Ltd\",\"ICRA Ltd\",\"Rupa & Company Ltd\",\"Tarsons Products Ltd\",\"Newgen Software Technologies Ltd\",\"Religare Enterprises Ltd\",\"Shilpa Medicare Ltd\",\"Nocil Ltd\",\"Indoco Remedies Ltd\",\"Spicejet Ltd\",\"Share India Securities Ltd\",\"Rategain Travel Technologies Ltd\",\"Arvind Fashions Ltd\",\"Healthcare Global Enterprises Ltd\",\"Moil Ltd\",\"Nirlon Ltd\",\"Gateway Distriparks Ltd\",\"Data Patterns (India) Ltd\",\"Hemisphere Properties India Ltd\",\"Dhampur Sugar Mills Ltd\",\"Vakrangee Limited\",\"Engineers India Ltd\",\"HMT Ltd\",\"Usha Martin Ltd\",\"Rolex Rings Ltd\",\"Dhanuka Agritech Ltd\",\"Indo Count Industries Ltd\",\"Sandur Manganese and Iron Ores Ltd\",\"Advanced Enzyme Technologies Ltd\",\"Tata Steel Long Products Ltd\",\"Hathway Cable and Datacom Ltd\",\"Nilkamal Ltd\",\"IndoStar Capital Finance Ltd\",\"India Pesticides Ltd\",\"Mahindra Logistics Ltd\",\"Astec Lifesciences Ltd\",\"Jammu and Kashmir Bank Ltd\",\"Ami Organics Ltd\",\"Venky's (India) Ltd\",\"Paushak Ltd\",\"Dollar Industries Ltd\",\"RattanIndia Power Ltd\",\"Kaveri Seed Company Ltd\",\"Mishra Dhatu Nigam Ltd\",\"Tega Industries Ltd\",\"MAS Financial Services Ltd\",\"Cosmo Films Ltd\",\"IRB InvIT Fund\",\"Kirloskar Ferrous Industries Ltd\",\"Arvind Ltd\",\"Seamec Ltd\",\"Sansera Engineering Ltd\",\"Reliance Infrastructure Ltd\",\"SeQuent Scienti\\ufb01c Ltd\",\"R Systems International Ltd\",\"Orient Cement Ltd\",\"India Tourism Development Corp Ltd\",\"Strides Pharma Science Ltd\",\"HIL Ltd\",\"Bannari Amman Sugars Ltd\",\"Jindal SAW Ltd\",\"Dish TV India Ltd\",\"Hawkins Cookers Ltd\",\"Railtel Corporation of India Ltd\",\"Ujjivan Small Finance Bank Ltd\",\"Ramkrishna Forgings Ltd\",\"Somany Ceramics Ltd\",\"Tips Industries Ltd\",\"IIFL Securities Ltd\",\"Tasty Bite Eatables Ltd\",\"Hindustan Oil Exploration Company Ltd\",\"Rajratan Global Wire Ltd\",\"Filatex India Ltd\",\"Optiemus Infracom Ltd\",\"Bengal & Assam Company Ltd\",\"JK Tyre & Industries Ltd\",\"Paisalo Digital Ltd\",\"Somany Home Innovation Ltd\",\"Sagar Cements Ltd\",\"Dodla Dairy Ltd\",\"India Glycols Ltd\",\"Kirloskar Pneumatic Company Ltd\",\"Garden Reach Shipbuilders & Engineers Ltd\",\"Kiri Industries Ltd\",\"Puravankara Ltd\",\"Cartrade Tech Ltd\",\"Ahluwalia Contracts (India) Ltd\",\"Prime Focus Ltd\",\"ELANTAS Beck India Ltd\",\"Dishman Carbogen Amcis Ltd\",\"Sadhana Nitro Chem Ltd\",\"Schneider Electric Infrastructure Ltd\",\"IFCI Ltd\",\"Action Construction Equipment Ltd\",\"SBI Gold ETF\",\"Heranba Industries Ltd\",\"Techno Electric & Engineering Company Ltd\",\"Technocraft Industries (India) Ltd\",\"Nippon India Liquid Bees ETF\",\"Kirloskar Oil Engines Ltd\",\"Ashoka Buildcon Ltd\",\"Tata Metaliks Ltd\",\"D B Realty Ltd\",\"Apar Industries Ltd\",\"Solara Active Pharma Sciences Ltd\",\"National Fertilizers Ltd\",\"Paras Defence and Space Technologies Ltd\",\"Hindustan Construction Company Ltd\",\"Himadri Speciality Chemical Ltd\",\"Everest Kanto Cylinder Ltd\",\"Eveready Industries India Ltd\",\"Thomas Cook (India) Ltd\",\"Steel Strips Wheels Ltd\",\"Thirumalai Chemicals Ltd\",\"Jayaswal Neco Industries Ltd\",\"Butter\\ufb02y Gandhimathi Appliances Ltd\",\"Amrutanjan Health Care Ltd\",\"Inox Wind Ltd\",\"Spandana Sphoorty Financial Ltd\",\"Meghmani Organics Ltd\",\"PTC India Ltd\",\"Fino Payments Bank Ltd\",\"IOL Chemicals and Pharmaceuticals Ltd\",\"Gravita India Ltd\",\"Kirloskar Brothers Ltd\",\"LT Foods Ltd\",\"Ge T&D India Ltd\",\"Bajaj Consumer Care Ltd\",\"TV Today Network Ltd\",\"Dwarikesh Sugar Industries Ltd\",\"Automotive Axles Ltd\",\"Electrosteel Castings Ltd\",\"Bls International Services Ltd\",\"Valiant Organics Ltd\",\"Surya Roshni Ltd\",\"Gulf Oil Lubricants India Ltd\",\"Oriental Aromatics Ltd\",\"Ion Exchange (India) Ltd\",\"Gu\\ufb01c Biosciences Ltd\",\"Sharda Motor Industries Ltd\",\"Greenply Industries Ltd\",\"Best Agrolife Ltd\",\"MSTC Ltd\",\"Bhansali Engg Polymers Ltd\",\"Indian Metals and Ferro Alloys Ltd\",\"Subros Ltd\",\"DCB Bank Ltd\",\"Jain Irrigation Systems Ltd - DVR\",\"Jain Irrigation Systems Ltd\",\"I G Petrochemicals Ltd\",\"Steel Exchange India Ltd\",\"Jaiprakash Associates Ltd\",\"VST Tillers Tractors Ltd\",\"Mold-Tek Packaging Ltd\",\"Kolte-Patil Developers Ltd\",\"Stove Kraft Ltd\",\"Acrysil Ltd\",\"GTL Infrastructure Ltd\",\"Gokaldas Exports Ltd\",\"Goodyear India Ltd\",\"Safari Industries (India) Ltd\",\"Yasho Industries Ltd\",\"Alembic Ltd\",\"MM Forgings Ltd\",\"Future Retail Ltd\",\"Pokarna Ltd\",\"Bombay Dyeing and Mfg Co Ltd\",\"Excel Industries Ltd\",\"Voltamp Transformers Ltd\",\"Con\\ufb01dence Petroleum India Ltd\",\"Siyaram Silk Mills Ltd\",\"ICICI Prudential Nifty 50 ETF\",\"Balmer Lawrie and Company Ltd\",\"Tide Water Oil Co India Ltd\",\"Marksans Pharma Ltd\",\"Vesuvius India Ltd\",\"Andhra Sugars Ltd\",\"West Coast Paper Mills Ltd\",\"Hester Biosciences Ltd\",\"Jai Corp Ltd\",\"Virescent Renewable Energy Trust\",\"HSIL Ltd\",\"S H Kelkar and Company Ltd\",\"Agro Tech Foods Ltd\",\"Bajaj Hindusthan Sugar Ltd\",\"Navneet Education Ltd\",\"PTC Industries Ltd\",\"Subex Ltd\",\"Anant Raj Ltd\",\"Kotak Gold ETF\",\"Mirza International Ltd\",\"Ramco Industries Ltd\",\"Vidhi Specialty Food Ingredients Ltd\",\"Astra Micro Wave Products Ltd\",\"Garware Hi-Tech Films Ltd\",\"GTPL Hathway Ltd\",\"Apollo Pipes Ltd\",\"Fairchem Organics Ltd\",\"INEOS Styrolution India Ltd\",\"Apcotex Industries Ltd\",\"Pilani Investment And Industries Corporation Ltd\",\"Nahar Spinning Mills Ltd\",\"HDFC Gold ETF\",\"Mukand Ltd\",\"PSP Projects Ltd\",\"ICICI Prudential Gold ETF\",\"Camlin Fine Sciences Ltd\",\"Chennai Petroleum Corporation Ltd\",\"AVT Natural Products Ltd\",\"DEN Networks Ltd\",\"Morepen Laboratories Ltd\",\"Va Tech Wabag Ltd\",\"LG Balakrishnan & Bros Ltd\",\"Infobeans Technologies Ltd\",\"JTEKT India Ltd\",\"Manali Petrochemicals Ltd\",\"Nippon India Junior Bees ETF\",\"Karnataka Bank Ltd\",\"Fineotex Chemical Ltd\",\"Nava Bharat Ventures Ltd\",\"Mrs. Bectors Food Specialities Ltd\",\"Genesys International Corporation Ltd\",\"HBL Power Systems Ltd\",\"Elecon Engineering Company Ltd\",\"Unichem Laboratories Ltd\",\"Gabriel India Ltd\",\"Gati Ltd\",\"Goldiam International Ltd\",\"Kovai Medical Center and Hospital Ltd\",\"Vishnu Chemicals Ltd\",\"Indo Rama Synthetics (India) Ltd\",\"Shivalik Bimetal Controls Ltd\",\"ISMT Ltd\",\"Jagran Prakashan Ltd\",\"Shankara Building Products Ltd\",\"Krsnaa Diagnostics Ltd\",\"RPSG Ventures Ltd\",\"South Indian Bank Ltd\",\"Swaraj Engines Ltd\",\"Orissa Minerals Development Company Ltd\",\"Mayur Uniquoters Ltd\",\"Genus Power Infrastructures Ltd\",\"Gulshan Polyols Ltd\",\"Punjab Chemicals and Crop Protection Ltd\",\"Prataap Snacks Ltd\",\"Shaily Engineering Plastics Ltd\",\"Datamatics Global Services Ltd\",\"Time Technoplast Ltd\",\"Kirloskar Industries Ltd\",\"Sundaram Finance Holdings Ltd\",\"Max Ventures and Industries Ltd\",\"Himatsingka Seide Ltd\",\"DB Corp Ltd\",\"Ganesha Ecosphere Ltd\",\"Matrimony.Com Ltd\",\"Thanga Mayil Jewellery Ltd\",\"NACL Industries Ltd\",\"Kitex Garments Ltd\",\"Zen Technologies Ltd\",\"Xpro India Ltd\",\"Media Matrix Worldwide Ltd\",\"Panama Petrochem Ltd\",\"Nelco Ltd\",\"Shriram Pistons & Rings Ltd\",\"KCP Ltd\",\"Heritage Foods Ltd\",\"Ashiana Housing Ltd\",\"Kabra Extrusion Technik Ltd\",\"JSW Ispat Special Products Ltd\",\"Expleo Solutions Ltd\",\"Geojit Financial Services Ltd\",\"NXTDIGITAL Ltd\",\"Pricol Ltd\",\"CARE Ratings Ltd\",\"Nitin Spinners Ltd\",\"Accelya Solutions India Ltd\",\"Omaxe Ltd\",\"Grauer And Weil (India) Ltd\",\"Novartis India Ltd\",\"Sportking India Ltd\",\"Neuland Laboratories Ltd\",\"Avadh Sugar & Energy Ltd\",\"Renaissance Global Ltd\",\"Federal-Mogul Goetze (India) Ltd\",\"Mahanagar Telephone Nigam Ltd\",\"Gallantt Ispat Ltd\",\"Ambika Cotton Mills Ltd\",\"ADF Foods Ltd\",\"Savita Oil Technologies Ltd\",\"Kopran Ltd\",\"Shanthi Gears Ltd\",\"Lloyds Steels Industries Ltd\",\"Aptech Ltd\",\"PG Electroplast Ltd\",\"Sasken Technologies Ltd\",\"India Power Corporation Ltd\",\"JMC Projects (India) Ltd\",\"Force Motors Ltd\",\"GOCL Corp Ltd\",\"Manorama Industries Ltd\",\"Kotak Nifty 50 ETF\",\"Nureca Ltd\",\"Shanti Educational Initiatives Ltd\",\"Dolat Algotech Ltd\",\"Asian Star Co Ltd\",\"Ujjivan Financial Services Ltd\",\"Wheels India Ltd\",\"Sangam (India) Ltd\",\"Kingfa Science and Technology (India) Ltd\",\"Dynamatic Technologies Ltd\",\"Precision Camshafts Ltd\",\"TVS Srichakra Ltd\",\"Cigniti Technologies Ltd\",\"Kalyani Steels Ltd\",\"Vindhya Telelinks Ltd\",\"Shriram Properties Ltd\",\"Sandhar Technologies Ltd\",\"New Delhi Television Ltd\",\"Century Enka Ltd\",\"Shalby Ltd\",\"Kesoram Industries Ltd\",\"Nahar Poly Films Ltd\",\"Cantabil Retail India Ltd\",\"Mishtann Foods Ltd\",\"Fiem Industries Ltd\",\"Ramky Infrastructure Ltd\",\"Wonderla Holidays Ltd\",\"Power Mech Projects Ltd\",\"Shivalik Rasayan Ltd\",\"Honda India Power Products Ltd\",\"Southern Petrochemical Industries Corporation Ltd\",\"Kewal Kiran Clothing Ltd\",\"Sirca Paints India Ltd\",\"Prakash Industries Ltd\",\"Bodal Chemicals Ltd\",\"J Kumar Infraprojects Ltd\",\"BF Utilities Ltd\",\"EIH Associated Hotels Ltd\",\"Onmobile Global Ltd\",\"DFM Foods Ltd\",\"Insecticides (India) Ltd\",\"Ajmera Realty & Infra India Ltd\",\"AGS Transact Technologies Ltd\",\"Khaitan Chemicals and Fertilizers Ltd\",\"Huhtamaki India Ltd\",\"Welspun Enterprises Ltd\",\"Sutlej Textiles and Industries Ltd\",\"Co\\ufb00ee Day Enterprises Ltd\",\"Ugro Capital Ltd\",\"Repco Home Finance Ltd\",\"Sun\\ufb02ag Iron and Steel Co Ltd\",\"Sastasundar Ventures Ltd\",\"Texmaco Rail & Engineering Ltd\",\"Sanghi Industries Ltd\",\"Future Consumer Ltd\",\"PIX Transmissions Ltd\",\"Thejo Engineering Ltd\",\"Ngl Fine Chem Ltd\",\"Alicon Castalloy Ltd\",\"Suryoday Small Finance Bank Ltd\",\"G M Breweries Ltd\",\"Nucleus Software Exports Ltd\",\"Jyoti Structures Ltd\",\"Reliance Industrial Infrastructure Ltd\",\"Lumax AutoTechnologies Ltd\",\"Seshasayee Paper and Boards Ltd\",\"Gujarat Industries Power Company Ltd\",\"ITD Cementation India Ltd\",\"Vardhman Holdings Ltd\",\"Patel Engineering Ltd\",\"Orchid Pharma Ltd\",\"Titagarh Wagons Ltd\",\"DCW Ltd\",\"Transpek Industry Ltd\",\"NRB Bearings Ltd\",\"KDDL Ltd\",\"Tilaknagar Industries Ltd\",\"Igarashi Motors India Ltd\",\"TTK Healthcare Ltd\",\"GNA Axles Ltd\",\"Andhra Paper Ltd\",\"Tarc Ltd\",\"Udaipur Cement Works Ltd\",\"Pnb Gilts Ltd\",\"TD Power Systems Ltd\",\"BCL Industries Ltd\",\"Panacea Biotec Ltd\",\"PTC India Financial Services Ltd\",\"5Paisa Capital Ltd\",\"SJS Enterprises Ltd\",\"Satia Industries Ltd\",\"MPS Ltd\",\"Quick Heal Technologies Ltd\",\"Clariant Chemicals India Ltd\",\"Oriental Hotels Ltd\",\"BF Investment Ltd\",\"Tamilnadu Newsprint & Papers Ltd\",\"Moschip Technologies Ltd\",\"63 Moons Technologies Ltd\",\"Ester Industries Ltd\",\"Ganesh Housing Corp Ltd\",\"Andrew Yule & Co Ltd\",\"India Nippon Electricals Ltd\",\"Choice International Ltd\",\"Orient Green Power Company Ltd\",\"Bharat Bijlee Ltd\",\"Banco Products (India) Ltd\",\"Suven Life Sciences Ltd\",\"Mangalam Cement Ltd\",\"Visaka Industries Ltd\",\"Bhageria Industries Ltd\",\"Vadilal Industries Ltd\",\"Wendt (India) Limited\",\"RSWM Ltd\",\"Syncom Formulations (India) Ltd\",\"Centrum Capital Ltd\",\"Everest Industries Ltd\",\"Entertainment Network (India) Ltd\",\"Monte Carlo Fashions Ltd\",\"Jet Airways (India) Ltd\",\"Chemcon Speciality Chemicals Ltd\",\"Urja Global Ltd\",\"Elpro International Ltd\",\"Zee Media Corporation Ltd\",\"Magellanic Cloud Ltd\",\"Ge Power India Ltd\",\"Shree Digvijay Cement Co Ltd\",\"S. P. Apparels Ltd\",\"Nahar Capital and Financial Services Ltd\",\"Mac Charles (India) Ltd\",\"RPG Life Sciences Limited\",\"Emami Paper Mills Ltd\",\"KMC Speciality Hospitals India Ltd\",\"ULTRAMARINE & PIGMENTS Ltd\",\"Gokul Agro Resources Ltd\",\"Xchanging Solutions Ltd\",\"Vardhman Special Steels Ltd\",\"Black Rose Industries Ltd\",\"India Motor Parts & Accessories Ltd\",\"Shakti Pumps India Ltd\",\"Precision Wires India Ltd\",\"IFGL Refractories Ltd\",\"Parag Milk Foods Ltd\",\"Tamilnadu Petroproducts Ltd\",\"PC Jeweller Ltd\",\"Shalimar Paints Ltd\",\"3i Infotech Ltd\",\"Welspun Specialty Solutions Ltd\",\"Pitti Engineering Ltd\",\"National Peroxide Ltd\",\"Uniphos Enterprises Ltd\",\"Themis Medicare Ltd\",\"Srikalahasthi Pipes Ltd\",\"Capital India Finance Ltd\",\"Saksoft Ltd\",\"Pearl Global Industries Ltd\",\"Sigachi Industries Ltd\",\"Ashapura Minechem Ltd\",\"Hexa Tradex Ltd\",\"Dredging Corporation of India Ltd\",\"Rushil Decor Ltd\",\"Indian Hume Pipe Company Ltd\",\"Uttam Sugar Mills Ltd\",\"Vegetable Products Ltd\",\"Bajaj Healthcare Ltd\",\"Arihant Capital Markets Ltd\",\"Balu Forge Industries Ltd\",\"Ramco Systems Ltd\",\"TAJ GVK Hotels and Resorts Ltd\",\"D P Abhushan Ltd\",\"DISA India Ltd\",\"Lumax Industries Ltd\",\"Apex Frozen Foods Ltd\",\"Kellton Tech Solutions Ltd\",\"Cerebra Integrated Technologies Ltd\",\"Andhra Petrochemicals Ltd\",\"Arvind Smartspaces Ltd\",\"Quint Digital Media Ltd\",\"Ador Welding Ltd\",\"Mangalore Chemicals and Fertilisers Ltd\",\"Aditya Vision Ltd\",\"Shree Global Trade\\ufb01n Ltd\",\"Capacite Infraprojects Ltd\",\"Associated Alcohols & Breweries Ltd\",\"Rane Holdings Ltd\",\"Allsec Technologies Ltd\",\"Balmer Lawrie Investments Ltd\",\"Sanghvi Movers Ltd\",\"Arshiya Ltd\",\"Shri Jagdamba Polymers Ltd\",\"Anup Engineering Ltd\",\"WPIL Ltd\",\"Dhunseri Ventures Ltd\",\"Sree Rayalaseema Hi-Strength Hypo Ltd\",\"Foseco India Ltd\",\"Bhagiradha Chemicals and Industries Ltd\",\"Music Broadcast Ltd\",\"Reliance Communications Ltd\",\"FCS Software Solutions Ltd\",\"Future Lifestyle Fashions Ltd\",\"Medicamen Biotech Ltd\",\"HDFC Nifty 50 ETF\",\"SMS Pharmaceuticals Ltd\",\"Shree Pushkar Chemicals & Fertilisers Ltd\",\"Ncl Industries Ltd\",\"Zota Health Care Ltd\",\"Inox Wind Energy Ltd\",\"Nalwa Sons Investments Ltd\",\"Sukhjit Starch and Chemicals Ltd\",\"Oriental Carbon & Chemicals Ltd\",\"Madhya Bharat Agro Products Ltd\",\"Arman Financial Services Ltd\",\"Nandan Denim Ltd\",\"Stylam Industries Ltd\",\"Antony Waste Handling Cell Ltd\",\"Rajapalayam Mills Ltd\",\"John Cockerill India Ltd\",\"Makers Laboratories Ltd\",\"Deccan Cements Ltd\",\"Digispice Technologies Ltd\",\"Goodluck India Ltd\",\"Beekay Steel Industries Ltd\",\"Binny Ltd\",\"Jubilant Industries Ltd\",\"Ugar Sugar Works Ltd\",\"Faze Three Ltd\",\"Shreyas Shipping and Logistics Ltd\",\"Dcm Shriram Industries Ltd\",\"Spencer's Retail Ltd\",\"Nagarjuna Fertilizers and Chemicals Ltd\",\"Bliss GVS Pharma Ltd\",\"Onward Technologies Ltd\",\"Kuantum Papers Ltd\",\"Orient Bell Ltd\",\"TGV SRAAC Ltd\",\"Equippp Social Impact Technologies Ltd\",\"Texmaco Infrastructure & Holdings Ltd\",\"GIC Housing Finance Ltd\",\"Balaji Tele\\ufb01lms Ltd\",\"Satin Creditcare Network Ltd\",\"Vimta Labs Ltd\",\"Creative Newtech Ltd\",\"Dharamsi Morarji Chemical Co Ltd\",\"Dynemic Products Ltd\",\"HT Media Ltd\",\"Saint-Gobain Sekurit India Ltd\",\"GFL Ltd\",\"Shiva Cement Ltd\",\"Jyoti Resins and Adhesives Ltd\",\"SML Isuzu Ltd\",\"Speciality Restaurants Ltd\",\"Agarwal Industrial Corporation Ltd\",\"Xtglobal Infotech Ltd\",\"Orient Paper and Industries Ltd\",\"Mangalam Organics Ltd\",\"Vishal Fabrics Ltd\",\"Jagsonpal Pharmaceuticals Ltd\",\"HP Adhesives Ltd\",\"ASM Technologies Ltd\",\"Kalyani Investment Company Ltd\",\"Jay Bharat Maruti Ltd\",\"Vijay Solvex Ltd\",\"Anjani Portland Cement Ltd\",\"Vikas Lifecare Ltd\",\"Rama Phosphates Ltd\",\"Vikas Ecotech Ltd\",\"Cheviot Co Ltd\",\"KSE Ltd\",\"Jayant Agro-Organics Ltd\",\"Nahar Industrial Enterprises Ltd\",\"Ganesh Benzoplast Ltd\",\"Allied Digital Services Ltd\",\"Timex Group India Ltd\",\"Oriental Rail Infrastructure Ltd\",\"Summit Securities Ltd\",\"Fermenta Biotech Ltd\",\"Enkei Wheels (India) Ltd\",\"HCL Infosystems Ltd\",\"Automotive Stampings and Assemblies Ltd\",\"Aurionpro Solutions Ltd\",\"Ravindra Energy Ltd\",\"Yuken India Ltd\",\"Parsvnath Developers Ltd\",\"Salasar Techno Engineering Ltd\",\"HLV Ltd\",\"Waaree Renewable Technologies Ltd\",\"Control Print Ltd\",\"Raghav Productivity Enhancers Ltd\",\"TCPL Packaging Ltd\",\"V L S Finance Ltd\",\"Mangalam Industrial Finance Ltd\",\"Hi-Tech Pipes Ltd\",\"UTI Gold ETF\",\"Krishana Phoschem Ltd\",\"BGR Energy Systems Ltd\",\"Skipper Ltd\",\"Jindal Drilling and Industries Ltd\",\"BMW Industries Ltd\",\"Roto Pumps Ltd\",\"Globus Power Generation Ltd\",\"Universus Photo Imagings Ltd\",\"Unitech Ltd\",\"LIC MF Sensex 30 ETF\",\"Lincoln Pharmaceuticals Ltd\",\"Niyogin Fintech Ltd\",\"Steel Cast Ltd\",\"Nectar Lifesciences Ltd\",\"Cosmo Ferrites Ltd\",\"White Organic Retail Ltd\",\"Kokuyo Camlin Ltd\",\"Asian Granito India Ltd\",\"State Trading Corporation of India Ltd\",\"RACL Geartech Ltd\",\"Automobile Corp Of Goa Ltd\",\"Deep Industries Ltd\",\"Jash Engineering Ltd\",\"Likhitha Infrastructure Ltd\",\"Delphi World Money Ltd\",\"Harita Seating Systems Ltd\",\"Talbros Automotive Components Ltd\",\"Rane (Madras) Ltd\",\"Gujarat Themis Biosyn Ltd\",\"Oswal Greentech Ltd\",\"Rossell India Ltd\",\"Aarti Surfactants Ltd\",\"Indraprastha Medical Corporation Ltd\",\"Tanfac Industries Ltd\",\"Nelcast Ltd\",\"Zuari Agro Chemicals Ltd\",\"Kothari Petrochemicals Ltd\",\"Mawana Sugars Ltd\",\"UTI Nifty Next 50 ETF\",\"SVP Global Textiles Ltd\",\"Rajnandini Metal Ltd\",\"Loyal Textile Mills Ltd\",\"Plastiblends India Ltd\",\"NBI Industrial Finance Company Ltd\",\"Rama Steel Tubes Ltd\",\"South West Pinnacle Exploration Ltd\",\"Deep Polymers Ltd\",\"Snowman Logistics Ltd\",\"Finkurve Financial Services Ltd\",\"IFB Agro Industries Ltd\",\"Rane Brake Linings Ltd\",\"Vascon Engineers Ltd\",\"Lancer Container Lines Ltd\",\"Madras Fertilizers Ltd\",\"IST Ltd\",\"B L Kashyap and Sons Ltd\",\"Mallcom (India) Ltd\",\"Kanoria Chemicals and Industries Ltd\",\"Zuari Global Ltd\",\"Centum Electronics Ltd\",\"Gloster Ltd\",\"Kamdhenu Ltd\",\"Mangalam Global Enterprise Ltd\",\"Tourism Finance Corporation of India Ltd\",\"Bigbloc Construction Ltd\",\"Investment Trust of India Ltd\",\"Aym Syntex Ltd\",\"Oricon Enterprises Ltd\",\"Repro India Ltd\",\"Sterling Tools Ltd\",\"Morganite Crucible (India) Ltd\",\"Ruby Mills Ltd\",\"Hindusthan Urban Infrastructure Ltd\",\"Suumaya Industries Ltd\",\"Arihant Superstructures Ltd\",\"Forbes & Company Ltd\",\"Navkar Corporation Ltd\",\"TAAL Enterprises Ltd\",\"Sadbhav Engineering Ltd\",\"Gallantt Metal Ltd\",\"Kriti Industries (India) Limited\",\"Chaman Lal Setia Exports Ltd\",\"Amines and Plasticizers Ltd\",\"Dewan Housing Finance Corporation Ltd\",\"Raghuvansh Agrofarms Ltd\",\"Artemis Medicare Services Ltd\",\"Windlas Biotech Ltd\",\"Pennar Industries Ltd\",\"Crest Ventures Ltd\",\"Wim Plast Ltd\",\"Asian Energy Services Ltd\",\"Sandesh Ltd\",\"Beta Drugs Ltd\",\"Ducon Infratechnologies Ltd\",\"Yaari Digital Integrated Services Ltd\",\"Swelect Energy Systems Ltd\",\"D Link (India) Limited\",\"Jai Balaji Industries Ltd\",\"Virinchi Ltd\",\"International Conveyors Ltd\",\"B&B Triplewall Containers Ltd\",\"Exxaro Tiles Ltd\",\"MMP Industries Ltd\",\"Rub\\ufb01la International Ltd\",\"Cybertech Systems and Software Ltd\",\"Take Solutions Ltd\",\"Manaksia Ltd\",\"V2 Retail Ltd\",\"Radhe Developers (India) Ltd\",\"Sintex Industries Ltd\",\"MPS Infotecnics Ltd\",\"Consolidated Finvest & Holdings Ltd\",\"Universal Cables Ltd\",\"Hindustan Media Ventures Ltd\",\"MIRC Electronics Ltd\",\"Saurashtra Cement Ltd\",\"Sarla Performance Fibers Ltd\",\"Rana Sugars Ltd\",\"Rico Auto Industries Ltd\",\"Sintex Plastics Technology Ltd\",\"Man Industries India Ltd\",\"Stovec Industries Ltd\",\"Bannari Amman Spinning Mills Ltd\",\"Vinyl Chemicals India Ltd\",\"Bombay Super Hybrid Seeds Ltd\",\"Marathon Nextgen Realty Ltd\",\"Tribhovandas Bhimji Zaveri Ltd\",\"D P Wires Ltd\",\"Anuh Pharma Ltd\",\"Sahyadri Industries Ltd\",\"Systematix Corporate Services Ltd\",\"Voith Paper Fabrics India Ltd\",\"Birla Cable Ltd\",\"Indian Infotech and Software Ltd\",\"Sat Industries Ltd\",\"Muthoot Capital Services Ltd\",\"Menon Bearings Ltd\",\"Transformers and Recti\\ufb01ers (India) Ltd\",\"Magadh Sugar & Energy Ltd\",\"Kaya Ltd\",\"Munjal Auto Industries Ltd\",\"Kkalpana Industries (India) Ltd\",\"Hercules Hoists Ltd\",\"Aditya BSL Nifty 50 ETF\",\"MSP Steel & Power Ltd\",\"DCM Nouvelle Ltd\",\"Kothari Products Ltd\",\"Axtel Industries Ltd\",\"Coastal Corporation Ltd\",\"Fredun Pharmaceuticals Ltd\",\"Om Infra Ltd\",\"N R Agarwal Industries Ltd\",\"Vaarad Ventures Ltd\",\"Trigyn Technologies Ltd\",\"Gayatri Projects Ltd\",\"Shyam Century Ferrous Ltd\",\"Bharat Wire Ropes Ltd\",\"Goodricke Group Ltd\",\"Jaypee Infratech Ltd\",\"Zee Learn Ltd\",\"J C T Ltd\",\"Ram Ratna Wires Ltd\",\"Sayaji Hotels Ltd\",\"Monarch Networth Capital Ltd\",\"Suyog Telematics Ltd\",\"Future Enterprises Ltd\",\"Future Enterprises Ltd - DVR\",\"Andhra Cements Ltd\",\"TVS Electronics Ltd\",\"Munjal Showa Ltd\",\"Hitech Corporation Ltd\",\"Vardhman Acrylics Ltd\",\"PTL Enterprises Ltd\",\"Nath Bio-Genes (I) Ltd\",\"Kwality Pharmaceuticals Ltd\",\"Shri Dinesh Mills Ltd\",\"Khadim India Ltd\",\"Sreeleathers Ltd\",\"Linc Ltd\",\"Advani Hotels and Resorts (India) Ltd\",\"Reliance Capital Ltd\",\"Sanmit Infra Ltd\",\"Hi-Tech Gears Ltd\",\"Foods and Inns Ltd\",\"Gandhi Special Tubes Ltd\",\"DIGJAM Ltd\",\"Pondy Oxides and Chemicals Ltd\",\"Hindustan Composites Ltd\",\"Innovana Thinklabs Ltd\",\"HPL Electric & Power Ltd\",\"Yamuna Syndicate Ltd\",\"Balaxi Pharmaceuticals Ltd\",\"Vishwaraj Sugar Industries Ltd\",\"Xelpmoc Design and Tech Ltd\",\"IND Swift Laboratories Ltd\",\"Precot Ltd\",\"Oswal Agro Mills Ltd\",\"Max India Ltd\",\"Genus Paper & Boards Ltd\",\"Vintage Co\\ufb00ee and Beverages Ltd\",\"Prakash Pipes Ltd\",\"Kiran Vyapar Ltd\",\"Banswara Syntex Ltd\",\"Ginni Filaments Ltd\",\"Ksolves India Ltd\",\"GVK Power & Infrastructure Ltd\",\"ZF Steering Gear (India) Ltd\",\"Lyka Labs Ltd\",\"Amal Ltd\",\"Dhunseri Investments Ltd\",\"Supershakti Metaliks Ltd\",\"Venus Remedies Ltd\",\"Cressanda Solutions Ltd\",\"Rohit Ferro-Tech Ltd\",\"Megasoft Ltd\",\"Pudumjee Paper Products Ltd\",\"Commercial Engineers & Body Builders Co Ltd\",\"Sadbhav Infrastructure Projects Ltd\",\"Godha Cabcon & Insulation Ltd\",\"Shemaroo Entertainment Ltd\",\"Praxis Home Retail Ltd\",\"Marine Electricals (India) Ltd\",\"Surat Textile Mills Ltd\",\"Radhika Jeweltech Ltd\",\"Gujarat Sidhee Cement Ltd\",\"Waterbase Ltd\",\"Accuracy Shipping Ltd\",\"Sil Investments Ltd\",\"UFO Moviez India Ltd\",\"Atul Auto Ltd\",\"Maral Overseas Ltd\",\"Rudrabhishek Enterprises Ltd\",\"Dhruv Wellness Ltd\",\"Websol Energy System Ltd\",\"Avantel Ltd\",\"Aditya Birla Money Ltd\",\"Bajaj Steel Industries Ltd\",\"CSL Finance Ltd\",\"SOM Distilleries and Breweries Ltd\",\"Permanent Magnets Ltd\",\"CL Educate Ltd\",\"S Chand and Company Ltd\",\"MEP Infrastructure Developers Ltd\",\"Axiscades Technologies Ltd\",\"Shree Ganesh Remedies Ltd\",\"Prozone Intu Properties Ltd\",\"Sunshield Chemicals Ltd\",\"Dr Agarwal's Eye Hospital Ltd\",\"Empire Industries Ltd\",\"Gokul Refoils and Solvent Ltd\",\"Ajanta Soya Ltd\",\"Shivam Autotech Ltd\",\"Shankar Lal Rampal Dye-Chem Ltd\",\"Goa Carbon Ltd\",\"Aditya BSL Gold ETF\",\"Prabhat Technologies (India) Ltd\",\"Bhartiya International Ltd\",\"Nippon India Nifty Midcap 150 ETF\",\"Aurum Proptech Ltd\",\"Krebs Biochemicals and Industries Ltd\",\"Peninsula Land Ltd\",\"GKW Ltd\",\"Nikhil Adhesives Ltd\",\"Orient Abrasives Ltd\",\"Natural Capsules Ltd\",\"Housing Development and Infrastructure Ltd\",\"Commercial Syn Bags Ltd\",\"Premier Explosives Ltd\",\"Saraswati Commercial (India) Ltd\",\"Hubtown Ltd\",\"Veritas (India) Ltd\",\"Kothari Sugars and Chemicals Ltd\",\"Orissa Bengal Carrier Ltd\",\"Inventure Growth & Securities Ltd\",\"DIC India Ltd\",\"Master Trust Ltd\",\"GeeCee Ventures Ltd\",\"Variman Global Enterprises Ltd\",\"Asahi Songwon Colors Lucky Laminates Ltd\",\"Dhanlaxmi Bank Ltd\",\"Mindteck (India) Ltd\",\"SPEL Semiconductor Ltd\",\"Birla Tyres Ltd\",\"Nupur Recyclers Ltd\",\"Cupid Ltd\",\"JITF Infralogistics Ltd\",\"Ashima Ltd\",\"Sheetal Cool Products Ltd\",\"Royal Orchid Hotels Ltd\",\"Orbit Exports Ltd\",\"Tilak Ventures Ltd\",\"Axis Gold ETF\",\"Kanchi Karpooram Ltd\",\"Ikab Securities and Investment Ltd\",\"Hind Recti\\ufb01ers Ltd\",\"Reliance Naval and Engineering Ltd\",\"Mitsu Chem Plast Ltd\",\"Srei Infrastructure Finance Ltd\",\"SoftSol India Ltd\",\"Indo National Ltd\",\"Albert David Ltd\",\"Indo Thai Securities Ltd\",\"Bafna Pharmaceuticals Ltd\",\"KCP Sugar and Industries Corp Ltd\",\"Tuticorin Alkali Chemicals and Fertilizers Ltd\",\"PPAP Automotive Ltd\",\"Kriti Nutrients Ltd\",\"Jaykay Enterprises Ltd\",\"Zenotech Laboratories Ltd\",\"MBL Infrastructures Ltd\",\"Nicco Parks & Resorts Ltd\",\"Pmc Fincorp Ltd\",\"Aksharchem (India) Ltd\",\"High Energy Batteries (India) Ltd\",\"KP ENERGY Ltd\",\"Intrasoft Technologies Ltd\",\"K M Sugar Mills Ltd\",\"Euro India Fresh Foods Ltd\",\"Donear Industries Ltd\",\"Poddar Pigments Ltd\",\"Prime Securities Ltd\",\"Cineline India Ltd\",\"Axis AAA Bond Plus SDL ETF-2026 Matur. Reg. Growth\",\"BPL Ltd\",\"Kilitch Drugs (India) Ltd\",\"Aban O\\ufb00shore Ltd\",\"Lakshmi Mills Company Ltd\",\"Kilpest India Ltd\",\"Scooters India Ltd\",\"LGB Forge Ltd\",\"Securekloud Technologies Ltd\",\"Shiva Texyarn Ltd\",\"JK Agri Genetics Ltd\",\"AGI Infra Ltd\",\"Singer India Ltd\",\"ANG Lifesciences India Ltd\",\"Shree Rama Newsprint Ltd\",\"Panchmahal Steel Ltd\",\"Yash Pakka Limited\",\"Wealth First Portfolio Managers Ltd\",\"Emkay Global Financial Services Ltd\",\"Manaksia Steels Ltd\",\"Pasupati Acrylon Ltd\",\"Super Sales India Ltd\",\"Smruthi Organics Ltd\",\"Apollo Finvest (India) Ltd\",\"Dynamic Cables Ltd\",\"Salzer Electronics Ltd\",\"Taneja Aerospace and Aviation Ltd\",\"Siti Networks Ltd\",\"Iris Clothings Ltd\",\"Sakuma Exports Ltd\",\"Artson Engineering Ltd\",\"Race Eco Chain Ltd\",\"Jay Shree Tea and Industries Ltd\",\"PG Foils Ltd\",\"Dai Ichi Karkaria Ltd\",\"Atlas Jewellery India Ltd\",\"Amrit Corp Ltd\",\"Deccan Gold Mines Ltd\",\"Jagatjit Industries Ltd\",\"A K Capital Services Ltd\",\"Mahindra EPC Irrigation Ltd\",\"Kanpur Plastipack Ltd\",\"Aakash Exploration Services Ltd\",\"Chemfab Alkalis Ltd\",\"Wanbury Ltd\",\"Inspirisys Solutions Ltd\",\"Dangee Dums Ltd\",\"Sika Interplant Systems Ltd\",\"Bharat Road Network Ltd\",\"Dhunseri Tea & Industries Ltd\",\"MK Exim (India) Ltd\",\"Jindal Photo Ltd\",\"Integra Engineering India Ltd\",\"Eros International Media Ltd\",\"Diamines and Chemicals Ltd\",\"GP Petroleums Ltd\",\"Mirae Asset Nifty 50 ETF\",\"BNK Capital Markets Ltd\",\"Nila Infrastructures Ltd\",\"Harrisons Malayalam Ltd\",\"Axita Cotton Ltd\",\"Multibase India Ltd\",\"A-1 Acid Ltd\",\"Almondz Global Securities Ltd\",\"Moneyboxx Finance Ltd\",\"20 Microns Ltd\",\"Kifs Financial Services Ltd\",\"Piccadily Agro Industries Ltd\",\"Refex Industries Ltd\",\"Veljan Denison Ltd\",\"Zodiac Clothing Company Ltd\",\"Bambino Agro Industries Ltd\",\"Dynacons Systems and Solutions Ltd\",\"Benares Hotels Ltd\",\"Praveg Communications (India) Ltd\",\"UCAL Fuel Systems Ltd\",\"Ambalal Sarabhai Enterprises Ltd\",\"Menon Pistons Ltd\",\"Synergy Green Industries Ltd\",\"Modi Naturals Ltd\",\"Nitta Gelatin India Ltd\",\"J L Morison (India) Ltd\",\"Gujarat Apollo Industries Ltd\",\"Apollo Micro Systems Ltd\",\"Ishan Dyes and Chemicals Ltd\",\"SORIL Infra Resources Ltd\",\"Liberty Shoes Ltd\",\"Riddhi Siddhi Gluco Biols Ltd\",\"Shreeram Proteins Ltd\",\"Windsor Machines Ltd\",\"Khoday India Ltd\",\"Alu\\ufb02uoride Ltd\",\"BLS Infotech Ltd\",\"Jenburkt Pharmaceuticals Ltd\",\"Sintercom India Ltd\",\"Ador Fontech Ltd\",\"Videocon Industries Ltd\",\"Jindal Poly Investment and Finance Company Ltd\",\"Star Paper Mills Ltd\",\"Airan Ltd\",\"McLeod Russel India Ltd\",\"Silver Touch Technologies Ltd\",\"Mafatlal Industries Ltd\",\"Chembond Chemicals Ltd\",\"Hindustan Motors Ltd\",\"Zim Laboratories Ltd\",\"Pioneer Distilleries Ltd\",\"Kotyark Industries Ltd\",\"Goldstone Technologies Ltd\",\"Jeevan Scienti\\ufb01c Technology Ltd\",\"Modern Insulators Ltd\",\"Pil Italica Lifestyle Ltd\",\"Ruchira Papers Ltd\",\"Industrial and Prudential Investment Co Ltd\",\"Emami Realty Ltd\",\"Euro Panel Products Ltd\",\"A Infrastructure Ltd\",\"Paramount Communications Ltd\",\"NDR Auto Components Ltd\",\"Indsil Hydro Power and Manganese Ltd\",\"Tembo Global Industries Ltd\",\"Neelamalai Agro Industries Ltd\",\"South India Paper Mills Ltd\",\"Indo Tech Transformers Ltd\",\"Bombay Rayon Fashions Ltd\",\"Modison Metals Ltd\",\"Mold-Tek Technologies Ltd\",\"Maheshwari Logistics Ltd\",\"Texmo Pipes and Products Ltd\",\"STEL Holdings Ltd\",\"De Nora India Ltd\",\"Selan Exploration Technology Ltd\",\"Future Supply Chain Solutions Ltd\",\"RPP Infra Projects Ltd\",\"Indian Wood Products Co Ltd\",\"Sinclairs Hotels Ltd\",\"Art Nirman Ltd\",\"Vipul Ltd\",\"Kanani Industries Ltd\",\"Asian Hotels East Ltd\",\"T T Ltd\",\"Simplex Infrastructures Ltd\",\"Ceinsys Tech Ltd\",\"G K P Printing & Packaging Ltd\",\"Pansari Developers Ltd\",\"SAR Auto Products Ltd\",\"IL & FS Investment Managers Ltd\",\"In\\ufb02ame Appliances Ltd\",\"Penta Gold Ltd\",\"Setco Automotive Ltd\",\"Chemcrux Enterprises Ltd\",\"Ansal Properties and Infrastructure Ltd\",\"ICICI Prudential Nifty 100 Low Vol 30 ETF\",\"Compuage Infocom Ltd\",\"Eco Recycling Ltd\",\"SMS Lifesciences India Ltd\",\"Brooks Laboratories Ltd\",\"Swiss Military Consumer Goods Ltd\",\"Bedmutha Industries Ltd\",\"Reliance Home Finance Ltd\",\"Lords Chloro Alkali Ltd\",\"Bharat Seats Ltd\",\"Panasonic Energy India Co Ltd\",\"Tiger Logistics (India) Ltd\",\"Titan Biotech Ltd\",\"Lovable Lingerie Ltd\",\"Emkay Taps and Cutting Tools Ltd\",\"Resonance Specialties Ltd\",\"Raj Television Network Ltd\",\"VIP Clothing Ltd\",\"Scoobee Day Garments (India) Ltd\",\"Wonder Fibromats Ltd\",\"Shreeji Translogistics Ltd\",\"Ruttonsha International Recti\\ufb01er Ltd\",\"Tinna Rubber and Infrastructure Ltd\",\"CIL Nova Petrochemicals Ltd\",\"Manaksia Coated Metals & Industries Ltd\",\"Hindustan Organic Chemicals Ltd\",\"Alphageo (India) Ltd\",\"Astron Paper & Board Mill Ltd\",\"Vipul Organics Ltd\",\"Ponni Sugars (Erode) Ltd\",\"One Point One Solutions Ltd\",\"Avonmore Capital & Management Services Ltd\",\"Revathi Equipment Ltd\",\"Career Point Ltd\",\"GPT Infraprojects Ltd\",\"IRIS Business Services Ltd\",\"Shah Alloys Ltd\",\"DHP India Ltd\",\"Haldyn Glass Ltd\",\"Sundaram Multi Pap Ltd\",\"Walchandnagar Industries Ltd\",\"SPML Infra Ltd\",\"Macpower CNC Machines Ltd\",\"AJR Infra and Tolling Ltd\",\"Mercantile Ventures Ltd\",\"Uday Jewellery Industries Ltd\",\"SBI Nifty Bank ETF\",\"Indian Terrain Fashions Ltd\",\"Par Drugs and Chemicals Ltd\",\"Apollo Sindoori Hotels Ltd\",\"Visa Steel Ltd\",\"Shubham Polyspin Ltd\",\"GTL Ltd\",\"Bella Casa Fashion & Retail Ltd\",\"Alankit Ltd\",\"Ar\\ufb01n India Ltd\",\"Panasonic Carbon India Co Ltd\",\"Bombay Oxygen Investments Ltd\",\"Deepak Spinners Ltd\",\"Autoline Industries Ltd\",\"Bharat Agri Fert & Realty Ltd\",\"Mazda Ltd\",\"BEW Engineering Ltd\",\"Compucom Software Ltd\",\"Ruchi Infrastructure Ltd\",\"Hindustan Adhesives Ltd\",\"Baid Leasing and Finance Co Ltd\",\"Kernex Microsystems (India) Ltd\",\"VTM Ltd\",\"Add-Shop E-Retail Ltd\",\"TPL Plastech Ltd\",\"Sakar Healthcare Ltd\",\"Kaira Can Co Ltd\",\"Eimco Elecon India Ltd\",\"Kimia Biosciences Ltd\",\"Talbros Engineering Ltd\",\"Nila Spaces Ltd\",\"National General Industries Limited\",\"Ashapuri Gold Ornament Ltd\",\"Birla Precision Technologies Ltd\",\"K I C Metaliks Ltd\",\"ABM Knowledgeware Ltd\",\"Shri Bajrang Alliance Ltd\",\"Super House Ltd\",\"Pashupati Cotspin Ltd\",\"Mangal Credit and Fincorp Ltd\",\"Rajoo Engineers Ltd\",\"GRP Ltd\",\"Cian Agro Industries & Infrastructure Ltd\",\"Sakthi Sugars Ltd\",\"Reliance Chemotex Industries Ltd\",\"Bharat Parenterals Ltd\",\"Asian Hotels (West) Ltd\",\"Milkfood Ltd\",\"Suvidhaa Infoserve Ltd\",\"Nile Ltd\",\"IL&FS Engineering and Construction Company Ltd\",\"Shree Ajit Pulp and Paper Ltd\",\"Jasch Industries Ltd\",\"Indag Rubber Ltd\",\"Rajshree Polypack Ltd\",\"Aksh Opti\\ufb01bre Ltd\",\"BFL Asset Finvest Ltd\",\"IL&FS Transportation Networks Ltd\",\"A2z Infra Engineering Ltd\",\"Nippon India ETF Nifty SDL-2026 Maturity\",\"U Y Fincorp Ltd\",\"Capital Trust Ltd\",\"Tejnaksh Healthcare Ltd\",\"SRG Housing Finance Ltd\",\"Maan Aluminium Ltd\",\"Indowind Energy Ltd\",\"Gala Global Products Ltd\",\"Indian Toners & Developers Ltd\",\"Modi Rubber Ltd\",\"Mangalam Drugs and Organics Ltd\",\"VETO Switch Gears And Cables Ltd\",\"Gujarat Natural Resources Ltd\",\"Jay Ushin Ltd\",\"Lasa Supergenerics Ltd\",\"Rane Engine Valve Ltd\",\"Kings Infra Ventures Ltd\",\"GEE Ltd\",\"Ratnabhumi Developers Ltd\",\"Kaiser Corporation Ltd\",\"Nitco Ltd\",\"Toyam Industries Ltd\",\"Golden Tobacco Ltd\",\"Atlanta Ltd\",\"Worth Peripherals Ltd\",\"Aries Agro Ltd\",\"Kakatiya Cement Sugar and Industries Ltd\",\"United Nilgiri Tea Estates Company Ltd\",\"Bilcare Ltd\",\"Basant Agro Tech (India) Ltd\",\"Kirloskar Electric Company Ltd\",\"IVP Ltd\",\"GSS Infotech Ltd\",\"Essar Shipping Ltd\",\"Indian Acrylics Ltd\",\"Thinkink Picturez Ltd\",\"Diksat Transworld Ltd\",\"RDB Rasayans Ltd\",\"Shrenik Ltd\",\"Ritco Logistics Ltd\",\"TRF Ltd\",\"Intense Technologies Ltd\",\"SKM Egg Products Export India Ltd\",\"Genpharmasec Ltd\",\"Scan Steels Ltd\",\"Servotech Power Systems Ltd\",\"Emmbi Industries Ltd\",\"Shardul Securities Ltd\",\"IP Rings Ltd\",\"Surana Telecom and Power Ltd\",\"Pavna Industries Ltd\",\"Manaksia Aluminium Co Ltd\",\"Diligent Industries Ltd\",\"U. P. Hotels Ltd\",\"ISF Ltd\",\"Bal Pharma Ltd\",\"Jainam Ferro Alloys (I) Ltd\",\"Kinetic Engineering Ltd\",\"Accel Ltd\",\"Palred Technologies Ltd\",\"Vadilal Enterprises Ltd\",\"Nath Industries Ltd\",\"Vaidya Sane Ayurved Laboratories Ltd\",\"Paci\\ufb01c Industries Ltd\",\"Everest Organics Ltd\",\"Coral India Finance and Housing Ltd\",\"SPL Industries Ltd\",\"Star Housing Finance Ltd\",\"KG Petrochem Ltd\",\"E2E Networks Ltd\",\"DCM Ltd\",\"Indian Card Clothing Company Ltd\",\"Jullundur Motor Agency (Delhi) Ltd\",\"Lagnam Spintex Ltd\",\"Trescon Ltd\",\"ELGI Rubber Co Ltd\",\"Shreyans Industries Ltd\",\"Bharat Immunologicals and Biologicals Corporation Ltd\",\"Tyche Industries Ltd\",\"Globe Textiles (India) Ltd\",\"Gayatri BioOrganics Ltd\",\"Ice Make Refrigeration Ltd\",\"Caprihans India Ltd\",\"Facor Alloys Ltd\",\"Kilburn Engineering Ltd\",\"A\\ufb00ordable Robotic & Automation Ltd\",\"Premier Poly\\ufb01lm Ltd\",\"India Steel Works Ltd\",\"Industrial Investment Trust Ltd\",\"JHS Svendgaard Laboratories Ltd\",\"Poddar Housing and Development Ltd\",\"Ballarpur Industries Ltd\",\"Pradeep Metals Ltd\",\"Osia Hyper Retail Ltd\",\"Manas Properties Ltd\",\"Riddhi Corporate Services Ltd\",\"Asian Hotels (North) Ltd\",\"Ascom Leasing & Investments Ltd\",\"Bhagyanagar India Ltd\",\"Alpa Laboratories Ltd\",\"United Polyfab Gujarat Ltd\",\"SBEC Sugar Ltd\",\"Bharat Gears Ltd\",\"Aimco Pesticides Ltd\",\"ARC Finance Ltd\",\"Akash Infra-Projects Ltd\",\"Ahlada Engineers Ltd\",\"Jocil Ltd\",\"Alka India Ltd\",\"Noida Toll Bridge Company Ltd\",\"Arvee Laboratories (India) Ltd\",\"Abans Enterprises Ltd\",\"Samkrg Pistons and Rings Ltd\",\"Winsome Textile Industries Ltd\",\"Ankit Metal & Power Ltd\",\"Kamat Hotels (India) Ltd\",\"APM Finvest Ltd\",\"Panchsheel Organics Ltd\",\"DRC Systems India Ltd\",\"Gujarat Credit Corporation Ltd\",\"Lokesh Machines Ltd\",\"Damodar Industries Ltd\",\"CG VAK Software and Exports Ltd\",\"Umang Dairies Ltd\",\"Vivimed Labs Ltd\",\"Gillanders Arbuthnot & Co Ltd\",\"Pritika Auto Industries Ltd\",\"Generic Engineering Construction and Projects Ltd\",\"Electrotherm (India) Ltd\",\"Samrat Pharmachem Ltd\",\"Aspinwall & Co Ltd\",\"MITCON Consultancy & Engineering Services Ltd\",\"DEV Information Technology Ltd\",\"Surya Lakshmi Cotton Mills Ltd\",\"Banas Finance Ltd\",\"Sharp India Ltd\",\"Graviss Hospitality Ltd\",\"Arrow Greentech Ltd\",\"Suryalata Spinning Mills Ltd\",\"Sunedison Infrastructure Ltd\",\"ADC India Communications Ltd\",\"Keerthi Industries Ltd\",\"Sundaram Brake Linings Ltd\",\"McNally Bharat Engg Co Ltd\",\"Vedavaag Systems Ltd\",\"Majestic Auto Ltd\",\"Medico Remedies Ltd\",\"Garnet International Ltd\",\"Zodiac Energy Ltd\",\"AMJ Land Holdings Ltd\",\"SPS Finquest Ltd\",\"Akshar Spintex Ltd\",\"ASI Industries Ltd\",\"Pan India Corp Ltd\",\"Batliboi Ltd\",\"TCI Industries Ltd\",\"McDowell Holdings Ltd\",\"Scanpoint Geomatics Ltd\",\"Murudeshwar Ceramics Ltd\",\"Sayaji Industries Ltd\",\"RKEC Projects Ltd\",\"S M Gold Ltd\",\"ICICI Prudential Nifty Next 50 ETF\",\"Naga Dhunseri Group Ltd\",\"JBF Industries Ltd\",\"Tayo Rolls Ltd\",\"James Warren Tea Ltd\",\"Pioneer Embroideries Ltd\",\"Spectrum Electrical Industries Ltd\",\"SAB Industries Ltd\",\"Calcom Vision Ltd\",\"RSD Finance Ltd\",\"Prajay Engineers Syndicate Ltd\",\"Investment & Precision Castings Ltd\",\"Aarvi Encon Ltd\",\"Uttam Value Steels Ltd\",\"Maximus International Ltd\",\"Innovators Facade Systems Ltd\",\"PVP Ventures Ltd\",\"Deep Energy Resources Ltd\",\"Salona Cotspin Ltd\",\"Imagicaaworld Entertainment Ltd\",\"Kotak Sensex 30 ETF\",\"Maha Rashtra Apex Corporation Ltd\",\"Suraj Products Ltd\",\"Byke Hospitality Ltd\",\"Shiv Aum Steels Ltd\",\"Artemis Electricals and Projects Ltd\",\"Quantum Gold ETF\",\"Country Club Hospitality & Holidays Ltd\",\"Sharat Industries Ltd\",\"BLB Ltd\",\"Triton Valves Ltd\",\"Zodiac Ventures Ltd\",\"Madhav Infra Projects Ltd\",\"Paul Merchants Ltd\",\"Ganges Securities Ltd\",\"Galaxy Bearings Ltd\",\"Signet Industries Ltd\",\"Suraj Ltd\",\"Polson Ltd\",\"LKP Finance Ltd\"],\"yaxis\":\"y\",\"type\":\"bar\"}],                        {\"template\":{\"data\":{\"bar\":[{\"error_x\":{\"color\":\"#2a3f5f\"},\"error_y\":{\"color\":\"#2a3f5f\"},\"marker\":{\"line\":{\"color\":\"#E5ECF6\",\"width\":0.5},\"pattern\":{\"fillmode\":\"overlay\",\"size\":10,\"solidity\":0.2}},\"type\":\"bar\"}],\"barpolar\":[{\"marker\":{\"line\":{\"color\":\"#E5ECF6\",\"width\":0.5},\"pattern\":{\"fillmode\":\"overlay\",\"size\":10,\"solidity\":0.2}},\"type\":\"barpolar\"}],\"carpet\":[{\"aaxis\":{\"endlinecolor\":\"#2a3f5f\",\"gridcolor\":\"white\",\"linecolor\":\"white\",\"minorgridcolor\":\"white\",\"startlinecolor\":\"#2a3f5f\"},\"baxis\":{\"endlinecolor\":\"#2a3f5f\",\"gridcolor\":\"white\",\"linecolor\":\"white\",\"minorgridcolor\":\"white\",\"startlinecolor\":\"#2a3f5f\"},\"type\":\"carpet\"}],\"choropleth\":[{\"colorbar\":{\"outlinewidth\":0,\"ticks\":\"\"},\"type\":\"choropleth\"}],\"contour\":[{\"colorbar\":{\"outlinewidth\":0,\"ticks\":\"\"},\"colorscale\":[[0.0,\"#0d0887\"],[0.1111111111111111,\"#46039f\"],[0.2222222222222222,\"#7201a8\"],[0.3333333333333333,\"#9c179e\"],[0.4444444444444444,\"#bd3786\"],[0.5555555555555556,\"#d8576b\"],[0.6666666666666666,\"#ed7953\"],[0.7777777777777778,\"#fb9f3a\"],[0.8888888888888888,\"#fdca26\"],[1.0,\"#f0f921\"]],\"type\":\"contour\"}],\"contourcarpet\":[{\"colorbar\":{\"outlinewidth\":0,\"ticks\":\"\"},\"type\":\"contourcarpet\"}],\"heatmap\":[{\"colorbar\":{\"outlinewidth\":0,\"ticks\":\"\"},\"colorscale\":[[0.0,\"#0d0887\"],[0.1111111111111111,\"#46039f\"],[0.2222222222222222,\"#7201a8\"],[0.3333333333333333,\"#9c179e\"],[0.4444444444444444,\"#bd3786\"],[0.5555555555555556,\"#d8576b\"],[0.6666666666666666,\"#ed7953\"],[0.7777777777777778,\"#fb9f3a\"],[0.8888888888888888,\"#fdca26\"],[1.0,\"#f0f921\"]],\"type\":\"heatmap\"}],\"heatmapgl\":[{\"colorbar\":{\"outlinewidth\":0,\"ticks\":\"\"},\"colorscale\":[[0.0,\"#0d0887\"],[0.1111111111111111,\"#46039f\"],[0.2222222222222222,\"#7201a8\"],[0.3333333333333333,\"#9c179e\"],[0.4444444444444444,\"#bd3786\"],[0.5555555555555556,\"#d8576b\"],[0.6666666666666666,\"#ed7953\"],[0.7777777777777778,\"#fb9f3a\"],[0.8888888888888888,\"#fdca26\"],[1.0,\"#f0f921\"]],\"type\":\"heatmapgl\"}],\"histogram\":[{\"marker\":{\"pattern\":{\"fillmode\":\"overlay\",\"size\":10,\"solidity\":0.2}},\"type\":\"histogram\"}],\"histogram2d\":[{\"colorbar\":{\"outlinewidth\":0,\"ticks\":\"\"},\"colorscale\":[[0.0,\"#0d0887\"],[0.1111111111111111,\"#46039f\"],[0.2222222222222222,\"#7201a8\"],[0.3333333333333333,\"#9c179e\"],[0.4444444444444444,\"#bd3786\"],[0.5555555555555556,\"#d8576b\"],[0.6666666666666666,\"#ed7953\"],[0.7777777777777778,\"#fb9f3a\"],[0.8888888888888888,\"#fdca26\"],[1.0,\"#f0f921\"]],\"type\":\"histogram2d\"}],\"histogram2dcontour\":[{\"colorbar\":{\"outlinewidth\":0,\"ticks\":\"\"},\"colorscale\":[[0.0,\"#0d0887\"],[0.1111111111111111,\"#46039f\"],[0.2222222222222222,\"#7201a8\"],[0.3333333333333333,\"#9c179e\"],[0.4444444444444444,\"#bd3786\"],[0.5555555555555556,\"#d8576b\"],[0.6666666666666666,\"#ed7953\"],[0.7777777777777778,\"#fb9f3a\"],[0.8888888888888888,\"#fdca26\"],[1.0,\"#f0f921\"]],\"type\":\"histogram2dcontour\"}],\"mesh3d\":[{\"colorbar\":{\"outlinewidth\":0,\"ticks\":\"\"},\"type\":\"mesh3d\"}],\"parcoords\":[{\"line\":{\"colorbar\":{\"outlinewidth\":0,\"ticks\":\"\"}},\"type\":\"parcoords\"}],\"pie\":[{\"automargin\":true,\"type\":\"pie\"}],\"scatter\":[{\"marker\":{\"colorbar\":{\"outlinewidth\":0,\"ticks\":\"\"}},\"type\":\"scatter\"}],\"scatter3d\":[{\"line\":{\"colorbar\":{\"outlinewidth\":0,\"ticks\":\"\"}},\"marker\":{\"colorbar\":{\"outlinewidth\":0,\"ticks\":\"\"}},\"type\":\"scatter3d\"}],\"scattercarpet\":[{\"marker\":{\"colorbar\":{\"outlinewidth\":0,\"ticks\":\"\"}},\"type\":\"scattercarpet\"}],\"scattergeo\":[{\"marker\":{\"colorbar\":{\"outlinewidth\":0,\"ticks\":\"\"}},\"type\":\"scattergeo\"}],\"scattergl\":[{\"marker\":{\"colorbar\":{\"outlinewidth\":0,\"ticks\":\"\"}},\"type\":\"scattergl\"}],\"scattermapbox\":[{\"marker\":{\"colorbar\":{\"outlinewidth\":0,\"ticks\":\"\"}},\"type\":\"scattermapbox\"}],\"scatterpolar\":[{\"marker\":{\"colorbar\":{\"outlinewidth\":0,\"ticks\":\"\"}},\"type\":\"scatterpolar\"}],\"scatterpolargl\":[{\"marker\":{\"colorbar\":{\"outlinewidth\":0,\"ticks\":\"\"}},\"type\":\"scatterpolargl\"}],\"scatterternary\":[{\"marker\":{\"colorbar\":{\"outlinewidth\":0,\"ticks\":\"\"}},\"type\":\"scatterternary\"}],\"surface\":[{\"colorbar\":{\"outlinewidth\":0,\"ticks\":\"\"},\"colorscale\":[[0.0,\"#0d0887\"],[0.1111111111111111,\"#46039f\"],[0.2222222222222222,\"#7201a8\"],[0.3333333333333333,\"#9c179e\"],[0.4444444444444444,\"#bd3786\"],[0.5555555555555556,\"#d8576b\"],[0.6666666666666666,\"#ed7953\"],[0.7777777777777778,\"#fb9f3a\"],[0.8888888888888888,\"#fdca26\"],[1.0,\"#f0f921\"]],\"type\":\"surface\"}],\"table\":[{\"cells\":{\"fill\":{\"color\":\"#EBF0F8\"},\"line\":{\"color\":\"white\"}},\"header\":{\"fill\":{\"color\":\"#C8D4E3\"},\"line\":{\"color\":\"white\"}},\"type\":\"table\"}]},\"layout\":{\"annotationdefaults\":{\"arrowcolor\":\"#2a3f5f\",\"arrowhead\":0,\"arrowwidth\":1},\"autotypenumbers\":\"strict\",\"coloraxis\":{\"colorbar\":{\"outlinewidth\":0,\"ticks\":\"\"}},\"colorscale\":{\"diverging\":[[0,\"#8e0152\"],[0.1,\"#c51b7d\"],[0.2,\"#de77ae\"],[0.3,\"#f1b6da\"],[0.4,\"#fde0ef\"],[0.5,\"#f7f7f7\"],[0.6,\"#e6f5d0\"],[0.7,\"#b8e186\"],[0.8,\"#7fbc41\"],[0.9,\"#4d9221\"],[1,\"#276419\"]],\"sequential\":[[0.0,\"#0d0887\"],[0.1111111111111111,\"#46039f\"],[0.2222222222222222,\"#7201a8\"],[0.3333333333333333,\"#9c179e\"],[0.4444444444444444,\"#bd3786\"],[0.5555555555555556,\"#d8576b\"],[0.6666666666666666,\"#ed7953\"],[0.7777777777777778,\"#fb9f3a\"],[0.8888888888888888,\"#fdca26\"],[1.0,\"#f0f921\"]],\"sequentialminus\":[[0.0,\"#0d0887\"],[0.1111111111111111,\"#46039f\"],[0.2222222222222222,\"#7201a8\"],[0.3333333333333333,\"#9c179e\"],[0.4444444444444444,\"#bd3786\"],[0.5555555555555556,\"#d8576b\"],[0.6666666666666666,\"#ed7953\"],[0.7777777777777778,\"#fb9f3a\"],[0.8888888888888888,\"#fdca26\"],[1.0,\"#f0f921\"]]},\"colorway\":[\"#636efa\",\"#EF553B\",\"#00cc96\",\"#ab63fa\",\"#FFA15A\",\"#19d3f3\",\"#FF6692\",\"#B6E880\",\"#FF97FF\",\"#FECB52\"],\"font\":{\"color\":\"#2a3f5f\"},\"geo\":{\"bgcolor\":\"white\",\"lakecolor\":\"white\",\"landcolor\":\"#E5ECF6\",\"showlakes\":true,\"showland\":true,\"subunitcolor\":\"white\"},\"hoverlabel\":{\"align\":\"left\"},\"hovermode\":\"closest\",\"mapbox\":{\"style\":\"light\"},\"paper_bgcolor\":\"white\",\"plot_bgcolor\":\"#E5ECF6\",\"polar\":{\"angularaxis\":{\"gridcolor\":\"white\",\"linecolor\":\"white\",\"ticks\":\"\"},\"bgcolor\":\"#E5ECF6\",\"radialaxis\":{\"gridcolor\":\"white\",\"linecolor\":\"white\",\"ticks\":\"\"}},\"scene\":{\"xaxis\":{\"backgroundcolor\":\"#E5ECF6\",\"gridcolor\":\"white\",\"gridwidth\":2,\"linecolor\":\"white\",\"showbackground\":true,\"ticks\":\"\",\"zerolinecolor\":\"white\"},\"yaxis\":{\"backgroundcolor\":\"#E5ECF6\",\"gridcolor\":\"white\",\"gridwidth\":2,\"linecolor\":\"white\",\"showbackground\":true,\"ticks\":\"\",\"zerolinecolor\":\"white\"},\"zaxis\":{\"backgroundcolor\":\"#E5ECF6\",\"gridcolor\":\"white\",\"gridwidth\":2,\"linecolor\":\"white\",\"showbackground\":true,\"ticks\":\"\",\"zerolinecolor\":\"white\"}},\"shapedefaults\":{\"line\":{\"color\":\"#2a3f5f\"}},\"ternary\":{\"aaxis\":{\"gridcolor\":\"white\",\"linecolor\":\"white\",\"ticks\":\"\"},\"baxis\":{\"gridcolor\":\"white\",\"linecolor\":\"white\",\"ticks\":\"\"},\"bgcolor\":\"#E5ECF6\",\"caxis\":{\"gridcolor\":\"white\",\"linecolor\":\"white\",\"ticks\":\"\"}},\"title\":{\"x\":0.05},\"xaxis\":{\"automargin\":true,\"gridcolor\":\"white\",\"linecolor\":\"white\",\"ticks\":\"\",\"title\":{\"standoff\":15},\"zerolinecolor\":\"white\",\"zerolinewidth\":2},\"yaxis\":{\"automargin\":true,\"gridcolor\":\"white\",\"linecolor\":\"white\",\"ticks\":\"\",\"title\":{\"standoff\":15},\"zerolinecolor\":\"white\",\"zerolinewidth\":2}}},\"xaxis\":{\"anchor\":\"y\",\"domain\":[0.0,1.0],\"title\":{\"text\":\"Sub-Sector\"}},\"yaxis\":{\"anchor\":\"x\",\"domain\":[0.0,1.0],\"title\":{\"text\":\"Name\"}},\"legend\":{\"tracegroupgap\":0},\"margin\":{\"t\":60},\"barmode\":\"relative\"},                        {\"responsive\": true}                    ).then(function(){\n",
              "                            \n",
              "var gd = document.getElementById('97edb538-b24f-48b4-866e-bcb45a2c619b');\n",
              "var x = new MutationObserver(function (mutations, observer) {{\n",
              "        var display = window.getComputedStyle(gd).display;\n",
              "        if (!display || display === 'none') {{\n",
              "            console.log([gd, 'removed!']);\n",
              "            Plotly.purge(gd);\n",
              "            observer.disconnect();\n",
              "        }}\n",
              "}});\n",
              "\n",
              "// Listen for the removal of the full notebook cells\n",
              "var notebookContainer = gd.closest('#notebook-container');\n",
              "if (notebookContainer) {{\n",
              "    x.observe(notebookContainer, {childList: true});\n",
              "}}\n",
              "\n",
              "// Listen for the clearing of the current output cell\n",
              "var outputEl = gd.closest('.output');\n",
              "if (outputEl) {{\n",
              "    x.observe(outputEl, {childList: true});\n",
              "}}\n",
              "\n",
              "                        })                };                            </script>        </div>\n",
              "</body>\n",
              "</html>"
            ]
          },
          "metadata": {}
        }
      ]
    },
    {
      "cell_type": "code",
      "source": [
        "#plot top 20 sub-secotr\n",
        "df['Sub-Sector'].value_counts().sort_values(ascending=False)[:20].plot(kind='pie',autopct=\"%.2f\")"
      ],
      "metadata": {
        "colab": {
          "base_uri": "https://localhost:8080/",
          "height": 265
        },
        "id": "JYYM-fPfRRXE",
        "outputId": "2bbba27c-1ad0-47c5-9ba2-3be398dddc98"
      },
      "execution_count": 85,
      "outputs": [
        {
          "output_type": "execute_result",
          "data": {
            "text/plain": [
              "<matplotlib.axes._subplots.AxesSubplot at 0x7f671ccca710>"
            ]
          },
          "metadata": {},
          "execution_count": 85
        },
        {
          "output_type": "display_data",
          "data": {
            "text/plain": [
              "<Figure size 432x288 with 1 Axes>"
            ],
            "image/png": "[encoded data removed]"
          },
          "metadata": {}
        }
      ]
    },
    {
      "cell_type": "markdown",
      "source": [
        "# **Problem 2**"
      ],
      "metadata": {
        "id": "r-0XhwjuSr4b"
      }
    },
    {
      "cell_type": "code",
      "source": [
        "df.head()"
      ],
      "metadata": {
        "colab": {
          "base_uri": "https://localhost:8080/",
          "height": 513
        },
        "id": "kl21ZftSS2-l",
        "outputId": "95257b5a-7c18-406a-ad91-2c1fbf260643"
      },
      "execution_count": 86,
      "outputs": [
        {
          "output_type": "execute_result",
          "data": {
            "text/plain": [
              "                            Name     Ticker                       Sub-Sector  \\\n",
              "0        Reliance Industries Ltd   RELIANCE  Oil & Gas - Reﬁning & Marketing   \n",
              "1  Tata Consultancy Services Ltd        TCS         IT Services & Consulting   \n",
              "2                  HDFC Bank Ltd   HDFCBANK                    Private Banks   \n",
              "3                    Infosys Ltd       INFY         IT Services & Consulting   \n",
              "4                 ICICI Bank Ltd  ICICIBANK                    Private Banks   \n",
              "\n",
              "     Market Cap  Close Price   PE Ratio  Return on Equity  Return on Assets  \\\n",
              "0  1.679534e+06      2467.40  34.186904          7.793277          3.957021   \n",
              "1  1.358569e+06      3626.70  41.892356         37.740680         25.932382   \n",
              "2  8.206363e+05      1486.50  25.779258         16.435200          1.883433   \n",
              "3  7.775010e+05      1853.05  40.178853         27.135305         19.417895   \n",
              "4  5.002790e+05       710.75  27.212283         12.382897          1.243333   \n",
              "\n",
              "   Net Proﬁt Margin  5Y Avg EBITDA Margin  EBITDA Margin  1Y Return vs Nifty  \\\n",
              "0          9.725370             17.720494      20.433809            2.412295   \n",
              "1         19.383065             29.072528      28.965220            2.801648   \n",
              "2         20.420916             28.206116      28.342094          -16.833310   \n",
              "3         18.847214             28.656802      29.306634           21.730844   \n",
              "4         11.395012             11.900543      16.963554            5.055258   \n",
              "\n",
              "     5Y CAGR  Debt to Equity  Long Term Debt to Equity  \n",
              "0  31.316180       33.855037                 22.831210  \n",
              "1  23.874994        8.948661                  7.465445  \n",
              "2  15.587857      140.604756                 78.129701  \n",
              "3  29.114535        6.935219                  5.974056  \n",
              "4  23.506987      140.604756                 78.129701  "
            ],
            "text/html": [
              "\n",
              "  <div id=\"df-b1de5b1d-238a-4a83-8b05-fe027585c722\">\n",
              "    <div class=\"colab-df-container\">\n",
              "      <div>\n",
              "<style scoped>\n",
              "    .dataframe tbody tr th:only-of-type {\n",
              "        vertical-align: middle;\n",
              "    }\n",
              "\n",
              "    .dataframe tbody tr th {\n",
              "        vertical-align: top;\n",
              "    }\n",
              "\n",
              "    .dataframe thead th {\n",
              "        text-align: right;\n",
              "    }\n",
              "</style>\n",
              "<table border=\"1\" class=\"dataframe\">\n",
              "  <thead>\n",
              "    <tr style=\"text-align: right;\">\n",
              "      <th></th>\n",
              "      <th>Name</th>\n",
              "      <th>Ticker</th>\n",
              "      <th>Sub-Sector</th>\n",
              "      <th>Market Cap</th>\n",
              "      <th>Close Price</th>\n",
              "      <th>PE Ratio</th>\n",
              "      <th>Return on Equity</th>\n",
              "      <th>Return on Assets</th>\n",
              "      <th>Net Proﬁt Margin</th>\n",
              "      <th>5Y Avg EBITDA Margin</th>\n",
              "      <th>EBITDA Margin</th>\n",
              "      <th>1Y Return vs Nifty</th>\n",
              "      <th>5Y CAGR</th>\n",
              "      <th>Debt to Equity</th>\n",
              "      <th>Long Term Debt to Equity</th>\n",
              "    </tr>\n",
              "  </thead>\n",
              "  <tbody>\n",
              "    <tr>\n",
              "      <th>0</th>\n",
              "      <td>Reliance Industries Ltd</td>\n",
              "      <td>RELIANCE</td>\n",
              "      <td>Oil &amp; Gas - Reﬁning &amp; Marketing</td>\n",
              "      <td>1.679534e+06</td>\n",
              "      <td>2467.40</td>\n",
              "      <td>34.186904</td>\n",
              "      <td>7.793277</td>\n",
              "      <td>3.957021</td>\n",
              "      <td>9.725370</td>\n",
              "      <td>17.720494</td>\n",
              "      <td>20.433809</td>\n",
              "      <td>2.412295</td>\n",
              "      <td>31.316180</td>\n",
              "      <td>33.855037</td>\n",
              "      <td>22.831210</td>\n",
              "    </tr>\n",
              "    <tr>\n",
              "      <th>1</th>\n",
              "      <td>Tata Consultancy Services Ltd</td>\n",
              "      <td>TCS</td>\n",
              "      <td>IT Services &amp; Consulting</td>\n",
              "      <td>1.358569e+06</td>\n",
              "      <td>3626.70</td>\n",
              "      <td>41.892356</td>\n",
              "      <td>37.740680</td>\n",
              "      <td>25.932382</td>\n",
              "      <td>19.383065</td>\n",
              "      <td>29.072528</td>\n",
              "      <td>28.965220</td>\n",
              "      <td>2.801648</td>\n",
              "      <td>23.874994</td>\n",
              "      <td>8.948661</td>\n",
              "      <td>7.465445</td>\n",
              "    </tr>\n",
              "    <tr>\n",
              "      <th>2</th>\n",
              "      <td>HDFC Bank Ltd</td>\n",
              "      <td>HDFCBANK</td>\n",
              "      <td>Private Banks</td>\n",
              "      <td>8.206363e+05</td>\n",
              "      <td>1486.50</td>\n",
              "      <td>25.779258</td>\n",
              "      <td>16.435200</td>\n",
              "      <td>1.883433</td>\n",
              "      <td>20.420916</td>\n",
              "      <td>28.206116</td>\n",
              "      <td>28.342094</td>\n",
              "      <td>-16.833310</td>\n",
              "      <td>15.587857</td>\n",
              "      <td>140.604756</td>\n",
              "      <td>78.129701</td>\n",
              "    </tr>\n",
              "    <tr>\n",
              "      <th>3</th>\n",
              "      <td>Infosys Ltd</td>\n",
              "      <td>INFY</td>\n",
              "      <td>IT Services &amp; Consulting</td>\n",
              "      <td>7.775010e+05</td>\n",
              "      <td>1853.05</td>\n",
              "      <td>40.178853</td>\n",
              "      <td>27.135305</td>\n",
              "      <td>19.417895</td>\n",
              "      <td>18.847214</td>\n",
              "      <td>28.656802</td>\n",
              "      <td>29.306634</td>\n",
              "      <td>21.730844</td>\n",
              "      <td>29.114535</td>\n",
              "      <td>6.935219</td>\n",
              "      <td>5.974056</td>\n",
              "    </tr>\n",
              "    <tr>\n",
              "      <th>4</th>\n",
              "      <td>ICICI Bank Ltd</td>\n",
              "      <td>ICICIBANK</td>\n",
              "      <td>Private Banks</td>\n",
              "      <td>5.002790e+05</td>\n",
              "      <td>710.75</td>\n",
              "      <td>27.212283</td>\n",
              "      <td>12.382897</td>\n",
              "      <td>1.243333</td>\n",
              "      <td>11.395012</td>\n",
              "      <td>11.900543</td>\n",
              "      <td>16.963554</td>\n",
              "      <td>5.055258</td>\n",
              "      <td>23.506987</td>\n",
              "      <td>140.604756</td>\n",
              "      <td>78.129701</td>\n",
              "    </tr>\n",
              "  </tbody>\n",
              "</table>\n",
              "</div>\n",
              "      <button class=\"colab-df-convert\" onclick=\"convertToInteractive('df-b1de5b1d-238a-4a83-8b05-fe027585c722')\"\n",
              "              title=\"Convert this dataframe to an interactive table.\"\n",
              "              style=\"display:none;\">\n",
              "        \n",
              "  <svg xmlns=\"http://www.w3.org/2000/svg\" height=\"24px\"viewBox=\"0 0 24 24\"\n",
              "       width=\"24px\">\n",
              "    <path d=\"M0 0h24v24H0V0z\" fill=\"none\"/>\n",
              "    <path d=\"M18.56 5.44l.94 2.06.94-2.06 2.06-.94-2.06-.94-.94-2.06-.94 2.06-2.06.94zm-11 1L8.5 8.5l.94-2.06 2.06-.94-2.06-.94L8.5 2.5l-.94 2.06-2.06.94zm10 10l.94 2.06.94-2.06 2.06-.94-2.06-.94-.94-2.06-.94 2.06-2.06.94z\"/><path d=\"M17.41 7.96l-1.37-1.37c-.4-.4-.92-.59-1.43-.59-.52 0-1.04.2-1.43.59L10.3 9.45l-7.72 7.72c-.78.78-.78 2.05 0 2.83L4 21.41c.39.39.9.59 1.41.59.51 0 1.02-.2 1.41-.59l7.78-7.78 2.81-2.81c.8-.78.8-2.07 0-2.86zM5.41 20L4 18.59l7.72-7.72 1.47 1.35L5.41 20z\"/>\n",
              "  </svg>\n",
              "      </button>\n",
              "      \n",
              "  <style>\n",
              "    .colab-df-container {\n",
              "      display:flex;\n",
              "      flex-wrap:wrap;\n",
              "      gap: 12px;\n",
              "    }\n",
              "\n",
              "    .colab-df-convert {\n",
              "      background-color: #E8F0FE;\n",
              "      border: none;\n",
              "      border-radius: 50%;\n",
              "      cursor: pointer;\n",
              "      display: none;\n",
              "      fill: #1967D2;\n",
              "      height: 32px;\n",
              "      padding: 0 0 0 0;\n",
              "      width: 32px;\n",
              "    }\n",
              "\n",
              "    .colab-df-convert:hover {\n",
              "      background-color: #E2EBFA;\n",
              "      box-shadow: 0px 1px 2px rgba(60, 64, 67, 0.3), 0px 1px 3px 1px rgba(60, 64, 67, 0.15);\n",
              "      fill: #174EA6;\n",
              "    }\n",
              "\n",
              "    [theme=dark] .colab-df-convert {\n",
              "      background-color: #3B4455;\n",
              "      fill: #D2E3FC;\n",
              "    }\n",
              "\n",
              "    [theme=dark] .colab-df-convert:hover {\n",
              "      background-color: #434B5C;\n",
              "      box-shadow: 0px 1px 3px 1px rgba(0, 0, 0, 0.15);\n",
              "      filter: drop-shadow(0px 1px 2px rgba(0, 0, 0, 0.3));\n",
              "      fill: #FFFFFF;\n",
              "    }\n",
              "  </style>\n",
              "\n",
              "      <script>\n",
              "        const buttonEl =\n",
              "          document.querySelector('#df-b1de5b1d-238a-4a83-8b05-fe027585c722 button.colab-df-convert');\n",
              "        buttonEl.style.display =\n",
              "          google.colab.kernel.accessAllowed ? 'block' : 'none';\n",
              "\n",
              "        async function convertToInteractive(key) {\n",
              "          const element = document.querySelector('#df-b1de5b1d-238a-4a83-8b05-fe027585c722');\n",
              "          const dataTable =\n",
              "            await google.colab.kernel.invokeFunction('convertToInteractive',\n",
              "                                                     [key], {});\n",
              "          if (!dataTable) return;\n",
              "\n",
              "          const docLinkHtml = 'Like what you see? Visit the ' +\n",
              "            '<a target=\"_blank\" href=https://colab.research.google.com/notebooks/data_table.ipynb>data table notebook</a>'\n",
              "            + ' to learn more about interactive tables.';\n",
              "          element.innerHTML = '';\n",
              "          dataTable['output_type'] = 'display_data';\n",
              "          await google.colab.output.renderOutput(dataTable, element);\n",
              "          const docLink = document.createElement('div');\n",
              "          docLink.innerHTML = docLinkHtml;\n",
              "          element.appendChild(docLink);\n",
              "        }\n",
              "      </script>\n",
              "    </div>\n",
              "  </div>\n",
              "  "
            ]
          },
          "metadata": {},
          "execution_count": 86
        }
      ]
    },
    {
      "cell_type": "code",
      "source": [
        "df['Market Cap'].max()"
      ],
      "metadata": {
        "colab": {
          "base_uri": "https://localhost:8080/"
        },
        "id": "RMtjoIGETEEk",
        "outputId": "9011bfc6-4149-4f6f-ef9e-7abcd692aef3"
      },
      "execution_count": 87,
      "outputs": [
        {
          "output_type": "execute_result",
          "data": {
            "text/plain": [
              "1679534.21"
            ]
          },
          "metadata": {},
          "execution_count": 87
        }
      ]
    },
    {
      "cell_type": "code",
      "source": [
        "df['Market_Cap_Categories']=np.where(df['Market Cap']>20000,'Large',np.where(df['Market Cap']<5000,'Small','Meduim'))"
      ],
      "metadata": {
        "id": "IYRgjPZnSCle"
      },
      "execution_count": 88,
      "outputs": []
    },
    {
      "cell_type": "code",
      "source": [
        "plt.figure(figsize=(16,6))\n",
        "plt.subplot(1,2,1)\n",
        "sns.countplot(df['Market_Cap_Categories'])\n",
        "plt.subplot(1,2,2)\n",
        "df['Market_Cap_Categories'].value_counts().plot(kind='pie',autopct=\"%.2f\")"
      ],
      "metadata": {
        "colab": {
          "base_uri": "https://localhost:8080/",
          "height": 496
        },
        "id": "4eIfHtgEUOYM",
        "outputId": "0be19efe-da50-45c0-c956-049ecdf86712"
      },
      "execution_count": 110,
      "outputs": [
        {
          "output_type": "stream",
          "name": "stderr",
          "text": [
            "/usr/local/lib/python3.7/dist-packages/seaborn/_decorators.py:43: FutureWarning:\n",
            "\n",
            "Pass the following variable as a keyword arg: x. From version 0.12, the only valid positional argument will be `data`, and passing other arguments without an explicit keyword will result in an error or misinterpretation.\n",
            "\n"
          ]
        },
        {
          "output_type": "execute_result",
          "data": {
            "text/plain": [
              "<matplotlib.axes._subplots.AxesSubplot at 0x7f6716e2e450>"
            ]
          },
          "metadata": {},
          "execution_count": 110
        },
        {
          "output_type": "display_data",
          "data": {
            "text/plain": [
              "<Figure size 1152x432 with 2 Axes>"
            ],
            "image/png": "[encoded data removed]"
          },
          "metadata": {
            "needs_background": "light"
          }
        }
      ]
    },
    {
      "cell_type": "markdown",
      "source": [
        "# **Problem 3**\n",
        "\n",
        "**V=(EPS*(8.5+2g)*6)/Y**\n",
        "\n",
        "V : Intrinsic Value\n",
        "EPS : The Company’s last 12 month earnings per\n",
        "share\n",
        "\n",
        "8.5 : The constant represents the appropriate \n",
        "\n",
        "P-E ratio for a no-growth\n",
        " company as proposed by Graham.\n",
        "\n",
        "g : The company's long-term (five years) earnings growth estimate\n",
        "\n",
        "6 : The average Return of FDs (6%)\n",
        "\n",
        "Y : The current yield on AAA corporate bonds"
      ],
      "metadata": {
        "id": "bEwaUqhNFqhh"
      }
    },
    {
      "cell_type": "code",
      "source": [
        "#take 10 random company from data\n",
        "company_10=df.sample(10)"
      ],
      "metadata": {
        "id": "3hgEAIYrWYp2"
      },
      "execution_count": 90,
      "outputs": []
    },
    {
      "cell_type": "code",
      "source": [
        "company_10.head()"
      ],
      "metadata": {
        "colab": {
          "base_uri": "https://localhost:8080/",
          "height": 478
        },
        "id": "-I7xUAm5GYZn",
        "outputId": "674bc72a-fdb9-4053-8c04-c44a4eb36d0c"
      },
      "execution_count": 91,
      "outputs": [
        {
          "output_type": "execute_result",
          "data": {
            "text/plain": [
              "                            Name      Ticker                      Sub-Sector  \\\n",
              "1643        Hindustan Motors Ltd  HINDMOTORS                   Four Wheelers   \n",
              "1906  United Polyfab Gujarat Ltd  UNITEDPOLY                        Textiles   \n",
              "772   S H Kelkar and Company Ltd         SHK             Specialty Chemicals   \n",
              "1519      Jaykay Enterprises Ltd      JAYKAY  Investment Banking & Brokerage   \n",
              "1438          Maral Overseas Ltd   MARALOVER                        Textiles   \n",
              "\n",
              "       Market Cap  Close Price    PE Ratio  Return on Equity  \\\n",
              "1643   242.044780        11.90   64.202859          5.224347   \n",
              "1906   152.108253        69.00  286.996704          1.147186   \n",
              "772   1987.722702       142.65   13.736854         16.175550   \n",
              "1519   305.780219        64.30   11.747223         33.053968   \n",
              "1438   375.024780        89.20   29.906282         13.825799   \n",
              "\n",
              "      Return on Assets  Net Proﬁt Margin  5Y Avg EBITDA Margin  EBITDA Margin  \\\n",
              "1643         13.531945         30.952381             38.541759      58.702791   \n",
              "1906          0.293377          0.252189             11.918643      11.443662   \n",
              "772           8.663944         10.587469             16.211708      20.141800   \n",
              "1519         31.397383         83.003827             33.148461      83.418367   \n",
              "1438          2.868843          1.959865              6.892502       9.599275   \n",
              "\n",
              "      1Y Return vs Nifty    5Y CAGR  Debt to Equity  Long Term Debt to Equity  \\\n",
              "1643           56.365016   4.280698      140.604756                 78.129701   \n",
              "1906          406.628521  66.452785      190.015063                187.540349   \n",
              "772             7.461231 -13.889814       54.232796                 34.736059   \n",
              "1519           78.454954  62.815194        0.000000                  0.000000   \n",
              "1438          175.404516  19.732312      201.597542                 49.052739   \n",
              "\n",
              "     Market_Cap_Categories  \n",
              "1643                 Small  \n",
              "1906                 Small  \n",
              "772                  Small  \n",
              "1519                 Small  \n",
              "1438                 Small  "
            ],
            "text/html": [
              "\n",
              "  <div id=\"df-b2ad3d99-05a6-420c-87a3-cd7f4fbb0abb\">\n",
              "    <div class=\"colab-df-container\">\n",
              "      <div>\n",
              "<style scoped>\n",
              "    .dataframe tbody tr th:only-of-type {\n",
              "        vertical-align: middle;\n",
              "    }\n",
              "\n",
              "    .dataframe tbody tr th {\n",
              "        vertical-align: top;\n",
              "    }\n",
              "\n",
              "    .dataframe thead th {\n",
              "        text-align: right;\n",
              "    }\n",
              "</style>\n",
              "<table border=\"1\" class=\"dataframe\">\n",
              "  <thead>\n",
              "    <tr style=\"text-align: right;\">\n",
              "      <th></th>\n",
              "      <th>Name</th>\n",
              "      <th>Ticker</th>\n",
              "      <th>Sub-Sector</th>\n",
              "      <th>Market Cap</th>\n",
              "      <th>Close Price</th>\n",
              "      <th>PE Ratio</th>\n",
              "      <th>Return on Equity</th>\n",
              "      <th>Return on Assets</th>\n",
              "      <th>Net Proﬁt Margin</th>\n",
              "      <th>5Y Avg EBITDA Margin</th>\n",
              "      <th>EBITDA Margin</th>\n",
              "      <th>1Y Return vs Nifty</th>\n",
              "      <th>5Y CAGR</th>\n",
              "      <th>Debt to Equity</th>\n",
              "      <th>Long Term Debt to Equity</th>\n",
              "      <th>Market_Cap_Categories</th>\n",
              "    </tr>\n",
              "  </thead>\n",
              "  <tbody>\n",
              "    <tr>\n",
              "      <th>1643</th>\n",
              "      <td>Hindustan Motors Ltd</td>\n",
              "      <td>HINDMOTORS</td>\n",
              "      <td>Four Wheelers</td>\n",
              "      <td>242.044780</td>\n",
              "      <td>11.90</td>\n",
              "      <td>64.202859</td>\n",
              "      <td>5.224347</td>\n",
              "      <td>13.531945</td>\n",
              "      <td>30.952381</td>\n",
              "      <td>38.541759</td>\n",
              "      <td>58.702791</td>\n",
              "      <td>56.365016</td>\n",
              "      <td>4.280698</td>\n",
              "      <td>140.604756</td>\n",
              "      <td>78.129701</td>\n",
              "      <td>Small</td>\n",
              "    </tr>\n",
              "    <tr>\n",
              "      <th>1906</th>\n",
              "      <td>United Polyfab Gujarat Ltd</td>\n",
              "      <td>UNITEDPOLY</td>\n",
              "      <td>Textiles</td>\n",
              "      <td>152.108253</td>\n",
              "      <td>69.00</td>\n",
              "      <td>286.996704</td>\n",
              "      <td>1.147186</td>\n",
              "      <td>0.293377</td>\n",
              "      <td>0.252189</td>\n",
              "      <td>11.918643</td>\n",
              "      <td>11.443662</td>\n",
              "      <td>406.628521</td>\n",
              "      <td>66.452785</td>\n",
              "      <td>190.015063</td>\n",
              "      <td>187.540349</td>\n",
              "      <td>Small</td>\n",
              "    </tr>\n",
              "    <tr>\n",
              "      <th>772</th>\n",
              "      <td>S H Kelkar and Company Ltd</td>\n",
              "      <td>SHK</td>\n",
              "      <td>Specialty Chemicals</td>\n",
              "      <td>1987.722702</td>\n",
              "      <td>142.65</td>\n",
              "      <td>13.736854</td>\n",
              "      <td>16.175550</td>\n",
              "      <td>8.663944</td>\n",
              "      <td>10.587469</td>\n",
              "      <td>16.211708</td>\n",
              "      <td>20.141800</td>\n",
              "      <td>7.461231</td>\n",
              "      <td>-13.889814</td>\n",
              "      <td>54.232796</td>\n",
              "      <td>34.736059</td>\n",
              "      <td>Small</td>\n",
              "    </tr>\n",
              "    <tr>\n",
              "      <th>1519</th>\n",
              "      <td>Jaykay Enterprises Ltd</td>\n",
              "      <td>JAYKAY</td>\n",
              "      <td>Investment Banking &amp; Brokerage</td>\n",
              "      <td>305.780219</td>\n",
              "      <td>64.30</td>\n",
              "      <td>11.747223</td>\n",
              "      <td>33.053968</td>\n",
              "      <td>31.397383</td>\n",
              "      <td>83.003827</td>\n",
              "      <td>33.148461</td>\n",
              "      <td>83.418367</td>\n",
              "      <td>78.454954</td>\n",
              "      <td>62.815194</td>\n",
              "      <td>0.000000</td>\n",
              "      <td>0.000000</td>\n",
              "      <td>Small</td>\n",
              "    </tr>\n",
              "    <tr>\n",
              "      <th>1438</th>\n",
              "      <td>Maral Overseas Ltd</td>\n",
              "      <td>MARALOVER</td>\n",
              "      <td>Textiles</td>\n",
              "      <td>375.024780</td>\n",
              "      <td>89.20</td>\n",
              "      <td>29.906282</td>\n",
              "      <td>13.825799</td>\n",
              "      <td>2.868843</td>\n",
              "      <td>1.959865</td>\n",
              "      <td>6.892502</td>\n",
              "      <td>9.599275</td>\n",
              "      <td>175.404516</td>\n",
              "      <td>19.732312</td>\n",
              "      <td>201.597542</td>\n",
              "      <td>49.052739</td>\n",
              "      <td>Small</td>\n",
              "    </tr>\n",
              "  </tbody>\n",
              "</table>\n",
              "</div>\n",
              "      <button class=\"colab-df-convert\" onclick=\"convertToInteractive('df-b2ad3d99-05a6-420c-87a3-cd7f4fbb0abb')\"\n",
              "              title=\"Convert this dataframe to an interactive table.\"\n",
              "              style=\"display:none;\">\n",
              "        \n",
              "  <svg xmlns=\"http://www.w3.org/2000/svg\" height=\"24px\"viewBox=\"0 0 24 24\"\n",
              "       width=\"24px\">\n",
              "    <path d=\"M0 0h24v24H0V0z\" fill=\"none\"/>\n",
              "    <path d=\"M18.56 5.44l.94 2.06.94-2.06 2.06-.94-2.06-.94-.94-2.06-.94 2.06-2.06.94zm-11 1L8.5 8.5l.94-2.06 2.06-.94-2.06-.94L8.5 2.5l-.94 2.06-2.06.94zm10 10l.94 2.06.94-2.06 2.06-.94-2.06-.94-.94-2.06-.94 2.06-2.06.94z\"/><path d=\"M17.41 7.96l-1.37-1.37c-.4-.4-.92-.59-1.43-.59-.52 0-1.04.2-1.43.59L10.3 9.45l-7.72 7.72c-.78.78-.78 2.05 0 2.83L4 21.41c.39.39.9.59 1.41.59.51 0 1.02-.2 1.41-.59l7.78-7.78 2.81-2.81c.8-.78.8-2.07 0-2.86zM5.41 20L4 18.59l7.72-7.72 1.47 1.35L5.41 20z\"/>\n",
              "  </svg>\n",
              "      </button>\n",
              "      \n",
              "  <style>\n",
              "    .colab-df-container {\n",
              "      display:flex;\n",
              "      flex-wrap:wrap;\n",
              "      gap: 12px;\n",
              "    }\n",
              "\n",
              "    .colab-df-convert {\n",
              "      background-color: #E8F0FE;\n",
              "      border: none;\n",
              "      border-radius: 50%;\n",
              "      cursor: pointer;\n",
              "      display: none;\n",
              "      fill: #1967D2;\n",
              "      height: 32px;\n",
              "      padding: 0 0 0 0;\n",
              "      width: 32px;\n",
              "    }\n",
              "\n",
              "    .colab-df-convert:hover {\n",
              "      background-color: #E2EBFA;\n",
              "      box-shadow: 0px 1px 2px rgba(60, 64, 67, 0.3), 0px 1px 3px 1px rgba(60, 64, 67, 0.15);\n",
              "      fill: #174EA6;\n",
              "    }\n",
              "\n",
              "    [theme=dark] .colab-df-convert {\n",
              "      background-color: #3B4455;\n",
              "      fill: #D2E3FC;\n",
              "    }\n",
              "\n",
              "    [theme=dark] .colab-df-convert:hover {\n",
              "      background-color: #434B5C;\n",
              "      box-shadow: 0px 1px 3px 1px rgba(0, 0, 0, 0.15);\n",
              "      filter: drop-shadow(0px 1px 2px rgba(0, 0, 0, 0.3));\n",
              "      fill: #FFFFFF;\n",
              "    }\n",
              "  </style>\n",
              "\n",
              "      <script>\n",
              "        const buttonEl =\n",
              "          document.querySelector('#df-b2ad3d99-05a6-420c-87a3-cd7f4fbb0abb button.colab-df-convert');\n",
              "        buttonEl.style.display =\n",
              "          google.colab.kernel.accessAllowed ? 'block' : 'none';\n",
              "\n",
              "        async function convertToInteractive(key) {\n",
              "          const element = document.querySelector('#df-b2ad3d99-05a6-420c-87a3-cd7f4fbb0abb');\n",
              "          const dataTable =\n",
              "            await google.colab.kernel.invokeFunction('convertToInteractive',\n",
              "                                                     [key], {});\n",
              "          if (!dataTable) return;\n",
              "\n",
              "          const docLinkHtml = 'Like what you see? Visit the ' +\n",
              "            '<a target=\"_blank\" href=https://colab.research.google.com/notebooks/data_table.ipynb>data table notebook</a>'\n",
              "            + ' to learn more about interactive tables.';\n",
              "          element.innerHTML = '';\n",
              "          dataTable['output_type'] = 'display_data';\n",
              "          await google.colab.output.renderOutput(dataTable, element);\n",
              "          const docLink = document.createElement('div');\n",
              "          docLink.innerHTML = docLinkHtml;\n",
              "          element.appendChild(docLink);\n",
              "        }\n",
              "      </script>\n",
              "    </div>\n",
              "  </div>\n",
              "  "
            ]
          },
          "metadata": {},
          "execution_count": 91
        }
      ]
    },
    {
      "cell_type": "markdown",
      "source": [
        "**Intrinsic Value for g(growth) good (15% growth)**"
      ],
      "metadata": {
        "id": "XQLJ3qhvGj0a"
      }
    },
    {
      "cell_type": "code",
      "source": [
        "company_10['Intrinsic_Value_good']=(company_10['PE Ratio']*(8.5+15)*6)/5\n",
        "plt.plot(company_10['Intrinsic_Value_good'],company_10['Market Cap'],color='blue')"
      ],
      "metadata": {
        "colab": {
          "base_uri": "https://localhost:8080/",
          "height": 282
        },
        "id": "Q-3x7B3pGid9",
        "outputId": "e278b717-4fa5-48f4-add1-de87a1841bb6"
      },
      "execution_count": 96,
      "outputs": [
        {
          "output_type": "execute_result",
          "data": {
            "text/plain": [
              "[<matplotlib.lines.Line2D at 0x7f671c9205d0>]"
            ]
          },
          "metadata": {},
          "execution_count": 96
        },
        {
          "output_type": "display_data",
          "data": {
            "text/plain": [
              "<Figure size 432x288 with 1 Axes>"
            ],
            "image/png": "[encoded data removed]"
          },
          "metadata": {
            "needs_background": "light"
          }
        }
      ]
    },
    {
      "cell_type": "markdown",
      "source": [
        "**Intrinsic Value for g(growth) bad (-5% growth)**"
      ],
      "metadata": {
        "id": "_Mb2lGQGIvcb"
      }
    },
    {
      "cell_type": "code",
      "source": [
        "company_10['Intrinsic_Value_bad']=(company_10['PE Ratio']*(8.5-5)*6)/5\n",
        "plt.plot(company_10['Intrinsic_Value_bad'],company_10['Market Cap'],color='red')"
      ],
      "metadata": {
        "colab": {
          "base_uri": "https://localhost:8080/",
          "height": 282
        },
        "id": "6sX1oBZNGiah",
        "outputId": "17e3eeea-780d-4152-8339-edad0b418ba0"
      },
      "execution_count": 97,
      "outputs": [
        {
          "output_type": "execute_result",
          "data": {
            "text/plain": [
              "[<matplotlib.lines.Line2D at 0x7f671c904510>]"
            ]
          },
          "metadata": {},
          "execution_count": 97
        },
        {
          "output_type": "display_data",
          "data": {
            "text/plain": [
              "<Figure size 432x288 with 1 Axes>"
            ],
            "image/png": "[encoded data removed]"
          },
          "metadata": {
            "needs_background": "light"
          }
        }
      ]
    },
    {
      "cell_type": "markdown",
      "source": [
        "**trinsic Value for g(growth) best (25% growth)**"
      ],
      "metadata": {
        "id": "-NXFkvRGJcIz"
      }
    },
    {
      "cell_type": "code",
      "source": [
        "company_10['Intrinsic_Value_best']=(company_10['PE Ratio']*(8.5+25)*6)/5\n",
        "plt.plot(company_10['Intrinsic_Value_best'],company_10['Market Cap'],color='green')"
      ],
      "metadata": {
        "colab": {
          "base_uri": "https://localhost:8080/",
          "height": 282
        },
        "id": "3Y_lWI_YGiXt",
        "outputId": "5dd00525-c308-4032-bcda-4d6c7649364c"
      },
      "execution_count": 98,
      "outputs": [
        {
          "output_type": "execute_result",
          "data": {
            "text/plain": [
              "[<matplotlib.lines.Line2D at 0x7f671c86f2d0>]"
            ]
          },
          "metadata": {},
          "execution_count": 98
        },
        {
          "output_type": "display_data",
          "data": {
            "text/plain": [
              "<Figure size 432x288 with 1 Axes>"
            ],
            "image/png": "[encoded data removed]"
          },
          "metadata": {
            "needs_background": "light"
          }
        }
      ]
    },
    {
      "cell_type": "code",
      "source": [
        "#visualize all together\n",
        "plt.figure(figsize=(16,6))\n",
        "plt.plot(company_10['Intrinsic_Value_bad'],company_10['Market Cap'],color='red')\n",
        "plt.plot(company_10['Intrinsic_Value_good'],company_10['Market Cap'],color='blue')\n",
        "plt.plot(company_10['Intrinsic_Value_best'],company_10['Market Cap'],color='green')"
      ],
      "metadata": {
        "colab": {
          "base_uri": "https://localhost:8080/",
          "height": 391
        },
        "id": "dGX5tqpAGiMz",
        "outputId": "252eeab6-fcc3-4e9c-e4f8-3359d2a742f2"
      },
      "execution_count": 99,
      "outputs": [
        {
          "output_type": "execute_result",
          "data": {
            "text/plain": [
              "[<matplotlib.lines.Line2D at 0x7f671c7e43d0>]"
            ]
          },
          "metadata": {},
          "execution_count": 99
        },
        {
          "output_type": "display_data",
          "data": {
            "text/plain": [
              "<Figure size 1152x432 with 1 Axes>"
            ],
            "image/png": "[encoded data removed]"
          },
          "metadata": {
            "needs_background": "light"
          }
        }
      ]
    },
    {
      "cell_type": "code",
      "source": [
        ""
      ],
      "metadata": {
        "id": "JQuyUByWNwkv"
      },
      "execution_count": 95,
      "outputs": []
    },
    {
      "cell_type": "code",
      "source": [
        ""
      ],
      "metadata": {
        "id": "GkVaZ3YWNwhN"
      },
      "execution_count": 95,
      "outputs": []
    },
    {
      "cell_type": "code",
      "source": [
        ""
      ],
      "metadata": {
        "id": "P6T--7o8NweN"
      },
      "execution_count": 95,
      "outputs": []
    },
    {
      "cell_type": "code",
      "source": [
        ""
      ],
      "metadata": {
        "id": "u0mc4dLPNwb9"
      },
      "execution_count": 95,
      "outputs": []
    },
    {
      "cell_type": "code",
      "source": [
        ""
      ],
      "metadata": {
        "id": "XFHGeH3_NwYJ"
      },
      "execution_count": 95,
      "outputs": []
    },
    {
      "cell_type": "code",
      "source": [
        ""
      ],
      "metadata": {
        "id": "LjJUuknMNwVM"
      },
      "execution_count": 95,
      "outputs": []
    },
    {
      "cell_type": "code",
      "source": [
        ""
      ],
      "metadata": {
        "id": "bx9tZDjUNwSQ"
      },
      "execution_count": 95,
      "outputs": []
    },
    {
      "cell_type": "code",
      "source": [
        ""
      ],
      "metadata": {
        "id": "77atjPaBGiKJ"
      },
      "execution_count": 95,
      "outputs": []
    },
    {
      "cell_type": "code",
      "source": [
        ""
      ],
      "metadata": {
        "id": "F6b0dcdcGiHl"
      },
      "execution_count": 95,
      "outputs": []
    },
    {
      "cell_type": "code",
      "source": [
        ""
      ],
      "metadata": {
        "id": "MnItWet1GiEu"
      },
      "execution_count": 95,
      "outputs": []
    }
  ]
}